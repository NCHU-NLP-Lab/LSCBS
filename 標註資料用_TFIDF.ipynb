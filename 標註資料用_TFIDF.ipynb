{
 "cells": [
  {
   "cell_type": "code",
   "execution_count": 13,
   "metadata": {},
   "outputs": [],
   "source": [
    "from transformers import BertTokenizer\n",
    "tokenizer = BertTokenizer.from_pretrained('bert-base-chinese')"
   ]
  },
  {
   "cell_type": "code",
   "execution_count": 14,
   "outputs": [
    {
     "name": "stdout",
     "output_type": "stream",
     "text": [
      "106,易,1093_.json\n"
     ]
    }
   ],
   "source": [
    "import os, json \n",
    "import pandas as pd \n",
    "import re\n",
    "\n",
    "train_num = 3000\n",
    "filedir = 'data_tfidf'\n",
    "filename = 'Result_4K'\n",
    "\n",
    "path_to_json = 'J:\\Legal_Judgment\\臺灣新北地方法院_改_V2'\n",
    "json_files = [pos_json for pos_json in os.listdir(path_to_json) if pos_json.endswith('.json')] \n",
    "print(json_files[0])"
   ],
   "metadata": {
    "collapsed": false,
    "pycharm": {
     "name": "#%%\n"
    }
   }
  },
  {
   "cell_type": "code",
   "execution_count": 15,
   "metadata": {},
   "outputs": [],
   "source": [
    "with open('J://Legal_Judgment//臺灣新北地方法院_改_V2//'+json_files[0],\"r\",encoding=\"utf-8\") as f:\n",
    "    dt = json.load(f)"
   ]
  },
  {
   "cell_type": "code",
   "execution_count": 16,
   "metadata": {},
   "outputs": [
    {
     "data": {
      "text/plain": "   id     court                       date          no sys reason type  \\\n0   0  臺灣桃園地方法院  2018-04-18T00:00:00+08:00  106,易,1093  刑事   妨害公務   判決   \n\n                                  mainText  \\\n0  邱建豪犯妨害公務執行罪，累犯，處拘役拾日，如易科罰金，以新臺幣壹仟元折算壹日。   \n\n                                           judgement  \\\n0  臺灣桃園地方法院刑事判決106年度易字第1093號公訴人臺灣桃園地方法院檢察署檢察官被告邱建...   \n\n                                           Situation  \n0  邱建豪於民國106年5月1日下午5時15分許，在桃園市○○區○○路000號桃園市政府警察局桃...  ",
      "text/html": "<div>\n<style scoped>\n    .dataframe tbody tr th:only-of-type {\n        vertical-align: middle;\n    }\n\n    .dataframe tbody tr th {\n        vertical-align: top;\n    }\n\n    .dataframe thead th {\n        text-align: right;\n    }\n</style>\n<table border=\"1\" class=\"dataframe\">\n  <thead>\n    <tr style=\"text-align: right;\">\n      <th></th>\n      <th>id</th>\n      <th>court</th>\n      <th>date</th>\n      <th>no</th>\n      <th>sys</th>\n      <th>reason</th>\n      <th>type</th>\n      <th>mainText</th>\n      <th>judgement</th>\n      <th>Situation</th>\n    </tr>\n  </thead>\n  <tbody>\n    <tr>\n      <th>0</th>\n      <td>0</td>\n      <td>臺灣桃園地方法院</td>\n      <td>2018-04-18T00:00:00+08:00</td>\n      <td>106,易,1093</td>\n      <td>刑事</td>\n      <td>妨害公務</td>\n      <td>判決</td>\n      <td>邱建豪犯妨害公務執行罪，累犯，處拘役拾日，如易科罰金，以新臺幣壹仟元折算壹日。</td>\n      <td>臺灣桃園地方法院刑事判決106年度易字第1093號公訴人臺灣桃園地方法院檢察署檢察官被告邱建...</td>\n      <td>邱建豪於民國106年5月1日下午5時15分許，在桃園市○○區○○路000號桃園市政府警察局桃...</td>\n    </tr>\n  </tbody>\n</table>\n</div>"
     },
     "execution_count": 16,
     "metadata": {},
     "output_type": "execute_result"
    }
   ],
   "source": [
    "dic = {\n",
    "    \"id\": 0,\n",
    "    \"court\": [dt[\"court\"]], \n",
    "    \"date\": [dt[\"date\"]],\n",
    "    \"no\": [dt[\"no\"]],\n",
    "    \"sys\": [dt[\"sys\"]],\n",
    "    \"reason\": [dt[\"reason\"]],\n",
    "    \"type\": [dt[\"type\"]],\n",
    "    \"mainText\": [dt[\"mainText\"]],\n",
    "    \"judgement\": [dt[\"judgement\"]],\n",
    "    #\"judgement_SIT\": [dt[\"judgement_SIT\"]],\n",
    "    \"Situation\": [dt[\"Situation\"]]\n",
    "}\n",
    "df = pd.DataFrame(dic)\n",
    "df"
   ]
  },
  {
   "cell_type": "code",
   "execution_count": 17,
   "metadata": {},
   "outputs": [
    {
     "name": "stdout",
     "output_type": "stream",
     "text": [
      "100,中簡,119\n",
      "100,中簡,1856\n",
      "100,簡,372\n",
      "100,簡,458\n",
      "101,侵訴,1\n",
      "101,智訴,9\n",
      "103,智訴,4\n",
      "105,中簡,1076\n",
      "1000\n",
      "105,原重訴,3\n",
      "105,審易,3360\n",
      "105,審易,3746\n",
      "2000\n",
      "105,易,264\n",
      "105,易,980\n",
      "105,簡,1724\n",
      "3000\n",
      "105,訴,265\n",
      "4000\n",
      "5000\n",
      "107,審訴緝,48\n",
      "107,智易,51\n",
      "107,智簡,25\n",
      "107,訴,394\n",
      "95,矚重訴,3\n"
     ]
    }
   ],
   "source": [
    "my_regex = r\"[\\(\\（]([^一二三四五六七八九零十1234567890]{1}[^\\)\\）]+|[一二三四五六七八九零十1234567890]{1}[^\\)\\）]{1,})[\\)\\）]\"\n",
    "\n",
    "#spe = '丙○○意圖為自己不法之所有，基於搶奪之犯意，先後為下列搶奪行為：(一)於民國105年10月8日晚間7時20分許，騎乘登記於不知情之王介平名下之車牌號碼000-000號普通重型機車，行經高雄市○○區○○○路000號前時，將口罩脫下遮掩車牌，自後靠近步行在人行道上之甲○○，趁甲○○不及防備之際，以左手徒手掠取甲○○右手持有之背包1只（內有現金新臺幣【下同】9500元、索尼牌ZR綠色及Xperformance金色行動電話共2具【IMEI：000000000000000、000000000000000號】、長夾1個、信用卡及金融卡共5張、國民身分證2張、國民健康保險卡1張、普通重型機車駕照1張、識別證2張等物）得手後逃逸。嗣因丙○○將背包內之現金取走後，將背包棄置在高雄市鳳山區武營路某處，再經民眾在高雄市鳳山區衛武營附近拾獲上開背包（內有長夾1個、國民身分證2張、國民健康保險卡1張、信用卡3張、金融卡1張等物），遂送交警察機關發還甲○○領回。(二)於同年10月10日晚間11時5分許，騎乘向不知情之劉伊恩借用之車牌號碼000-0000號普通重型機車，行經高雄市○○區○○○路000號前時，使用口罩遮掩車牌，自後靠近步行在人行道上之少年乙○○（89年生，基於兒童及少年福利與權益保障法第69條第2項規定不得揭露足以識別少年身分之資訊，年籍詳卷），趁乙○○不及防備之際，以左手徒手掠取乙○○右手持有之背包1只（內有皮夾1只、現金3萬2000元、提款卡1張、國民身分證1張、國民健康保險卡1張等物）得手後逃逸，並將現金取出，其餘物品則丟棄。嗣為警循線於105年10月16日凌晨2時許，在高雄市○○區○○路000巷00號前查獲，並扣得現金2600元。'\n",
    "show = 0\n",
    "cnt = 0\n",
    "for x in range(1,len(json_files)):\n",
    "    with open('J://Legal_Judgment//臺灣新北地方法院_改_V2//'+json_files[x],\"r\",encoding=\"utf-8\") as f:\n",
    "        dt = json.load(f)\n",
    "\n",
    "    try:\n",
    "        if (str(dt[\"judgement\"]).index(str(dt[\"Situation\"])) < 0):\n",
    "            print(\"error1:\" + dt[\"no\"])\n",
    "            continue\n",
    "\n",
    "\n",
    "        new = pd.DataFrame({\n",
    "        \"id\" : x,\n",
    "        \"court\": [dt[\"court\"]],\n",
    "        \"date\": [dt[\"date\"]],\n",
    "        \"no\": [dt[\"no\"]],\n",
    "        \"sys\": [dt[\"sys\"]],\n",
    "        \"reason\": [dt[\"reason\"]],\n",
    "        \"type\": [dt[\"type\"]],\n",
    "        \"mainText\": [dt[\"mainText\"]],\n",
    "        \"judgement\": [dt[\"judgement\"]],\n",
    "        #\"judgement_SIT\": [dt[\"judgement_SIT\"]],\n",
    "        \"Situation\": [dt[\"Situation\"]]\n",
    "        })\n",
    "\n",
    "        bol = 0\n",
    "        show = 0\n",
    "        for index, row in new.iterrows():\n",
    "            row.Situation = re.sub(my_regex, \"\", str(row.Situation).replace(my_regex, \"\"))\n",
    "            #if (len(row.Situation) > 508):\n",
    "            if (len(tokenizer.tokenize(row.Situation)) > 512):\n",
    "                bol = 1\n",
    "\n",
    "        if (bol == 1):\n",
    "            continue\n",
    "\n",
    "        df = df.append(new)\n",
    "        cnt += 1\n",
    "        if (cnt % 1000 == 0):\n",
    "            print(cnt)\n",
    "\n",
    "    except:\n",
    "        print(dt[\"no\"])"
   ]
  },
  {
   "cell_type": "code",
   "execution_count": 18,
   "metadata": {},
   "outputs": [],
   "source": [
    "df = df.sample(train_num)\n",
    "df.to_csv('./QA_Test1/TFIDF/'\n",
    "          + filedir\n",
    "          + '/' + filename\n",
    "          + '.csv', index=0)"
   ]
  },
  {
   "cell_type": "code",
   "execution_count": 19,
   "outputs": [
    {
     "data": {
      "text/plain": "         court                       date         no sys reason type  \\\nid                                                                     \n449   臺灣桃園地方法院  2014-02-20T00:00:00+08:00  102,訴,358  刑事   殺人未遂   判決   \n1558  臺灣新北地方法院  2017-05-16T00:00:00+08:00  105,原訴,47  刑事   殺人未遂   判決   \n\n                                       mainText  \\\nid                                                \n449   朱○○殺人未遂，處有期徒刑參年陸月，並應於刑之執行前，令入相當處所，施以監護參年。   \n1558           江智祥犯傷害罪，累犯，處有期徒刑壹年肆月。扣案之西瓜刀壹支沒收。   \n\n                                              judgement  \\\nid                                                        \n449   臺灣桃園地方法院刑事判決102年度訴字第358號公訴人臺灣桃園地方法院檢察署檢察官被告朱○○...   \n1558  臺灣新北地方法院刑事判決105年度原訴字第47號公訴人臺灣新北地方法院檢察署檢察官被告江智祥...   \n\n                                              Situation  \nid                                                       \n449   朱○○有輕度智能障礙，合併疑似罹患有情感性疾患，其認知功能、衝動控制不佳，情緒控制困難，致其...  \n1558  江智祥與徐偉東為朋友，緣江智祥於民國105年6月11日晚間，應徐偉東之邀，前往渠等共同友人江...  ",
      "text/html": "<div>\n<style scoped>\n    .dataframe tbody tr th:only-of-type {\n        vertical-align: middle;\n    }\n\n    .dataframe tbody tr th {\n        vertical-align: top;\n    }\n\n    .dataframe thead th {\n        text-align: right;\n    }\n</style>\n<table border=\"1\" class=\"dataframe\">\n  <thead>\n    <tr style=\"text-align: right;\">\n      <th></th>\n      <th>court</th>\n      <th>date</th>\n      <th>no</th>\n      <th>sys</th>\n      <th>reason</th>\n      <th>type</th>\n      <th>mainText</th>\n      <th>judgement</th>\n      <th>Situation</th>\n    </tr>\n    <tr>\n      <th>id</th>\n      <th></th>\n      <th></th>\n      <th></th>\n      <th></th>\n      <th></th>\n      <th></th>\n      <th></th>\n      <th></th>\n      <th></th>\n    </tr>\n  </thead>\n  <tbody>\n    <tr>\n      <th>449</th>\n      <td>臺灣桃園地方法院</td>\n      <td>2014-02-20T00:00:00+08:00</td>\n      <td>102,訴,358</td>\n      <td>刑事</td>\n      <td>殺人未遂</td>\n      <td>判決</td>\n      <td>朱○○殺人未遂，處有期徒刑參年陸月，並應於刑之執行前，令入相當處所，施以監護參年。</td>\n      <td>臺灣桃園地方法院刑事判決102年度訴字第358號公訴人臺灣桃園地方法院檢察署檢察官被告朱○○...</td>\n      <td>朱○○有輕度智能障礙，合併疑似罹患有情感性疾患，其認知功能、衝動控制不佳，情緒控制困難，致其...</td>\n    </tr>\n    <tr>\n      <th>1558</th>\n      <td>臺灣新北地方法院</td>\n      <td>2017-05-16T00:00:00+08:00</td>\n      <td>105,原訴,47</td>\n      <td>刑事</td>\n      <td>殺人未遂</td>\n      <td>判決</td>\n      <td>江智祥犯傷害罪，累犯，處有期徒刑壹年肆月。扣案之西瓜刀壹支沒收。</td>\n      <td>臺灣新北地方法院刑事判決105年度原訴字第47號公訴人臺灣新北地方法院檢察署檢察官被告江智祥...</td>\n      <td>江智祥與徐偉東為朋友，緣江智祥於民國105年6月11日晚間，應徐偉東之邀，前往渠等共同友人江...</td>\n    </tr>\n  </tbody>\n</table>\n</div>"
     },
     "execution_count": 19,
     "metadata": {},
     "output_type": "execute_result"
    }
   ],
   "source": [
    "#df = pd.read_csv(\"QA_Test1\\\\HBert\\\\BigData2\\\\Result_Sbert_100000X.csv\", index_col=0)\n",
    "df = pd.read_csv('./QA_Test1/TFIDF/'\n",
    "          + filedir\n",
    "          + '/' + filename\n",
    "          + '.csv', index_col=0)\n",
    "df.head(2)\n"
   ],
   "metadata": {
    "collapsed": false,
    "pycharm": {
     "name": "#%%\n"
    }
   }
  },
  {
   "cell_type": "code",
   "execution_count": 20,
   "outputs": [
    {
     "data": {
      "text/plain": "court        2994\ndate         2994\nno           2994\nsys          2994\nreason       2994\ntype         2994\nmainText     2994\njudgement    2994\nSituation    2994\ndtype: int64"
     },
     "execution_count": 20,
     "metadata": {},
     "output_type": "execute_result"
    }
   ],
   "source": [
    "df['reason'] = df['reason'].str.replace('等','')\n",
    "df['reason'] = df['reason'].str.replace('罪','')\n",
    "df['reason'] = df['reason'].str.replace(\"條例\",\"\")\n",
    "df['reason'] = df['reason'].str.replace(\"防制\",\"\")\n",
    "df['reason'] = df['reason'].str.replace(\"管制\",\"\")\n",
    "df['reason'] = df['reason'].str.replace(\"違反\",\"\")\n",
    "df['reason'] = df['reason'].str.replace(\"違法著作權\",\"著作權法\")\n",
    "my_regex = r\"[\\(\\（]([^一二三四五六七八九零十1234567890]{1}[^\\)\\）]+|[一二三四五六七八九零十1234567890]{1}[^\\)\\）]{1,})[\\)\\）]\"\n",
    "\n",
    "df['judgement'] = df['judgement'].str.replace(my_regex, \"\")\n",
    "df['Situation'] = df['Situation'].str.replace(my_regex, \"\")\n",
    "df = df.dropna()\n",
    "\n",
    "df.count()"
   ],
   "metadata": {
    "collapsed": false,
    "pycharm": {
     "name": "#%%\n"
    }
   }
  },
  {
   "cell_type": "code",
   "execution_count": 21,
   "outputs": [
    {
     "data": {
      "text/plain": "         court                       date         no sys reason type  \\\nid                                                                     \n449   臺灣桃園地方法院  2014-02-20T00:00:00+08:00  102,訴,358  刑事   殺人未遂   判決   \n1558  臺灣新北地方法院  2017-05-16T00:00:00+08:00  105,原訴,47  刑事   殺人未遂   判決   \n\n                                       mainText  \\\nid                                                \n449   朱○○殺人未遂，處有期徒刑參年陸月，並應於刑之執行前，令入相當處所，施以監護參年。   \n1558           江智祥犯傷害罪，累犯，處有期徒刑壹年肆月。扣案之西瓜刀壹支沒收。   \n\n                                              judgement  \\\nid                                                        \n449   臺灣桃園地方法院刑事判決102年度訴字第358號公訴人臺灣桃園地方法院檢察署檢察官被告朱○○...   \n1558  臺灣新北地方法院刑事判決105年度原訴字第47號公訴人臺灣新北地方法院檢察署檢察官被告江智祥...   \n\n                                              Situation  \nid                                                       \n449   朱○○有輕度智能障礙，合併疑似罹患有情感性疾患，其認知功能、衝動控制不佳，情緒控制困難，致其...  \n1558  江智祥與徐偉東為朋友，緣江智祥於民國105年6月11日晚間，應徐偉東之邀，前往渠等共同友人江...  ",
      "text/html": "<div>\n<style scoped>\n    .dataframe tbody tr th:only-of-type {\n        vertical-align: middle;\n    }\n\n    .dataframe tbody tr th {\n        vertical-align: top;\n    }\n\n    .dataframe thead th {\n        text-align: right;\n    }\n</style>\n<table border=\"1\" class=\"dataframe\">\n  <thead>\n    <tr style=\"text-align: right;\">\n      <th></th>\n      <th>court</th>\n      <th>date</th>\n      <th>no</th>\n      <th>sys</th>\n      <th>reason</th>\n      <th>type</th>\n      <th>mainText</th>\n      <th>judgement</th>\n      <th>Situation</th>\n    </tr>\n    <tr>\n      <th>id</th>\n      <th></th>\n      <th></th>\n      <th></th>\n      <th></th>\n      <th></th>\n      <th></th>\n      <th></th>\n      <th></th>\n      <th></th>\n    </tr>\n  </thead>\n  <tbody>\n    <tr>\n      <th>449</th>\n      <td>臺灣桃園地方法院</td>\n      <td>2014-02-20T00:00:00+08:00</td>\n      <td>102,訴,358</td>\n      <td>刑事</td>\n      <td>殺人未遂</td>\n      <td>判決</td>\n      <td>朱○○殺人未遂，處有期徒刑參年陸月，並應於刑之執行前，令入相當處所，施以監護參年。</td>\n      <td>臺灣桃園地方法院刑事判決102年度訴字第358號公訴人臺灣桃園地方法院檢察署檢察官被告朱○○...</td>\n      <td>朱○○有輕度智能障礙，合併疑似罹患有情感性疾患，其認知功能、衝動控制不佳，情緒控制困難，致其...</td>\n    </tr>\n    <tr>\n      <th>1558</th>\n      <td>臺灣新北地方法院</td>\n      <td>2017-05-16T00:00:00+08:00</td>\n      <td>105,原訴,47</td>\n      <td>刑事</td>\n      <td>殺人未遂</td>\n      <td>判決</td>\n      <td>江智祥犯傷害罪，累犯，處有期徒刑壹年肆月。扣案之西瓜刀壹支沒收。</td>\n      <td>臺灣新北地方法院刑事判決105年度原訴字第47號公訴人臺灣新北地方法院檢察署檢察官被告江智祥...</td>\n      <td>江智祥與徐偉東為朋友，緣江智祥於民國105年6月11日晚間，應徐偉東之邀，前往渠等共同友人江...</td>\n    </tr>\n  </tbody>\n</table>\n</div>"
     },
     "execution_count": 21,
     "metadata": {},
     "output_type": "execute_result"
    }
   ],
   "source": [
    "##拆分df\n",
    "#df1=df.sample(n=train_num)#按0.6比例随机采样\n",
    "df1=df\n",
    "df1.head(2)"
   ],
   "metadata": {
    "collapsed": false,
    "pycharm": {
     "name": "#%%\n"
    }
   }
  },
  {
   "cell_type": "code",
   "execution_count": 22,
   "outputs": [
    {
     "data": {
      "text/plain": "court        85\ndate         85\nno           85\nsys          85\nreason       85\ntype         85\nmainText     85\njudgement    85\nSituation    85\ndtype: int64"
     },
     "execution_count": 22,
     "metadata": {},
     "output_type": "execute_result"
    }
   ],
   "source": [
    "df1[df1['Situation'].str.len() > 513].count()"
   ],
   "metadata": {
    "collapsed": false,
    "pycharm": {
     "name": "#%%\n"
    }
   }
  },
  {
   "cell_type": "code",
   "execution_count": 23,
   "outputs": [],
   "source": [
    "class Data(object):\n",
    "    def __init__(self):\n",
    "        self.title = \"\"\n",
    "        self.content = \"\"\n",
    "        self.category = \"\"\n"
   ],
   "metadata": {
    "collapsed": false,
    "pycharm": {
     "name": "#%%\n"
    }
   }
  },
  {
   "cell_type": "code",
   "execution_count": 24,
   "outputs": [
    {
     "name": "stdout",
     "output_type": "stream",
     "text": [
      "2994\n"
     ]
    }
   ],
   "source": [
    "i = 0\n",
    "djson1 = []\n",
    "\n",
    "for index, row in df1.iterrows():\n",
    "\n",
    "    i = i + 1\n",
    "    try:\n",
    "        d = Data()\n",
    "        d.id = row.no\n",
    "        d.title = row.mainText\n",
    "        d.content = row.Situation\n",
    "        d.category = row.reason\n",
    "        djson1.append(d)\n",
    "    except:\n",
    "        print(index)\n",
    "        print(row.no)\n",
    "        \n",
    "y = json.dumps(djson1, default=lambda o: o.__dict__, ensure_ascii=False)\n",
    "with open('./QA_Test1/TFIDF/'\n",
    "          + filedir\n",
    "          + '/data_'+ str(i) + '_512X.json', 'w', encoding='utf8') as outfile:\n",
    "    json.dump(djson1, outfile, default=lambda o: o.__dict__ , ensure_ascii=False)\n",
    "print(i)  "
   ],
   "metadata": {
    "collapsed": false,
    "pycharm": {
     "name": "#%%\n"
    }
   }
  }
 ],
 "metadata": {
  "kernelspec": {
   "display_name": "Python 3",
   "language": "python",
   "name": "python3"
  },
  "language_info": {
   "codemirror_mode": {
    "name": "ipython",
    "version": 3
   },
   "file_extension": ".py",
   "mimetype": "text/x-python",
   "name": "python",
   "nbconvert_exporter": "python",
   "pygments_lexer": "ipython3",
   "version": "3.6.4"
  }
 },
 "nbformat": 4,
 "nbformat_minor": 2
}