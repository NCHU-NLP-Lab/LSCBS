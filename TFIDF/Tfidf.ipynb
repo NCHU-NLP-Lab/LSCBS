{
 "cells": [
  {
   "cell_type": "code",
   "execution_count": 1,
   "metadata": {
    "collapsed": true
   },
   "outputs": [
    {
     "name": "stdout",
     "output_type": "stream",
     "text": [
      "4K - 3.0\n"
     ]
    }
   ],
   "source": [
    "import jieba\n",
    "import math\n",
    "import os\n",
    "import json\n",
    "import jieba.posseg as pseg\n",
    "\n",
    "from collections import OrderedDict\n",
    "\n",
    "p_upper = 3.0\n",
    "p_upperT = \"30\"\n",
    "filedir = 'data_tfidf'\n",
    "filenum = '4K'\n",
    "filename = 'Result_' + filenum\n",
    "print(filenum , '-', p_upper)"
   ]
  },
  {
   "cell_type": "code",
   "execution_count": 5,
   "outputs": [],
   "source": [
    "class TF_IDF():\n",
    "    def __init__(self):\n",
    "        self.docs = {}\n",
    "        self.seg_docs = self.get_seg_docs()\n",
    "        self.stopword = []\n",
    "        self.tf = []\n",
    "        self.df = {}\n",
    "        self.idf = {}\n",
    "        self.topK_idf = {}\n",
    "        self.bow = {}\n",
    "        self.cal_tfidf()\n",
    "\n",
    "    def read_file(self, path, type):\n",
    "        if type == 'json':\n",
    "            with open(path, 'r', encoding='utf-8') as file:\n",
    "                data = json.loads(file.read())\n",
    "        elif type == 'txt':\n",
    "            with open(path, 'r', encoding='utf-8') as file:\n",
    "                data = file.read()\n",
    "        return data\n",
    "\n",
    "    def get_seg_docs(self):\n",
    "        _seg_docs = []\n",
    "        FOLDER_NAME = filedir\n",
    "        DOCUMENT = 'data_3988_512X.json'\n",
    "        STOPWORD = 'stopword.txt'\n",
    "        #FILE_DIR = os.path.join(os.path.split(os.path.realpath(__file__))[0], FOLDER_NAME)\n",
    "\n",
    "        self.docs = self.read_file('.\\\\' + FOLDER_NAME +'\\\\' + DOCUMENT, 'json')\n",
    "        self.stopword = self.read_file('.\\\\' + FOLDER_NAME + '\\\\' + STOPWORD, 'txt')\n",
    "        for i in range(len(self.docs)):\n",
    "            content_seg = [w for w in jieba.lcut(self.docs[i]['content']) if len(w) > 1 and w not in self.stopword and w.isalpha()]\n",
    "            _seg_docs.append(content_seg)\n",
    "        return _seg_docs\n",
    "    \"\"\"\n",
    "    計算tf,idf結果\n",
    "    tf:[{word1:3,word2:4,word4:2},{word2:5,word3:7, word4:2},{....},.......]\n",
    "    df:{word1:6個文檔,word2:3個文檔,word3:5個文檔,word4:4個文檔......}\n",
    "    idf:{word1:idf(word1),word2:idf(word2),word3:idf(word3)..........}\n",
    "    \"\"\"\n",
    "    def cal_tfidf(self):\n",
    "        for doc in self.seg_docs:\n",
    "            bow = {}\n",
    "            for word in doc:\n",
    "                if not word in bow:\n",
    "                    bow[word] = 0\n",
    "                bow[word] += 1\n",
    "            self.tf.append(bow)\n",
    "            for word, _ in bow.items():\n",
    "                if word not in self.df:\n",
    "                    self.df[word] = 0\n",
    "                self.df[word] += 1\n",
    "        for word, df in self.df.items():\n",
    "            #只出現過在一篇文檔的詞不要(選擇性)\n",
    "            if df < 2:\n",
    "                pass\n",
    "            else:\n",
    "                self.idf[word] = math.log10(len(self.seg_docs) / df)\n",
    "\n",
    "    def tf(self, index, word):\n",
    "        return self.tf[index][word]\n",
    "\n",
    "    def idf(self, word):\n",
    "        return self.idf[word]\n",
    "\n",
    "    def tf_idf(self, index, word):\n",
    "        return self.tf[index][word]*self.idf[word]\n",
    "\n",
    "    def get_topK_idf(self, k, reverse = True):\n",
    "        self.topK_idf = OrderedDict(sorted(self.idf.items(), key=lambda t: t[1], reverse = reverse)[:k])\n",
    "        return  self.topK_idf\n",
    "\n",
    "    def get_docment(self):\n",
    "        return self.docs\n",
    "\n",
    "    def get_title(self, index):\n",
    "        return self.docs[index]['title']\n",
    "\n",
    "    def get_content(self, index):\n",
    "        return self.docs[index]['content']\n",
    "\n",
    "    def set_bag_of_word(self, bow):\n",
    "        self.bow = bow\n",
    "\n",
    "    def get_text_vector(self, index):\n",
    "        return [1*self.tf_idf(index, w) if w in jieba.lcut(self.docs[index]['content']) else 0 for w in self.bow]\n",
    "\n",
    "    def cosine_similarity(self, v1, v2):\n",
    "        #compute cosine similarity of v1 to v2: (v1 dot v2)/{||v1||*||v2||)\n",
    "        sum_xx, sum_xy, sum_yy = 0.0, 0.0, 0.0\n",
    "        for i in range(0, len(v1)):\n",
    "            x, y = v1[i], v2[i]\n",
    "            sum_xx += math.pow(x, 2)\n",
    "            sum_yy += math.pow(y, 2)\n",
    "            sum_xy += x * y\n",
    "        try:\n",
    "            return sum_xy / math.sqrt(sum_xx * sum_yy)\n",
    "        except ZeroDivisionError:\n",
    "            return 0"
   ],
   "metadata": {
    "collapsed": false,
    "pycharm": {
     "name": "#%%\n"
    }
   }
  },
  {
   "cell_type": "code",
   "execution_count": 6,
   "outputs": [
    {
     "name": "stderr",
     "output_type": "stream",
     "text": [
      "Building prefix dict from the default dictionary ...\n",
      "Loading model from cache C:\\Users\\user\\AppData\\Local\\Temp\\jieba.cache\n",
      "Loading model cost 0.763 seconds.\n",
      "Prefix dict has been built succesfully.\n"
     ]
    }
   ],
   "source": [
    "tf_idf = TF_IDF()\n",
    "topK = tf_idf.get_topK_idf(200000, True)\n",
    "#保存bag of word\n",
    "tf_idf.set_bag_of_word(set(topK.keys()))\n",
    "#得到文章第1篇跟第11篇的向量\n",
    "vec1 = tf_idf.get_text_vector(0)\n",
    "vec2 = tf_idf.get_text_vector(10)\n",
    "#計算文件與文件的cosine similarity\n",
    "score1 = tf_idf.cosine_similarity(vec1, vec1)\n",
    "score2 = tf_idf.cosine_similarity(vec1, vec2)\n",
    "#print(topK, score1, score2)"
   ],
   "metadata": {
    "collapsed": false,
    "pycharm": {
     "name": "#%%\n"
    }
   }
  },
  {
   "cell_type": "code",
   "execution_count": 7,
   "outputs": [],
   "source": [
    "f = open(filedir + \"\\\\Result_TFIDF_\" + filenum + \".csv\", \"a\", encoding='UTF-8')\n",
    "f.write(\"詞,詞性,P\\n\")\n",
    "\n",
    "for k, v in topK.items():\n",
    "    try:\n",
    "        _k = str(k)\n",
    "        words = pseg.cut(_k)\n",
    "        n = \"\"\n",
    "        for _w in words:\n",
    "            n = _w.flag\n",
    "        s = _k + \",\" + n + \",\" + str(v) + \"\\n\"\n",
    "        f.write(s)\n",
    "    except Exception as e:\n",
    "        print(e)\n",
    "        continue\n",
    "\n",
    "f.close()"
   ],
   "metadata": {
    "collapsed": false,
    "pycharm": {
     "name": "#%%\n"
    }
   }
  },
  {
   "cell_type": "code",
   "execution_count": 8,
   "outputs": [
    {
     "name": "stdout",
     "output_type": "stream",
     "text": [
      "吳鈞婷明知註冊審定號第00000000號商標圖樣係商標權人美商新時代冠帽公司，向我國經濟部智慧財產局申請註冊，取得商標權之註冊商標，指定使用於運動帽之商品，現仍於專用期間內，非經上開商標權人之授權或同意，不得於同一或類似商品，使用相同或近似之商標，而致相關消費者有混淆誤認之虞。詎吳鈞婷竟基於意圖販賣而陳列仿冒前開商標商品之犯意，於103年5月19日23時6分許，在其高雄市○○區○○00○0號住處，利用電腦設備連結網際網路，以「ayu494s」帳號登入露天拍賣網站，在不特定人均能瀏覽之前開拍賣網頁上，以每件新臺幣250元之價格，刊登販賣仿冒前開運動帽之照片及拍賣訊息，供不特定人瀏覽選購而陳列之，並提供其金融機構帳戶供購買者匯款。嗣經新時代公司委任之台宜顧問有限公司員工瀏覽前述網頁後，認該網頁經營者涉嫌違反商標法，乃出於蒐證之目的，於103年12月18日下標購買，待取得吳鈞婷寄交之仿冒前開商標圖樣之運動帽1頂，因而報警處理，並提出上開運動帽予警扣案，經警於104年6月2日通知吳鈞婷到案說明，始悉上情。\n"
     ]
    }
   ],
   "source": [
    "print(tf_idf.get_content(0))"
   ],
   "metadata": {
    "collapsed": false,
    "pycharm": {
     "name": "#%%\n"
    }
   }
  },
  {
   "cell_type": "code",
   "execution_count": 9,
   "outputs": [],
   "source": [
    "#m 數字 t 時間 c 連詞\n",
    "#regex\n",
    "#/○{2,}/\n",
    "#/\\d{10}/\n",
    "#/[A-Z0-9]{2,3}\\-[A-Z0-9]{3,4}/ 車牌\n",
    "import jieba.posseg as pseg"
   ],
   "metadata": {
    "collapsed": false,
    "pycharm": {
     "name": "#%%\n"
    }
   }
  },
  {
   "cell_type": "code",
   "execution_count": 10,
   "outputs": [
    {
     "name": "stdout",
     "output_type": "stream",
     "text": [
      "謝鈞 nr\n"
     ]
    }
   ],
   "source": [
    "words =pseg.cut(tf_idf.get_content(1500))\n",
    "for w in words:\n",
    "    print(w.word,w.flag)\n",
    "    break\n"
   ],
   "metadata": {
    "collapsed": false,
    "pycharm": {
     "name": "#%%\n"
    }
   }
  },
  {
   "cell_type": "code",
   "execution_count": 7,
   "outputs": [],
   "source": [],
   "metadata": {
    "collapsed": false,
    "pycharm": {
     "name": "#%%\n"
    }
   }
  },
  {
   "cell_type": "code",
   "execution_count": 2,
   "outputs": [],
   "source": [
    "import numpy as np\n",
    "import pandas as pd\n",
    "import re\n",
    "from datetime import datetime\n",
    "\n",
    "#my_regex = \"\\（.*?\\）|\\(([^\\)0-9零一二三四五六七八九十]?|[^\\).]{2,})\\)\"\n",
    "\n",
    "#tmpstr = '丙○○意圖為自己不法之所有，(甲)YY(假)XX(十一)(一)a(一一)b(一一一)c(年一)d(一年一)e(一一一年)A(9年)B(99年)C(999年)A(AAA)於民國105年10月8日晚間7時20分許，騎乘登記於不知情之王介平名下之車牌號碼000-000號普通重型機車，行經高雄市○○區○○○路000號前時，將口罩脫下遮掩車牌，自後靠近步行在人行道上之甲○○，趁甲○○不及防備之際，以左手徒手掠取甲○○右手持有之背包1只（內有現金新臺幣【下同】9500元、索尼牌ZR綠色及Xperformance金色行動電話共2具【IMEI：000000000000000、000000000000000號】、長夾1個、信用卡及金融卡共5張、國民身分證2張、國民健康保險卡1張、普通重型機車駕照1張、識別證2張等物）得手後逃逸。嗣因丙○○將背包內之現金取走後，將背包棄置在高雄市鳳山區武營路某處，再經民眾在高雄市鳳山區衛武營附近拾獲上開背包（內有長夾1個、國民身分證2張、國民健康保險卡1張、信用卡3張、金融卡1張等物），遂送交警察機關發還甲○○領回。(二)於同年10月10日晚間11時5分許，騎乘向不知情之劉伊恩借用之車牌號碼000-0000號普通重型機車，行經高雄市○○區○○○路000號前時，使用口罩遮掩車牌，自後靠近步行在人行道上之少年乙○○（89年生，基於兒童及少年福利與權益保障法第69條第2項規定不得揭露足以識別少年身分之資訊，年籍詳卷），趁乙○○不及防備之際，以左手徒手掠取乙○○右手持有之背包1只（內有皮夾1只、現金3萬2000元、提款卡1張、國民身分證1張、國民健康保險卡1張等物）得手後逃逸，並將現金取出，其餘物品則丟棄。嗣為警循線於105年10月16日凌晨2時許，在高雄市○○區○○路000巷00號前查獲，並扣得現金2600元。'\n",
    "#print((tmpstr))\n",
    "#print(len(tmpstr))\n",
    "#print((re.sub(my_regex, \"\", tmpstr)))\n",
    "#print(len(re.sub(my_regex, \"\", tmpstr)))"
   ],
   "metadata": {
    "collapsed": false,
    "pycharm": {
     "name": "#%%\n"
    }
   }
  },
  {
   "cell_type": "code",
   "execution_count": 3,
   "outputs": [],
   "source": [
    "dt_idf = pd.read_csv(filedir + \"\\\\Result_TFIDF_\" + filenum +\".csv\", encoding='utf8')"
   ],
   "metadata": {
    "collapsed": false,
    "pycharm": {
     "name": "#%%\n"
    }
   }
  },
  {
   "cell_type": "code",
   "execution_count": 4,
   "outputs": [
    {
     "data": {
      "text/plain": "     詞  詞性         P\n0   冠帽   n  3.299725\n1   台宜  ns  3.299725\n2  樣之運   n  3.299725\n3   挪威  ns  3.299725\n4  王維燦  nr  3.299725",
      "text/html": "<div>\n<style scoped>\n    .dataframe tbody tr th:only-of-type {\n        vertical-align: middle;\n    }\n\n    .dataframe tbody tr th {\n        vertical-align: top;\n    }\n\n    .dataframe thead th {\n        text-align: right;\n    }\n</style>\n<table border=\"1\" class=\"dataframe\">\n  <thead>\n    <tr style=\"text-align: right;\">\n      <th></th>\n      <th>詞</th>\n      <th>詞性</th>\n      <th>P</th>\n    </tr>\n  </thead>\n  <tbody>\n    <tr>\n      <th>0</th>\n      <td>冠帽</td>\n      <td>n</td>\n      <td>3.299725</td>\n    </tr>\n    <tr>\n      <th>1</th>\n      <td>台宜</td>\n      <td>ns</td>\n      <td>3.299725</td>\n    </tr>\n    <tr>\n      <th>2</th>\n      <td>樣之運</td>\n      <td>n</td>\n      <td>3.299725</td>\n    </tr>\n    <tr>\n      <th>3</th>\n      <td>挪威</td>\n      <td>ns</td>\n      <td>3.299725</td>\n    </tr>\n    <tr>\n      <th>4</th>\n      <td>王維燦</td>\n      <td>nr</td>\n      <td>3.299725</td>\n    </tr>\n  </tbody>\n</table>\n</div>"
     },
     "execution_count": 4,
     "metadata": {},
     "output_type": "execute_result"
    }
   ],
   "source": [
    "dt_idf.head()"
   ],
   "metadata": {
    "collapsed": false,
    "pycharm": {
     "name": "#%%\n"
    }
   }
  },
  {
   "cell_type": "code",
   "execution_count": 5,
   "outputs": [
    {
     "data": {
      "text/plain": "詞     7262\n詞性    7262\nP     7262\ndtype: int64"
     },
     "execution_count": 5,
     "metadata": {},
     "output_type": "execute_result"
    }
   ],
   "source": [
    "dt_idf[dt_idf[\"P\"] > p_upper].count()"
   ],
   "metadata": {
    "collapsed": false,
    "pycharm": {
     "name": "#%%\n"
    }
   }
  },
  {
   "cell_type": "code",
   "execution_count": 6,
   "outputs": [
    {
     "data": {
      "text/plain": "詞     14081\n詞性    14081\nP     14081\ndtype: int64"
     },
     "execution_count": 6,
     "metadata": {},
     "output_type": "execute_result"
    }
   ],
   "source": [
    "dt_idf.count()"
   ],
   "metadata": {
    "collapsed": false,
    "pycharm": {
     "name": "#%%\n"
    }
   }
  },
  {
   "cell_type": "code",
   "execution_count": 6,
   "outputs": [],
   "source": [],
   "metadata": {
    "collapsed": false,
    "pycharm": {
     "name": "#%%\n"
    }
   }
  },
  {
   "cell_type": "code",
   "execution_count": 7,
   "outputs": [],
   "source": [
    "dt_idf['P'] = dt_idf['P'].astype('float')"
   ],
   "metadata": {
    "collapsed": false,
    "pycharm": {
     "name": "#%%\n"
    }
   }
  },
  {
   "cell_type": "code",
   "execution_count": 8,
   "outputs": [],
   "source": [
    "dt_idf = dt_idf[dt_idf[\"P\"] > p_upper].drop(columns=['詞性']).set_index('詞').T.to_dict('list')"
   ],
   "metadata": {
    "collapsed": false,
    "pycharm": {
     "name": "#%%\n"
    }
   }
  },
  {
   "cell_type": "code",
   "execution_count": 8,
   "outputs": [],
   "source": [],
   "metadata": {
    "collapsed": false,
    "pycharm": {
     "name": "#%%\n"
    }
   }
  },
  {
   "cell_type": "code",
   "execution_count": 9,
   "outputs": [
    {
     "data": {
      "text/plain": "         court                       date         no sys    reason type  \\\nid                                                                        \n3086  臺灣高雄地方法院  2016-05-09T00:00:00+08:00  105,智簡,32  刑事     違反商標法   判決   \n5280  臺灣臺北地方法院  2018-02-01T00:00:00+08:00  106,訴,519  刑事  毒品危害防制條例   判決   \n\n                                               mainText  \\\nid                                                        \n3086  吳鈞婷犯商標法第九十七條之非法陳列侵害商標權之商品罪，處有期徒刑貳月，如易科罰金，以新臺幣壹...   \n5280       林義芳犯藥事法第八十三條第一項之轉讓偽藥罪，處有期徒刑肆月。\\n扣案如附表所示之物沒收。   \n\n                                              judgement  \\\nid                                                        \n3086  臺灣高雄地方法院刑事簡易判決105年度智簡字第32號聲請人臺灣高雄地方法院檢察署檢察官被告吳...   \n5280  臺灣臺北地方法院刑事判決106年度訴字第519號公訴人臺灣臺北地方法院檢察署檢察官被告林義芳...   \n\n                                              Situation  \nid                                                       \n3086  吳鈞婷明知註冊審定號第00000000號商標圖樣係商標權人美商新時代冠帽公司（下稱新時代公司...  \n5280  林義芳明知愷他命係毒品危害防制條例所列管之第三級毒品，且經改制前之行政院衛生署（現改制為衛生...  ",
      "text/html": "<div>\n<style scoped>\n    .dataframe tbody tr th:only-of-type {\n        vertical-align: middle;\n    }\n\n    .dataframe tbody tr th {\n        vertical-align: top;\n    }\n\n    .dataframe thead th {\n        text-align: right;\n    }\n</style>\n<table border=\"1\" class=\"dataframe\">\n  <thead>\n    <tr style=\"text-align: right;\">\n      <th></th>\n      <th>court</th>\n      <th>date</th>\n      <th>no</th>\n      <th>sys</th>\n      <th>reason</th>\n      <th>type</th>\n      <th>mainText</th>\n      <th>judgement</th>\n      <th>Situation</th>\n    </tr>\n    <tr>\n      <th>id</th>\n      <th></th>\n      <th></th>\n      <th></th>\n      <th></th>\n      <th></th>\n      <th></th>\n      <th></th>\n      <th></th>\n      <th></th>\n    </tr>\n  </thead>\n  <tbody>\n    <tr>\n      <th>3086</th>\n      <td>臺灣高雄地方法院</td>\n      <td>2016-05-09T00:00:00+08:00</td>\n      <td>105,智簡,32</td>\n      <td>刑事</td>\n      <td>違反商標法</td>\n      <td>判決</td>\n      <td>吳鈞婷犯商標法第九十七條之非法陳列侵害商標權之商品罪，處有期徒刑貳月，如易科罰金，以新臺幣壹...</td>\n      <td>臺灣高雄地方法院刑事簡易判決105年度智簡字第32號聲請人臺灣高雄地方法院檢察署檢察官被告吳...</td>\n      <td>吳鈞婷明知註冊審定號第00000000號商標圖樣係商標權人美商新時代冠帽公司（下稱新時代公司...</td>\n    </tr>\n    <tr>\n      <th>5280</th>\n      <td>臺灣臺北地方法院</td>\n      <td>2018-02-01T00:00:00+08:00</td>\n      <td>106,訴,519</td>\n      <td>刑事</td>\n      <td>毒品危害防制條例</td>\n      <td>判決</td>\n      <td>林義芳犯藥事法第八十三條第一項之轉讓偽藥罪，處有期徒刑肆月。\\n扣案如附表所示之物沒收。</td>\n      <td>臺灣臺北地方法院刑事判決106年度訴字第519號公訴人臺灣臺北地方法院檢察署檢察官被告林義芳...</td>\n      <td>林義芳明知愷他命係毒品危害防制條例所列管之第三級毒品，且經改制前之行政院衛生署（現改制為衛生...</td>\n    </tr>\n  </tbody>\n</table>\n</div>"
     },
     "execution_count": 9,
     "metadata": {},
     "output_type": "execute_result"
    }
   ],
   "source": [
    "df=pd.read_csv(filedir + \"\\\\Result_\" + filenum +\".csv\", index_col=0)\n",
    "#df=pd.read_csv('.//data//Result_R5.csv', index_col=0)\n",
    "df.head(2)"
   ],
   "metadata": {
    "collapsed": false,
    "pycharm": {
     "name": "#%%\n"
    }
   }
  },
  {
   "cell_type": "code",
   "execution_count": 10,
   "outputs": [
    {
     "data": {
      "text/plain": "公共危險      242\n毀損        240\n妨害名譽      236\n竊盜        232\n毒品危害      225\n著作權法      224\n妨害風化      223\n妨害公務      218\n妨害性自主     201\n妨害自由      193\n槍砲彈藥刀械    174\n侵占        171\n傷害        169\n偽造文書      167\n賭博        160\n搶奪        156\n過失傷害      155\n殺人未遂      147\n商標法       127\n詐欺        124\n強盜        112\n殺人         30\n毀棄損壞       26\n恐嚇         19\n恐嚇取財       15\n過失致死        5\n貪污          4\n醫師法         2\n藥事法         2\n替代役實施       1\nName: reason, dtype: int64"
     },
     "execution_count": 10,
     "metadata": {},
     "output_type": "execute_result"
    }
   ],
   "source": [
    "df['reason'] = df['reason'].str.replace('等','')\n",
    "df['reason'] = df['reason'].str.replace('罪','')\n",
    "df['reason'] = df['reason'].str.replace(\"條例\",\"\")\n",
    "df['reason'] = df['reason'].str.replace(\"防制\",\"\")\n",
    "df['reason'] = df['reason'].str.replace(\"管制\",\"\")\n",
    "df['reason'] = df['reason'].str.replace(\"違反\",\"\")\n",
    "df.loc[:,'reason'].value_counts()"
   ],
   "metadata": {
    "collapsed": false,
    "pycharm": {
     "name": "#%%\n"
    }
   }
  },
  {
   "cell_type": "code",
   "execution_count": 11,
   "outputs": [],
   "source": [
    "my_regex = r\"[\\(\\（]([^一二三四五六七八九零十1234567890]{1}[^\\)\\）]+|[一二三四五六七八九零十1234567890]{1}[^\\)\\）]{1,})[\\)\\）]\"\n",
    "df['Situation'] = df['Situation'].str.replace(my_regex, \"\")\n",
    "#/○{2,}/\n",
    "regex1 = r\"/○{2,}\"\n",
    "df['Situation'] = df['Situation'].str.replace(regex1, \"\")\n",
    "\n",
    "#/\\d{10}/\n",
    "regex2 = r\"\\d{10}\"\n",
    "df['Situation'] = df['Situation'].str.replace(regex2, \"\")\n",
    "\n",
    "#/[A-Z0-9]{2,3}\\-[A-Z0-9]{3,4}/ 車牌\n",
    "regex3 = r\"[A-Z0-9]{2,3}\\-[A-Z0-9]{3,4}\"\n",
    "df['Situation'] = df['Situation'].str.replace(regex3, \"\")"
   ],
   "metadata": {
    "collapsed": false,
    "pycharm": {
     "name": "#%%\n"
    }
   }
  },
  {
   "cell_type": "code",
   "execution_count": 12,
   "outputs": [
    {
     "name": "stderr",
     "output_type": "stream",
     "text": [
      "Building prefix dict from the default dictionary ...\n",
      "Loading model from cache C:\\Users\\user\\AppData\\Local\\Temp\\jieba.cache\n",
      "Loading model cost 0.766 seconds.\n",
      "Prefix dict has been built succesfully.\n"
     ]
    },
    {
     "name": "stdout",
     "output_type": "stream",
     "text": [
      "0  =>  2020-12-28 14:27:56.108386\n",
      "1000  =>  2020-12-28 14:38:28.361062\n",
      "2000  =>  2020-12-28 14:48:00.568607\n",
      "3000  =>  2020-12-28 14:57:31.985428\n"
     ]
    },
    {
     "data": {
      "text/plain": "         court                       date         no sys reason type  \\\nid                                                                     \n3086  臺灣高雄地方法院  2016-05-09T00:00:00+08:00  105,智簡,32  刑事    商標法   判決   \n5280  臺灣臺北地方法院  2018-02-01T00:00:00+08:00  106,訴,519  刑事   毒品危害   判決   \n\n                                               mainText  \\\nid                                                        \n3086  吳鈞婷犯商標法第九十七條之非法陳列侵害商標權之商品罪，處有期徒刑貳月，如易科罰金，以新臺幣壹...   \n5280       林義芳犯藥事法第八十三條第一項之轉讓偽藥罪，處有期徒刑肆月。\\n扣案如附表所示之物沒收。   \n\n                                              judgement  \\\nid                                                        \n3086  臺灣高雄地方法院刑事簡易判決105年度智簡字第32號聲請人臺灣高雄地方法院檢察署檢察官被告吳...   \n5280  臺灣臺北地方法院刑事判決106年度訴字第519號公訴人臺灣臺北地方法院檢察署檢察官被告林義芳...   \n\n                                              Situation  \nid                                                       \n3086  吳鈞婷明知註冊審定號商標圖樣係商標權人美商新時代公司，向我國經濟部智慧財產局申請註冊，取得商...  \n5280  林義芳明知愷他命係毒品危害防制條例所列管之級毒品，經改制前之行政院衛生署公告列為管制藥品，不...  ",
      "text/html": "<div>\n<style scoped>\n    .dataframe tbody tr th:only-of-type {\n        vertical-align: middle;\n    }\n\n    .dataframe tbody tr th {\n        vertical-align: top;\n    }\n\n    .dataframe thead th {\n        text-align: right;\n    }\n</style>\n<table border=\"1\" class=\"dataframe\">\n  <thead>\n    <tr style=\"text-align: right;\">\n      <th></th>\n      <th>court</th>\n      <th>date</th>\n      <th>no</th>\n      <th>sys</th>\n      <th>reason</th>\n      <th>type</th>\n      <th>mainText</th>\n      <th>judgement</th>\n      <th>Situation</th>\n    </tr>\n    <tr>\n      <th>id</th>\n      <th></th>\n      <th></th>\n      <th></th>\n      <th></th>\n      <th></th>\n      <th></th>\n      <th></th>\n      <th></th>\n      <th></th>\n    </tr>\n  </thead>\n  <tbody>\n    <tr>\n      <th>3086</th>\n      <td>臺灣高雄地方法院</td>\n      <td>2016-05-09T00:00:00+08:00</td>\n      <td>105,智簡,32</td>\n      <td>刑事</td>\n      <td>商標法</td>\n      <td>判決</td>\n      <td>吳鈞婷犯商標法第九十七條之非法陳列侵害商標權之商品罪，處有期徒刑貳月，如易科罰金，以新臺幣壹...</td>\n      <td>臺灣高雄地方法院刑事簡易判決105年度智簡字第32號聲請人臺灣高雄地方法院檢察署檢察官被告吳...</td>\n      <td>吳鈞婷明知註冊審定號商標圖樣係商標權人美商新時代公司，向我國經濟部智慧財產局申請註冊，取得商...</td>\n    </tr>\n    <tr>\n      <th>5280</th>\n      <td>臺灣臺北地方法院</td>\n      <td>2018-02-01T00:00:00+08:00</td>\n      <td>106,訴,519</td>\n      <td>刑事</td>\n      <td>毒品危害</td>\n      <td>判決</td>\n      <td>林義芳犯藥事法第八十三條第一項之轉讓偽藥罪，處有期徒刑肆月。\\n扣案如附表所示之物沒收。</td>\n      <td>臺灣臺北地方法院刑事判決106年度訴字第519號公訴人臺灣臺北地方法院檢察署檢察官被告林義芳...</td>\n      <td>林義芳明知愷他命係毒品危害防制條例所列管之級毒品，經改制前之行政院衛生署公告列為管制藥品，不...</td>\n    </tr>\n  </tbody>\n</table>\n</div>"
     },
     "execution_count": 12,
     "metadata": {},
     "output_type": "execute_result"
    }
   ],
   "source": [
    "run = 0\n",
    "today = datetime.now()\n",
    "print(run, ' => ', today)\n",
    "for index, row in df.iterrows():\n",
    "    try:\n",
    "        words =pseg.cut(row.Situation)\n",
    "        seq = ''\n",
    "        for w, l in words:\n",
    "            if (w in dt_idf):\n",
    "                continue\n",
    "            elif (l in ('m', 't', 'c')):\n",
    "                continue\n",
    "            else:\n",
    "                seq += w\n",
    "        df.loc[index, 'Situation'] = seq\n",
    "        run += 1\n",
    "        if (run % 1000 == 0):\n",
    "            today = datetime.now()\n",
    "            print(run, ' => ', today)\n",
    "    except:\n",
    "        continue\n",
    "\n",
    "df.head(2)"
   ],
   "metadata": {
    "collapsed": false,
    "pycharm": {
     "name": "#%%\n"
    }
   }
  },
  {
   "cell_type": "code",
   "execution_count": 13,
   "outputs": [],
   "source": [
    "df.to_csv(filedir + \"\\\\result_Sbert_\" + filenum +\"_TFIDF_\" + p_upperT + \"X.csv\", index=0)"
   ],
   "metadata": {
    "collapsed": false,
    "pycharm": {
     "name": "#%%\n"
    }
   }
  },
  {
   "cell_type": "code",
   "execution_count": 13,
   "outputs": [],
   "source": [],
   "metadata": {
    "collapsed": false,
    "pycharm": {
     "name": "#%%\n"
    }
   }
  }
 ],
 "metadata": {
  "kernelspec": {
   "display_name": "Python 3",
   "language": "python",
   "name": "python3"
  },
  "language_info": {
   "codemirror_mode": {
    "name": "ipython",
    "version": 2
   },
   "file_extension": ".py",
   "mimetype": "text/x-python",
   "name": "python",
   "nbconvert_exporter": "python",
   "pygments_lexer": "ipython2",
   "version": "2.7.6"
  }
 },
 "nbformat": 4,
 "nbformat_minor": 0
}