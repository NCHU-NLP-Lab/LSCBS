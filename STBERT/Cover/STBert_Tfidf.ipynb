{
 "cells": [
  {
   "cell_type": "code",
   "execution_count": 1,
   "metadata": {
    "pycharm": {
     "name": "#%%\n"
    }
   },
   "outputs": [
    {
     "name": "stdout",
     "output_type": "stream",
     "text": [
      "5K - 2.5\n"
     ]
    }
   ],
   "source": [
    "import numpy as np\n",
    "import pandas as pd\n",
    "import re\n",
    "import jieba.posseg as pseg\n",
    "import  math\n",
    "#simtype = 'COS'\n",
    "simtype = 'COS'\n",
    "#simtype = 'BERT'\n",
    "\n",
    "#my_regex = \"\\（.*?\\）|\\(([^\\)0-9零一二三四五六七八九十]?|[^\\).]{2,})\\)\"\n",
    "my_regex = r\"○{2,}\"\n",
    "\n",
    "#tmpstr = '丙○○意圖為自己不法之所有，(甲)YY(假)XX(十一)(一)a(一一)b(一一一)c(年一)d(一年一)e(一一一年)A(9年)B(99年)C(999年)A(AAA)於民國105年10月8日晚間7時20分許，騎乘登記於不知情之王介平名下之車牌號碼000-000號普通重型機車，行經高雄市○○區○○○路000號前時，將口罩脫下遮掩車牌，自後靠近步行在人行道上之甲○○，趁甲○○不及防備之際，以左手徒手掠取甲○○右手持有之背包1只（內有現金新臺幣【下同】9500元、索尼牌ZR綠色及Xperformance金色行動電話共2具【IMEI：000000000000000、000000000000000號】、長夾1個、信用卡及金融卡共5張、國民身分證2張、國民健康保險卡1張、普通重型機車駕照1張、識別證2張等物）得手後逃逸。嗣因丙○○將背包內之現金取走後，將背包棄置在高雄市鳳山區武營路某處，再經民眾在高雄市鳳山區衛武營附近拾獲上開背包（內有長夾1個、國民身分證2張、國民健康保險卡1張、信用卡3張、金融卡1張等物），遂送交警察機關發還甲○○領回。(二)於同年10月10日晚間11時5分許，騎乘向不知情之劉伊恩借用之車牌號碼000-0000號普通重型機車，行經高雄市○○區○○○路000號前時，使用口罩遮掩車牌，自後靠近步行在人行道上之少年乙○○（89年生，基於兒童及少年福利與權益保障法第69條第2項規定不得揭露足以識別少年身分之資訊，年籍詳卷），趁乙○○不及防備之際，以左手徒手掠取乙○○右手持有之背包1只（內有皮夾1只、現金3萬2000元、提款卡1張、國民身分證1張、國民健康保險卡1張等物）得手後逃逸，並將現金取出，其餘物品則丟棄。嗣為警循線於105年10月16日凌晨2時許，在高雄市○○區○○路000巷00號前查獲，並扣得現金2600元。'\n",
    "#print((tmpstr))\n",
    "#print(len(tmpstr))\n",
    "#print((re.sub(my_regex, \"\", tmpstr)))\n",
    "#print(len(re.sub(my_regex, \"\", tmpstr)))\n",
    "p_upper = 2.5\n",
    "p_upperT = \"25\"\n",
    "filedir = 'data_tfidf3'\n",
    "filenum = '5K'\n",
    "filename = 'Result_' + filenum\n",
    "print(filenum , '-', p_upper)\n",
    "\n",
    "berttype = 'bert-base-chinese'\n",
    "#berttype = 'voidful/albert_chinese_base'\n",
    "#berttype = 'wptoux/albert-chinese-large-qa'\n",
    "#berttype = 'clue/roberta_chinese_base'\n",
    "\n",
    "\n",
    "testtype = 0\n",
    "\n",
    "tmpSpecial = ''\n",
    "max = 20\n",
    "top_k = 15"
   ]
  },
  {
   "cell_type": "code",
   "execution_count": 2,
   "outputs": [],
   "source": [
    "dt_idf = pd.read_csv(\"..//TFIDF//\" + filedir +\"//Result_TFIDF_\" + filenum +\".csv\", encoding='utf8')\n",
    "#dt_idf = pd.read_csv(\"..//TFIDF//data_tfidf2//Result_TFIDF_100000X.csv\", encoding='utf8')\n",
    "dt_idf = dt_idf[dt_idf[\"P\"] > p_upper].drop(columns=['詞性']).set_index('詞').T.to_dict('list')\n"
   ],
   "metadata": {
    "collapsed": false,
    "pycharm": {
     "name": "#%%\n"
    }
   }
  },
  {
   "cell_type": "code",
   "execution_count": 3,
   "outputs": [
    {
     "data": {
      "text/plain": "      court                       date          no sys reason type  \\\n0  臺灣桃園地方法院  2018-04-18T00:00:00+08:00  106,易,1093  刑事   妨害公務   判決   \n1  臺灣臺北地方法院  2018-12-26T00:00:00+08:00    107,侵簡,3  刑事  妨害性自主   判決   \n\n                                            mainText  \\\n0            邱建豪犯妨害公務執行罪，累犯，處拘役拾日，如易科罰金，以新臺幣壹仟元折算壹日。   \n1  余暐勝對於十四歲以上未滿十六歲之女子為性交，共肆罪，各處有期徒刑參月。應執行有期徒刑捌月。緩...   \n\n                                           judgement  \\\n0  臺灣桃園地方法院刑事判決106年度易字第1093號公訴人臺灣桃園地方法院檢察署檢察官被告邱建...   \n1  臺灣臺北地方法院刑事簡易判決107年度侵簡字第3號公訴人臺灣臺北地方檢察署檢察官被告余暐勝選...   \n\n                                           Situation  \n0  邱建豪於民國106年5月1日下午5時15分許，在桃園市○○區○○路000號桃園市政府警察局桃...  \n1  余暐勝於民國107年3月間透過網路交友軟體「BEETALK」結識代號000之14歲以上未滿1...  ",
      "text/html": "<div>\n<style scoped>\n    .dataframe tbody tr th:only-of-type {\n        vertical-align: middle;\n    }\n\n    .dataframe tbody tr th {\n        vertical-align: top;\n    }\n\n    .dataframe thead th {\n        text-align: right;\n    }\n</style>\n<table border=\"1\" class=\"dataframe\">\n  <thead>\n    <tr style=\"text-align: right;\">\n      <th></th>\n      <th>court</th>\n      <th>date</th>\n      <th>no</th>\n      <th>sys</th>\n      <th>reason</th>\n      <th>type</th>\n      <th>mainText</th>\n      <th>judgement</th>\n      <th>Situation</th>\n    </tr>\n  </thead>\n  <tbody>\n    <tr>\n      <th>0</th>\n      <td>臺灣桃園地方法院</td>\n      <td>2018-04-18T00:00:00+08:00</td>\n      <td>106,易,1093</td>\n      <td>刑事</td>\n      <td>妨害公務</td>\n      <td>判決</td>\n      <td>邱建豪犯妨害公務執行罪，累犯，處拘役拾日，如易科罰金，以新臺幣壹仟元折算壹日。</td>\n      <td>臺灣桃園地方法院刑事判決106年度易字第1093號公訴人臺灣桃園地方法院檢察署檢察官被告邱建...</td>\n      <td>邱建豪於民國106年5月1日下午5時15分許，在桃園市○○區○○路000號桃園市政府警察局桃...</td>\n    </tr>\n    <tr>\n      <th>1</th>\n      <td>臺灣臺北地方法院</td>\n      <td>2018-12-26T00:00:00+08:00</td>\n      <td>107,侵簡,3</td>\n      <td>刑事</td>\n      <td>妨害性自主</td>\n      <td>判決</td>\n      <td>余暐勝對於十四歲以上未滿十六歲之女子為性交，共肆罪，各處有期徒刑參月。應執行有期徒刑捌月。緩...</td>\n      <td>臺灣臺北地方法院刑事簡易判決107年度侵簡字第3號公訴人臺灣臺北地方檢察署檢察官被告余暐勝選...</td>\n      <td>余暐勝於民國107年3月間透過網路交友軟體「BEETALK」結識代號000之14歲以上未滿1...</td>\n    </tr>\n  </tbody>\n</table>\n</div>"
     },
     "execution_count": 3,
     "metadata": {},
     "output_type": "execute_result"
    }
   ],
   "source": [
    "#df=pd.read_csv('./data_tfidf/result_4000_3.csv', index_col=0)\n",
    "df=pd.read_csv(\"..//TFIDF//\" + filedir +\"/result_Sbert_\" + filenum +\"_TFIDF_\" + p_upperT +\"X.csv\")\n",
    "df = df.dropna()\n",
    "#df=pd.read_csv('.//data//Result_R5.csv', index_col=0)\n",
    "df.head(2)"
   ],
   "metadata": {
    "collapsed": false,
    "pycharm": {
     "name": "#%%\n"
    }
   }
  },
  {
   "cell_type": "code",
   "execution_count": 4,
   "metadata": {
    "pycharm": {
     "name": "#%%\n"
    }
   },
   "outputs": [
    {
     "data": {
      "text/plain": "         court                       date         no sys  reason type  \\\n4261  臺灣桃園地方法院  2018-09-17T00:00:00+08:00  106,易,665  刑事      毀損   判決   \n4780  臺灣新北地方法院  2017-12-15T00:00:00+08:00  106,訴,362  刑事  槍砲彈藥刀械   判決   \n\n                                               mainText  \\\n4261                                           本件公訴不受理。   \n4780  詹基源未經許可，持有可發射子彈具有殺傷力之改造手槍，累犯，處有期徒刑肆年陸月，併科罰金新臺幣...   \n\n                                              judgement  \\\n4261  臺灣桃園地方法院刑事判決106年度易字第665號公訴人臺灣桃園地方檢察署檢察官被告張永和上列...   \n4780  臺灣新北地方法院刑事判決106年度訴字第362號公訴人臺灣新北地方法院檢察署檢察官被告詹基源...   \n\n                                              Situation  \n4261  被告張永和於民國105年6月1日凌晨5時3分許，在桃園市○○區○○○路000巷0弄00號前，...  \n4780  詎猶不知悔改，明知可發射子彈具有殺傷力之改造手槍及具有殺傷力之子彈，分別為槍砲彈藥刀械管制條...  ",
      "text/html": "<div>\n<style scoped>\n    .dataframe tbody tr th:only-of-type {\n        vertical-align: middle;\n    }\n\n    .dataframe tbody tr th {\n        vertical-align: top;\n    }\n\n    .dataframe thead th {\n        text-align: right;\n    }\n</style>\n<table border=\"1\" class=\"dataframe\">\n  <thead>\n    <tr style=\"text-align: right;\">\n      <th></th>\n      <th>court</th>\n      <th>date</th>\n      <th>no</th>\n      <th>sys</th>\n      <th>reason</th>\n      <th>type</th>\n      <th>mainText</th>\n      <th>judgement</th>\n      <th>Situation</th>\n    </tr>\n  </thead>\n  <tbody>\n    <tr>\n      <th>4261</th>\n      <td>臺灣桃園地方法院</td>\n      <td>2018-09-17T00:00:00+08:00</td>\n      <td>106,易,665</td>\n      <td>刑事</td>\n      <td>毀損</td>\n      <td>判決</td>\n      <td>本件公訴不受理。</td>\n      <td>臺灣桃園地方法院刑事判決106年度易字第665號公訴人臺灣桃園地方檢察署檢察官被告張永和上列...</td>\n      <td>被告張永和於民國105年6月1日凌晨5時3分許，在桃園市○○區○○○路000巷0弄00號前，...</td>\n    </tr>\n    <tr>\n      <th>4780</th>\n      <td>臺灣新北地方法院</td>\n      <td>2017-12-15T00:00:00+08:00</td>\n      <td>106,訴,362</td>\n      <td>刑事</td>\n      <td>槍砲彈藥刀械</td>\n      <td>判決</td>\n      <td>詹基源未經許可，持有可發射子彈具有殺傷力之改造手槍，累犯，處有期徒刑肆年陸月，併科罰金新臺幣...</td>\n      <td>臺灣新北地方法院刑事判決106年度訴字第362號公訴人臺灣新北地方法院檢察署檢察官被告詹基源...</td>\n      <td>詎猶不知悔改，明知可發射子彈具有殺傷力之改造手槍及具有殺傷力之子彈，分別為槍砲彈藥刀械管制條...</td>\n    </tr>\n  </tbody>\n</table>\n</div>"
     },
     "execution_count": 4,
     "metadata": {},
     "output_type": "execute_result"
    }
   ],
   "source": [
    "test= df.sample(n=200)\n",
    "test.head(2)"
   ]
  },
  {
   "cell_type": "code",
   "execution_count": 5,
   "outputs": [],
   "source": [
    "test.to_csv(\"..//TFIDF//\" + filedir +\"//Result_SBert_\" + filenum +\"_Test.csv\")"
   ],
   "metadata": {
    "collapsed": false,
    "pycharm": {
     "name": "#%%\n"
    }
   }
  },
  {
   "cell_type": "code",
   "execution_count": 6,
   "outputs": [
    {
     "data": {
      "text/plain": "   Unnamed: 0     court                       date         no sys  reason  \\\n0        4261  臺灣桃園地方法院  2018-09-17T00:00:00+08:00  106,易,665  刑事      毀損   \n1        4780  臺灣新北地方法院  2017-12-15T00:00:00+08:00  106,訴,362  刑事  槍砲彈藥刀械   \n\n  type                                           mainText  \\\n0   判決                                           本件公訴不受理。   \n1   判決  詹基源未經許可，持有可發射子彈具有殺傷力之改造手槍，累犯，處有期徒刑肆年陸月，併科罰金新臺幣...   \n\n                                           judgement  \\\n0  臺灣桃園地方法院刑事判決106年度易字第665號公訴人臺灣桃園地方檢察署檢察官被告張永和上列...   \n1  臺灣新北地方法院刑事判決106年度訴字第362號公訴人臺灣新北地方法院檢察署檢察官被告詹基源...   \n\n                                           Situation  \n0  被告張永和於民國105年6月1日凌晨5時3分許，在桃園市○○區○○○路000巷0弄00號前，...  \n1  詎猶不知悔改，明知可發射子彈具有殺傷力之改造手槍及具有殺傷力之子彈，分別為槍砲彈藥刀械管制條...  ",
      "text/html": "<div>\n<style scoped>\n    .dataframe tbody tr th:only-of-type {\n        vertical-align: middle;\n    }\n\n    .dataframe tbody tr th {\n        vertical-align: top;\n    }\n\n    .dataframe thead th {\n        text-align: right;\n    }\n</style>\n<table border=\"1\" class=\"dataframe\">\n  <thead>\n    <tr style=\"text-align: right;\">\n      <th></th>\n      <th>Unnamed: 0</th>\n      <th>court</th>\n      <th>date</th>\n      <th>no</th>\n      <th>sys</th>\n      <th>reason</th>\n      <th>type</th>\n      <th>mainText</th>\n      <th>judgement</th>\n      <th>Situation</th>\n    </tr>\n  </thead>\n  <tbody>\n    <tr>\n      <th>0</th>\n      <td>4261</td>\n      <td>臺灣桃園地方法院</td>\n      <td>2018-09-17T00:00:00+08:00</td>\n      <td>106,易,665</td>\n      <td>刑事</td>\n      <td>毀損</td>\n      <td>判決</td>\n      <td>本件公訴不受理。</td>\n      <td>臺灣桃園地方法院刑事判決106年度易字第665號公訴人臺灣桃園地方檢察署檢察官被告張永和上列...</td>\n      <td>被告張永和於民國105年6月1日凌晨5時3分許，在桃園市○○區○○○路000巷0弄00號前，...</td>\n    </tr>\n    <tr>\n      <th>1</th>\n      <td>4780</td>\n      <td>臺灣新北地方法院</td>\n      <td>2017-12-15T00:00:00+08:00</td>\n      <td>106,訴,362</td>\n      <td>刑事</td>\n      <td>槍砲彈藥刀械</td>\n      <td>判決</td>\n      <td>詹基源未經許可，持有可發射子彈具有殺傷力之改造手槍，累犯，處有期徒刑肆年陸月，併科罰金新臺幣...</td>\n      <td>臺灣新北地方法院刑事判決106年度訴字第362號公訴人臺灣新北地方法院檢察署檢察官被告詹基源...</td>\n      <td>詎猶不知悔改，明知可發射子彈具有殺傷力之改造手槍及具有殺傷力之子彈，分別為槍砲彈藥刀械管制條...</td>\n    </tr>\n  </tbody>\n</table>\n</div>"
     },
     "execution_count": 6,
     "metadata": {},
     "output_type": "execute_result"
    }
   ],
   "source": [
    "test = pd.read_csv(\"..//TFIDF//\" + filedir +\"//Result_SBert_\" + filenum +\"_Test.csv\", encoding='utf8')\n",
    "test.head(2)"
   ],
   "metadata": {
    "collapsed": false,
    "pycharm": {
     "name": "#%%\n"
    }
   }
  },
  {
   "cell_type": "code",
   "execution_count": 7,
   "metadata": {
    "pycharm": {
     "name": "#%%\n"
    }
   },
   "outputs": [
    {
     "name": "stderr",
     "output_type": "stream",
     "text": [
      "c:\\users\\user\\pycharmprojects\\pytorch\\venv\\lib\\site-packages\\ipykernel_launcher.py:2: SettingWithCopyWarning: \n",
      "A value is trying to be set on a copy of a slice from a DataFrame.\n",
      "Try using .loc[row_indexer,col_indexer] = value instead\n",
      "\n",
      "See the caveats in the documentation: https://pandas.pydata.org/pandas-docs/stable/user_guide/indexing.html#returning-a-view-versus-a-copy\n",
      "  \n",
      "c:\\users\\user\\pycharmprojects\\pytorch\\venv\\lib\\site-packages\\ipykernel_launcher.py:3: SettingWithCopyWarning: \n",
      "A value is trying to be set on a copy of a slice from a DataFrame.\n",
      "Try using .loc[row_indexer,col_indexer] = value instead\n",
      "\n",
      "See the caveats in the documentation: https://pandas.pydata.org/pandas-docs/stable/user_guide/indexing.html#returning-a-view-versus-a-copy\n",
      "  This is separate from the ipykernel package so we can avoid doing imports until\n",
      "c:\\users\\user\\pycharmprojects\\pytorch\\venv\\lib\\site-packages\\ipykernel_launcher.py:4: SettingWithCopyWarning: \n",
      "A value is trying to be set on a copy of a slice from a DataFrame.\n",
      "Try using .loc[row_indexer,col_indexer] = value instead\n",
      "\n",
      "See the caveats in the documentation: https://pandas.pydata.org/pandas-docs/stable/user_guide/indexing.html#returning-a-view-versus-a-copy\n",
      "  after removing the cwd from sys.path.\n",
      "c:\\users\\user\\pycharmprojects\\pytorch\\venv\\lib\\site-packages\\ipykernel_launcher.py:5: SettingWithCopyWarning: \n",
      "A value is trying to be set on a copy of a slice from a DataFrame.\n",
      "Try using .loc[row_indexer,col_indexer] = value instead\n",
      "\n",
      "See the caveats in the documentation: https://pandas.pydata.org/pandas-docs/stable/user_guide/indexing.html#returning-a-view-versus-a-copy\n",
      "  \"\"\"\n",
      "c:\\users\\user\\pycharmprojects\\pytorch\\venv\\lib\\site-packages\\ipykernel_launcher.py:6: SettingWithCopyWarning: \n",
      "A value is trying to be set on a copy of a slice from a DataFrame.\n",
      "Try using .loc[row_indexer,col_indexer] = value instead\n",
      "\n",
      "See the caveats in the documentation: https://pandas.pydata.org/pandas-docs/stable/user_guide/indexing.html#returning-a-view-versus-a-copy\n",
      "  \n",
      "c:\\users\\user\\pycharmprojects\\pytorch\\venv\\lib\\site-packages\\ipykernel_launcher.py:7: SettingWithCopyWarning: \n",
      "A value is trying to be set on a copy of a slice from a DataFrame.\n",
      "Try using .loc[row_indexer,col_indexer] = value instead\n",
      "\n",
      "See the caveats in the documentation: https://pandas.pydata.org/pandas-docs/stable/user_guide/indexing.html#returning-a-view-versus-a-copy\n",
      "  import sys\n",
      "c:\\users\\user\\pycharmprojects\\pytorch\\venv\\lib\\site-packages\\ipykernel_launcher.py:8: SettingWithCopyWarning: \n",
      "A value is trying to be set on a copy of a slice from a DataFrame.\n",
      "Try using .loc[row_indexer,col_indexer] = value instead\n",
      "\n",
      "See the caveats in the documentation: https://pandas.pydata.org/pandas-docs/stable/user_guide/indexing.html#returning-a-view-versus-a-copy\n",
      "  \n"
     ]
    }
   ],
   "source": [
    "df1 = df[~(df['court'] + df['no']).isin(test['court'] + test['no'])]\n",
    "df1['reason'] = df1['reason'].str.replace('等','')\n",
    "df1['reason'] = df1['reason'].str.replace('罪','')\n",
    "df1['reason'] = df1['reason'].str.replace(\"條例\",\"\")\n",
    "df1['reason'] = df1['reason'].str.replace(\"防制\",\"\")\n",
    "df1['reason'] = df1['reason'].str.replace(\"管制\",\"\")\n",
    "df1['reason'] = df1['reason'].str.replace(\"違反\",\"\")\n",
    "df1['Situation'] = df1['Situation'].str.replace(my_regex, \"\")"
   ]
  },
  {
   "cell_type": "code",
   "execution_count": 8,
   "outputs": [
    {
     "data": {
      "text/plain": "      court                       date            no sys reason type  \\\n0  臺灣桃園地方法院  2018-04-18T00:00:00+08:00    106,易,1093  刑事   妨害公務   判決   \n1  臺灣臺北地方法院  2018-12-26T00:00:00+08:00      107,侵簡,3  刑事  妨害性自主   判決   \n2  臺灣臺中地方法院  2011-05-19T00:00:00+08:00  100,中交簡,1002  刑事   公共危險   判決   \n3  臺灣臺中地方法院  2011-01-25T00:00:00+08:00   100,中交簡,100  刑事   公共危險   判決   \n4  臺灣臺中地方法院  2011-05-12T00:00:00+08:00  100,中交簡,1016  刑事   公共危險   判決   \n\n                                            mainText  \\\n0            邱建豪犯妨害公務執行罪，累犯，處拘役拾日，如易科罰金，以新臺幣壹仟元折算壹日。   \n1  余暐勝對於十四歲以上未滿十六歲之女子為性交，共肆罪，各處有期徒刑參月。應執行有期徒刑捌月。緩...   \n2  王炎權服用酒類，不能安全駕駛動力交通工具而駕駛，處拘役伍拾日，如易科罰金，以新臺幣壹仟元折算壹日。   \n3  林耀明服用酒類，不能安全駕駛動力交通工具而駕駛，處拘役伍拾伍日，如易科罰金，以新臺幣壹仟元折...   \n4     朱建鴻犯不能安全駕駛動力交通工具罪，處罰金新台幣伍萬元，如易服勞役，以新臺幣壹仟元折算壹日。   \n\n                                           judgement  \\\n0  臺灣桃園地方法院刑事判決106年度易字第1093號公訴人臺灣桃園地方法院檢察署檢察官被告邱建...   \n1  臺灣臺北地方法院刑事簡易判決107年度侵簡字第3號公訴人臺灣臺北地方檢察署檢察官被告余暐勝選...   \n2  臺灣臺中地方法院刑事簡易判決100年度中交簡字第1002號聲請人臺灣臺中地方法院檢察署檢察官...   \n3  臺灣臺中地方法院刑事簡易判決100年度中交簡字第100號聲請人臺灣臺中地方法院檢察署檢察官被...   \n4  臺灣臺中地方法院刑事簡易判決100年度中交簡字第1016號聲請人臺灣臺中地方法院檢察署檢察官...   \n\n                                           Situation  \n0  邱建豪於民國106年5月1日下午5時15分許，在桃園市區路000號桃園市政府警察局桃園分局埔...  \n1  余暐勝於民國107年3月間透過網路交友軟體「BEETALK」結識代號000之14歲以上未滿1...  \n2  王炎權於民國100年4月8日晚間9時30分許起至翌日凌晨3時許止，在彰化縣芬園鄉路○段291...  \n3  林耀明於民國99年10月22日下午4時許起至5時許止，在臺中市區路與豐樂路交岔路口附近之某工...  \n4  朱建鴻於民國100年4月19日晚間9時許起，在臺中市大雅區清泉崗友人住處內飲用啤酒，至同日晚...  ",
      "text/html": "<div>\n<style scoped>\n    .dataframe tbody tr th:only-of-type {\n        vertical-align: middle;\n    }\n\n    .dataframe tbody tr th {\n        vertical-align: top;\n    }\n\n    .dataframe thead th {\n        text-align: right;\n    }\n</style>\n<table border=\"1\" class=\"dataframe\">\n  <thead>\n    <tr style=\"text-align: right;\">\n      <th></th>\n      <th>court</th>\n      <th>date</th>\n      <th>no</th>\n      <th>sys</th>\n      <th>reason</th>\n      <th>type</th>\n      <th>mainText</th>\n      <th>judgement</th>\n      <th>Situation</th>\n    </tr>\n  </thead>\n  <tbody>\n    <tr>\n      <th>0</th>\n      <td>臺灣桃園地方法院</td>\n      <td>2018-04-18T00:00:00+08:00</td>\n      <td>106,易,1093</td>\n      <td>刑事</td>\n      <td>妨害公務</td>\n      <td>判決</td>\n      <td>邱建豪犯妨害公務執行罪，累犯，處拘役拾日，如易科罰金，以新臺幣壹仟元折算壹日。</td>\n      <td>臺灣桃園地方法院刑事判決106年度易字第1093號公訴人臺灣桃園地方法院檢察署檢察官被告邱建...</td>\n      <td>邱建豪於民國106年5月1日下午5時15分許，在桃園市區路000號桃園市政府警察局桃園分局埔...</td>\n    </tr>\n    <tr>\n      <th>1</th>\n      <td>臺灣臺北地方法院</td>\n      <td>2018-12-26T00:00:00+08:00</td>\n      <td>107,侵簡,3</td>\n      <td>刑事</td>\n      <td>妨害性自主</td>\n      <td>判決</td>\n      <td>余暐勝對於十四歲以上未滿十六歲之女子為性交，共肆罪，各處有期徒刑參月。應執行有期徒刑捌月。緩...</td>\n      <td>臺灣臺北地方法院刑事簡易判決107年度侵簡字第3號公訴人臺灣臺北地方檢察署檢察官被告余暐勝選...</td>\n      <td>余暐勝於民國107年3月間透過網路交友軟體「BEETALK」結識代號000之14歲以上未滿1...</td>\n    </tr>\n    <tr>\n      <th>2</th>\n      <td>臺灣臺中地方法院</td>\n      <td>2011-05-19T00:00:00+08:00</td>\n      <td>100,中交簡,1002</td>\n      <td>刑事</td>\n      <td>公共危險</td>\n      <td>判決</td>\n      <td>王炎權服用酒類，不能安全駕駛動力交通工具而駕駛，處拘役伍拾日，如易科罰金，以新臺幣壹仟元折算壹日。</td>\n      <td>臺灣臺中地方法院刑事簡易判決100年度中交簡字第1002號聲請人臺灣臺中地方法院檢察署檢察官...</td>\n      <td>王炎權於民國100年4月8日晚間9時30分許起至翌日凌晨3時許止，在彰化縣芬園鄉路○段291...</td>\n    </tr>\n    <tr>\n      <th>3</th>\n      <td>臺灣臺中地方法院</td>\n      <td>2011-01-25T00:00:00+08:00</td>\n      <td>100,中交簡,100</td>\n      <td>刑事</td>\n      <td>公共危險</td>\n      <td>判決</td>\n      <td>林耀明服用酒類，不能安全駕駛動力交通工具而駕駛，處拘役伍拾伍日，如易科罰金，以新臺幣壹仟元折...</td>\n      <td>臺灣臺中地方法院刑事簡易判決100年度中交簡字第100號聲請人臺灣臺中地方法院檢察署檢察官被...</td>\n      <td>林耀明於民國99年10月22日下午4時許起至5時許止，在臺中市區路與豐樂路交岔路口附近之某工...</td>\n    </tr>\n    <tr>\n      <th>4</th>\n      <td>臺灣臺中地方法院</td>\n      <td>2011-05-12T00:00:00+08:00</td>\n      <td>100,中交簡,1016</td>\n      <td>刑事</td>\n      <td>公共危險</td>\n      <td>判決</td>\n      <td>朱建鴻犯不能安全駕駛動力交通工具罪，處罰金新台幣伍萬元，如易服勞役，以新臺幣壹仟元折算壹日。</td>\n      <td>臺灣臺中地方法院刑事簡易判決100年度中交簡字第1016號聲請人臺灣臺中地方法院檢察署檢察官...</td>\n      <td>朱建鴻於民國100年4月19日晚間9時許起，在臺中市大雅區清泉崗友人住處內飲用啤酒，至同日晚...</td>\n    </tr>\n  </tbody>\n</table>\n</div>"
     },
     "execution_count": 8,
     "metadata": {},
     "output_type": "execute_result"
    }
   ],
   "source": [
    "df1.head()"
   ],
   "metadata": {
    "collapsed": false,
    "pycharm": {
     "name": "#%%\n"
    }
   }
  },
  {
   "cell_type": "code",
   "execution_count": 13,
   "outputs": [
    {
     "data": {
      "text/plain": "'賭博'"
     },
     "execution_count": 13,
     "metadata": {},
     "output_type": "execute_result"
    }
   ],
   "source": [
    "df1.loc[875].j"
   ],
   "metadata": {
    "collapsed": false,
    "pycharm": {
     "name": "#%%\n"
    }
   }
  },
  {
   "cell_type": "code",
   "execution_count": 40,
   "outputs": [
    {
     "name": "stdout",
     "output_type": "stream",
     "text": [
      "總筆數 5558 \n",
      "\n"
     ]
    },
    {
     "data": {
      "text/plain": "公共危險      334\n著作權法      326\n毀損        324\n竊盜        322\n妨害公務      320\n妨害名譽      314\n毒品危害      313\n妨害風化      298\n妨害性自主     281\n妨害自由      265\n槍砲彈藥刀械    246\n賭博        236\n侵占        236\n傷害        233\n偽造文書      224\n過失傷害      211\n搶奪        210\n殺人未遂      208\n詐欺        181\n商標法       175\n強盜        154\n殺人         41\n毀棄損壞       35\n恐嚇         31\n恐嚇取財       19\n貪污          7\n過失致死        7\n醫師法         3\n藥事法         2\n替代役實施       1\n偽證          1\nName: reason, dtype: int64"
     },
     "execution_count": 40,
     "metadata": {},
     "output_type": "execute_result"
    }
   ],
   "source": [
    "print(\"總筆數\",df1['reason'].count(), \"\\n\")\n",
    "df1.loc[:,'reason'].value_counts()"
   ],
   "metadata": {
    "collapsed": false,
    "pycharm": {
     "name": "#%%\n"
    }
   }
  },
  {
   "cell_type": "code",
   "execution_count": 41,
   "outputs": [
    {
     "data": {
      "text/plain": "court        5760\ndate         5760\nno           5760\nsys          5760\nreason       5760\ntype         5760\nmainText     5760\njudgement    5760\nSituation    5760\ndtype: int64"
     },
     "execution_count": 41,
     "metadata": {},
     "output_type": "execute_result"
    }
   ],
   "source": [
    "df.count()"
   ],
   "metadata": {
    "collapsed": false,
    "pycharm": {
     "name": "#%%\n"
    }
   }
  },
  {
   "cell_type": "code",
   "execution_count": 42,
   "outputs": [
    {
     "data": {
      "text/plain": "Unnamed: 0    200\ncourt         200\ndate          200\nno            200\nsys           200\nreason        200\ntype          200\nmainText      200\njudgement     200\nSituation     200\ndtype: int64"
     },
     "execution_count": 42,
     "metadata": {},
     "output_type": "execute_result"
    }
   ],
   "source": [
    "test.count()"
   ],
   "metadata": {
    "collapsed": false,
    "pycharm": {
     "name": "#%%\n"
    }
   }
  },
  {
   "cell_type": "code",
   "execution_count": 43,
   "outputs": [
    {
     "data": {
      "text/plain": "court        5558\ndate         5558\nno           5558\nsys          5558\nreason       5558\ntype         5558\nmainText     5558\njudgement    5558\nSituation    5558\ndtype: int64"
     },
     "execution_count": 43,
     "metadata": {},
     "output_type": "execute_result"
    }
   ],
   "source": [
    "df1.count()"
   ],
   "metadata": {
    "collapsed": false,
    "pycharm": {
     "name": "#%%\n"
    }
   }
  },
  {
   "cell_type": "code",
   "execution_count": 44,
   "outputs": [],
   "source": [
    "#xxxx = df1.loc[:,'reason'].value_counts()\n",
    "#for a,b in xxxx.items():\n",
    "#    print(a, b)"
   ],
   "metadata": {
    "collapsed": false,
    "pycharm": {
     "name": "#%%\n"
    }
   }
  },
  {
   "cell_type": "code",
   "execution_count": 45,
   "metadata": {
    "pycharm": {
     "name": "#%%\n"
    }
   },
   "outputs": [],
   "source": [
    "import pandas as pd\n",
    "import time\n",
    "tStart = time.time()"
   ]
  },
  {
   "cell_type": "code",
   "execution_count": 46,
   "outputs": [],
   "source": [
    "class Data(object):\n",
    "    def __init__(self):\n",
    "        self.no = \"0\"\n",
    "        self.reason = \"\"\n",
    "        self.Situation = \"\""
   ],
   "metadata": {
    "collapsed": false,
    "pycharm": {
     "name": "#%%\n"
    }
   }
  },
  {
   "cell_type": "code",
   "execution_count": 47,
   "metadata": {
    "pycharm": {
     "name": "#%%\n"
    }
   },
   "outputs": [
    {
     "name": "stdout",
     "output_type": "stream",
     "text": [
      "\n",
      "5558\n"
     ]
    }
   ],
   "source": [
    "#embedder  SentenceTransformer('distilbert-base-nli-stsb-mean-tokens')\n",
    "\n",
    "# Corpus with example sentences\n",
    "#corpus  ['A man is eating food.',\n",
    "#          'A man is eating a piece of bread.',\n",
    "#          'The girl is carrying a baby.',\n",
    "#          'A man is riding a horse.',\n",
    "#          'A woman is playing violin.',\n",
    "#          'Two men pushed carts through the woods.',\n",
    "#          'A man is riding a white horse on an enclosed ground.',\n",
    "#          'A monkey is playing drums.',\n",
    "#          'A cheetah is running behind its prey.'\n",
    "#          ]\n",
    "corpus = []\n",
    "corpusList = []\n",
    "for index, row in df1.iterrows():\n",
    "    if (row.Situation == None):\n",
    "        continue\n",
    "    if (isinstance(row.Situation, float)):\n",
    "        continue\n",
    "    if (len(row.Situation) == 0):\n",
    "        continue\n",
    "    if (index == 5):\n",
    "        print()\n",
    "    d = Data()\n",
    "    d.no = row.no\n",
    "    d.reason = row.reason\n",
    "    d.Situation = row.Situation\n",
    "    corpusList.append(d)\n",
    "    corpus.append(row.Situation)\n",
    "\n",
    "\n",
    "print(len(corpus))"
   ]
  },
  {
   "cell_type": "code",
   "execution_count": 48,
   "metadata": {
    "pycharm": {
     "name": "#%%\n"
    }
   },
   "outputs": [
    {
     "name": "stdout",
     "output_type": "stream",
     "text": [
      "轉向量時間 1.059202 sec\n"
     ]
    }
   ],
   "source": [
    "tEnd = time.time()#計時結束\n",
    "#列印結果\n",
    "print(\"轉向量時間\", \"%f sec\" % (tEnd - tStart))"
   ]
  },
  {
   "cell_type": "code",
   "execution_count": 49,
   "outputs": [],
   "source": [
    "def doRule(Situation):\n",
    "\n",
    "    my_regex = r\"[\\(\\（]([^一二三四五六七八九零十1234567890]{1}[^\\)\\）]+|[一二三四五六七八九零十1234567890]{1}[^\\)\\）]{1,})[\\)\\）]\"\n",
    "    Situation = Situation.replace(my_regex, \"\")\n",
    "    #/○{2,}/\n",
    "    regex1 = r\"/○{2,}\"\n",
    "    Situation = Situation.replace(regex1, \"\")\n",
    "\n",
    "    #/\\d{10}/\n",
    "    regex2 = r\"\\d{10}\"\n",
    "    Situation = Situation.replace(regex2, \"\")\n",
    "\n",
    "    #/[A-Z0-9]{2,3}\\-[A-Z0-9]{3,4}/ 車牌\n",
    "    regex3 = r\"[A-Z0-9]{2,3}\\-[A-Z0-9]{3,4}\"\n",
    "    Situation = Situation.replace(regex3, \"\")\n",
    "    Source = Situation\n",
    "    try:\n",
    "        words =pseg.cut(Situation)\n",
    "        seq = ''\n",
    "        for w, l in words:\n",
    "            if (w in dt_idf):\n",
    "                continue\n",
    "            elif (l in ('m', 't', 'c')):\n",
    "                continue\n",
    "            else:\n",
    "                seq += w\n",
    "        Situation = seq\n",
    "    except:\n",
    "        Situation = Source\n",
    "    return Situation"
   ],
   "metadata": {
    "collapsed": false,
    "pycharm": {
     "name": "#%%\n"
    }
   }
  },
  {
   "cell_type": "code",
   "execution_count": 50,
   "outputs": [
    {
     "name": "stdout",
     "output_type": "stream",
     "text": [
      "210\n"
     ]
    }
   ],
   "source": [
    "#specialtest  ='8旬的余姓老婦，獨自坐在活動中心的椅子上休息，突然就出現了一名伊姓男子，他從側門進入後，先是到飲水機喝水，隨後拿起鋁製報夾瘋狂地朝余婦猛打，余婦一度想起身制止並離開，伊男卻不予理會並朝余婦後膝猛打，導致余婦當場腿軟跪下求饒，豈料，伊男仍不罷休持續朝余婦背部、頭部狂踹，導致現場鮮血直流，警方獲報後趕到現場，連用2次辣椒水，才將不斷反抗的伊男壓制在地，並將人帶回偵訊，訊後依殺人未遂、傷害罪嫌送辦。'\n",
    "#specialtest  ='基隆張男未依規定服役遭函送基隆地檢署偵辦，他為證明已主動向轄區區公所申請入營服役，沒有躲兵役的意圖，在民國107年11月間在住處透過網路取得「基隆市研發替代役入營通知書」電子檔，以修圖軟體變造個資內容，偽造出基隆巿政府核發給他的研發替代役入營通知書，再彩色列印出來'\n",
    "#specialtest  ='吳姓婦人與胡姓先生結婚後育有2子，吳婦的兒子從15樓租屋處，把東西丟下樓，還好沒砸到人，吳婦獲知後，一時惱怒持衣架打兒子屁股，體罰兒子打到瘀青。'\n",
    "#specialtest  ='曾姓男子昨天上午10點多，騎機車在路上尋找年輕女子，鎖定3名路過女大生後，藉由問路露出自己的生殖器，女大生嚇傻通報學校，學校報警後，警方調閱監視器畫面，掌握嫌犯所騎的機車和男子特徵，到曾男住處逮人，曾男坦承犯行，最後被依妨害風化罪函送。曾男到案說明後坦承犯案，他表示，自己打零工維生，當天剛好沒上班，出門閒晃，一時興起就做了這個舉動，他坦言自己非常後悔。'\n",
    "#specialtest  ='曾姓男子因與翁姓女子有感情糾紛而心生不滿，在去年7月19日晚間9時許，騎機車到台中市豐原區鎌村路附近，並以機車擋住翁女去路，雙方談判後，曾趁翁女不注意，搶走翁女的iPhone XS手機，並先將手機丟在案發地點附近草叢內，曾犯案後離開現場。'\n",
    "\n",
    "# Query sentences:\n",
    "#queries  ['A man is eating pasta.', 'Someone in a gorilla costume is playing a set of drums.', 'A cheetah chases prey on across a field.']\n",
    "queries = []\n",
    "queries_ori = []\n",
    "#specialtest  ='被告陳守仁為高職畢業擔任保全之男子，竟不思以正常手段獲取財物，因一時貪念，以徒手竊取該超商內商品供己食用之犯罪動機、目的、手段、生活狀況、智識程度、所竊得物品價值新臺幣（下同）總共約821元'\n",
    "specialtest  ='台南永康區陸軍砲兵訓練指揮部蔡姓志願役士兵，前年底涉利用前女友帳號，將他在營區內拍攝軍用機識別標識、軍械室監視器畫面等機密資料，傳送至陸軍司令部官方LINE帳號，留言要求砲訓部人員聯繫，恫嚇對方交付30萬元，否則將向媒體爆料其軍紀不佳，砲訓部向警方報案，查出蔡因涉酒後駕車公共危險案，遭汰除退伍而挾怨報復，檢方本月初依恐嚇取財未遂罪嫌起訴。'\n",
    "queries_ori.append(specialtest)\n",
    "specialtest = doRule(specialtest)\n",
    "queries.append(specialtest)\n",
    "specialtest  ='台南市官田區南58線今天（17日）上午7點46分發生要命的車禍，1名女機車騎士疑撞上倒車的大貨車後車斗，人車倒地，頭部重創，送醫後不治，確切車禍原因由麻豆警分局調查釐清。遇到大貨車倒車，一定要特別當心！台南就有一名年僅30歲的女騎士，趕著上班途中，未留意到一旁的產業道路有大貨車正在倒車，迎頭撞了上去，結果頭部重創，緊急送醫搶救仍宣告不治。'\n",
    "queries_ori.append(specialtest)\n",
    "specialtest = doRule(specialtest)\n",
    "queries.append(specialtest)\n",
    "specialtest  ='南投縣埔里鎮一名60歲李姓男子13日跟友人前往KTV唱歌，被女童家長懷疑猥褻5歲的女兒，李姓男子被帶到八德夜市附近毆打，重傷送醫，延到16日死亡，檢警展開偵辦，經訊問相關犯嫌後，女童父母各以3萬元交保候傳。南投地檢署表示，受理通報案件是有女童疑似遭強制猥褻，經女童家屬發現認為是李姓男子所為，於是予以毆打。而李姓男子在16日死亡，檢察官已經進行相驗，進一步調查。據了解，李姓男子是跟友人前往KTV，與女童的父母一起唱歌。但是，李姓男子跟女童父母之前並不認識，女童父母曾到外面抽菸，此時，李姓男子被拍到牽著女童從後門出去，女童回到包廂告知父母被猥褻。不過，李姓男子家屬表示，監視器只拍到牽著女童的手，懷疑李姓男子是被冤枉。由於李姓男子已經死亡，真相有待檢警釐清。'\n",
    "queries_ori.append(specialtest)\n",
    "specialtest = doRule(specialtest)\n",
    "queries.append(specialtest)\n",
    "specialtest  = '桃園一名王姓男子2018年7月覬覦死黨22歲女友小青（化名），以幫忙找工作為由，邀對方到家中，先後性侵2次得逞。期間小青一度向男友求救，不料王男竟搶走手機，偽裝玩笑傳訊「整到你了」。隔天，王男妻子要求見面談和解，恫嚇要告「通姦罪」，還硬塞3000元「強行和解」，不料此舉反成判刑鐵證。當時小青用電腦上網找工作，王男見有機可趁，忍不住將頭靠過去，伸手撫摸女方的腰，並順勢游移到大腿內側。小青驚覺有異，出聲制止「你幹嘛碰我」，怎料下秒就被推到床上性侵。小青難過地說，當時王男強脫她的衣物，聽到她頻頻哭喊「不要」，僅回了一句「一次就好」，隨後性侵得逞。完事後，王男問她要不要出去吃飯，隨後在家煮麵，繼續和她討論找工作的事，讓小青很詫異，不禁心想「剛剛發生那種事，他還可以那麼冷靜」，但又害怕遭遇不測，不敢貿然離開。事後，小青趁隙傳訊給男友「老公好恐怖啦」、「ＯＯ是變態」、「他剛剛對我做了那種事！」當時男友在上班，第一時間傳訊詢問「所以是真的嗎？」不料王男見狀，竟恐嚇小青「妳知道這件事傳出去後果有多嚴重嗎？」隨後奪去手機，偽裝成小青回覆「有又怎樣，整到你很爽，你這個白癡！」還親自打電話說「只是開玩笑」。事發至此，小青很難過、害怕，要求立即離開。怎料王男意猶未盡，竟不顧小青哭泣、反抗，又將人壓在床上二次性侵。完事後，王男開車將人送回家，小青則向男友哭訴遭性侵，討論要不要報案。不過，王男妻子搶先一步，約許男及小青隔天見面談和解。'\n",
    "queries_ori.append(specialtest)\n",
    "specialtest = doRule(specialtest)\n",
    "queries.append(specialtest)\n",
    "specialtest  ='59歲張姓男子經常到新北市新莊區中港路的友人住處打麻將，16日晚間8時許，張男再度赴約打牌喝酒，過程中牌友55歲許姓男子不斷輸錢，火氣上來怒譙「X你老母」，張男也出言反嗆，雙方邊打牌邊互罵，場面幾乎失控，最後翻臉乾脆不打了。晚間11時，牌局不歡而散後，許男下樓打電話找來57歲吳姓男子，2人動手圍毆剛走出門的張男；張男雙手不敵四拳，跑回牌友家中廚房，隨手拿一把水果刀跑下樓，見許、吳2人要騎機車離開，立刻衝上前刺殺吳男右大腿，再捅許男右胸，逞兇後棄刀準備逃逸時，遭趕到的警員逮捕。警方逮捕張男後，立刻將受傷的2人協助到院治療，經緊急救治都沒有生命危險，張男也在衝突過程中，被毆傷鼻樑，造成5公分撕裂傷。由於兇殺現場剛好是麥當勞速食店門口，警方也找了目擊民眾詢問了解事發經過，並待3人治療包紮後帶回派出所，訊後將張男依殺人未遂罪移送偵辦。'\n",
    "queries_ori.append(specialtest)\n",
    "specialtest = doRule(specialtest)\n",
    "queries.append(specialtest)\n",
    "specialtest  ='屏東一名70多歲婦人，懷疑老公出軌，去年拿木頭砧板毆打丈夫致死，她沒叫救護車就離開案發現場，幾小時才向警方自首，婦人被依殺人罪送辦。木質圓形砧板，寬31，厚度4公分，隔熱用的木塊，卻成了殺人兇器，屏東一名70多歲婦人，跟71歲丈夫分居，懷疑老公出軌，去年十月，她跑到男子租屋處想抓姦，雙方爭吵，男子隨手拿木塊追進廚房，砧板掉落被婦人撿起，攻擊對方頭胸跟腹部，眼睜睜看著丈夫，頭破血流倒地，她沒叫救護車就離開，再通知女兒到場，但老翁已經傷重不治。'\n",
    "queries_ori.append(specialtest)\n",
    "specialtest = doRule(specialtest)\n",
    "queries.append(specialtest)\n",
    "specialtest  ='新北市中和一名男子遺失皮夾，調閱監視器發現被路過婦人撿走，警方十天後找到人，依侵占遺失物法辦。但男子的妻子不滿，這段時間每天抱著十月大的小孩，挨家挨戶調閱監視器，夫妻間也因此鬧不愉快，打算向嫌犯提告精神求償。紅衣婦人騎單車突然停下來，低頭一看有個黑色皮夾，她撿起來騎車離開，沒往派出所方向疑似直奔回家，皮夾主人心急如焚，因為裡面裝著一萬多元都是小孩的奶粉錢。丈夫的皮夾不見，施小姐每天抱著十月大的嬰兒，挨家挨戶調閱監視器，尋找婦人身影和警方分頭進行希望加快偵辦進度，名牌皮夾和裡頭的錢損失約三萬，十天後警方終於找到，撿走皮夾的徐姓婦人她辯稱忘了拿去派出所，被依侵占遺失物法辦，皮夾雖然物歸原主，但這段時間施小姐一家人四處奔走生活被打亂，這些看不見的損失，打算向對方求償精神撫慰金。'\n",
    "queries_ori.append(specialtest)\n",
    "specialtest = doRule(specialtest)\n",
    "queries.append(specialtest)\n",
    "specialtest  ='陳姓男子透露，死者曾在5天內輕生3次，都是他帶著就醫。4年多前，旅館發生槍擊案，警消到場，發現劉姓死者當場沒命，拉封鎖線，仔細採證，事後，認定死者的老闆陳姓男子涉嫌重大，檢警認為，犯案後去藏毒品，到另一家汽車旅館梳洗的陳姓男子，替死者餵食大量毒品，最後開槍殺人，動機跟感情因素有關，不過，被告從頭到尾都否認，強調槍、毒，都是死者的，只是一二審法官不認同這樣的說法，判刑十五年，案件上訴更一更二審，刑度少了一年，更三審法官認為，死者有服用毒品情況，現場沒綑綁打鬥痕跡，救護車還是被告叫的，傳喚證人後不排除，死者吸毒後還有意識，再加上案發前，死者與人微信語音聯絡，背景音聽得到被告睡覺在打呼。'\n",
    "queries_ori.append(specialtest)\n",
    "specialtest = doRule(specialtest)\n",
    "queries.append(specialtest)\n",
    "specialtest  ='今年4月7日晚間近7時許，陳姓遊覽車司機在台中市一間廟宇旁，見到6歲的女童身邊無大人帶著，於是尾隨至暗巷，強行抱走幼女，伸出狼爪指侵；事後孩子驚慌向家長哭訴，警方獲報，調閱路口監視器，鎖定陳嫌，70分鐘後順利將他逮捕到案。陳嫌落網後，坦承犯行，供稱：「非常後悔當時的衝動。」檢察官依「加重強制性交罪」將他起訴，且因陳男所涉是本刑5年以上重罪，有逃亡之虞，向法官聲請羈押獲准。明知女童年幼，竟為逞性欲，強抱、指侵，使被害人心裡產生負面影響，犯罪情節嚴重，危害治安甚鉅，加上他未與被害人達成民事和解，取得被害人家屬諒解。'\n",
    "queries_ori.append(specialtest)\n",
    "specialtest = doRule(specialtest)\n",
    "queries.append(specialtest)\n",
    "specialtest  ='男等3人受盧姓男子（另案苗栗地檢署偵辦中）、綽號「老闆」之人指示，以5萬元報酬，由温負責與盧協調報關事宜，再由温提供行動電話聯絡、楊提供寄送地址，劉則到場把風，今年7月2日到倉儲收取泰國寄來的毒品包裹，警方當場查獲，夾藏7包重1937.11公克、純度89.11%海洛因。3人主觀認為郵包最糟應該是愷他命，且今年都沒有出境紀錄，兼衡與綽號「老闆」通話紀錄，足見3人從未參與包裝包裹，無從認定主觀上有認識郵包內是海洛因，且3 人預期可獲得報酬僅為5萬元。'\n",
    "queries_ori.append(specialtest)\n",
    "specialtest = doRule(specialtest)\n",
    "queries.append(specialtest)\n",
    "\n",
    "for index, row in test.iterrows():\n",
    "    queries.append(str(row.Situation))\n",
    "    queries_ori.append(str(row.Situation))\n",
    "print(len(queries))"
   ],
   "metadata": {
    "collapsed": false,
    "pycharm": {
     "name": "#%%\n"
    }
   }
  },
  {
   "cell_type": "code",
   "execution_count": 51,
   "outputs": [
    {
     "name": "stdout",
     "output_type": "stream",
     "text": [
      "康昭仁於「世旻設計有限公司」擔任業務經理一職，於民國99年8月間某日起，於網路YES123求職網站上張貼招募人才之訊息。適有代號0女子，於同一網站上張貼求職之訊息，康昭仁遂撥打電話予A女，約定於99年9月6日見面，見面後康昭仁以要瞭解A女之文康活動能力為由，邀約A女於同日下午16時許前往錢櫃企業股份有限公司所經營，位於臺南市○○區○○路99號之KTV唱歌。嗣於同日下午17時許，在錢櫃KTV包廂內，康昭仁為滿足自己之性慾，基於強制猥褻之犯意，利用A女唱歌不注意之際，先以雙手自A女後方環抱A女之身體與雙手，繼而撫摸A女之腰部及背部，A女受驚嚇後不斷掙扎，但無法掙脫，因此向康昭仁騙稱其要點歌，康昭仁因而放手，待A女欲找尋包廂內之服務鈴通知服務人員到場時，康昭仁突又以右手手肘勒住A女脖子，右手手掌按住A女肩膀，繼而以左手伸進A女胸罩內撫摸A女之胸部，以此等強暴之方式使A女無法抗拒，違反A女意願而為猥褻之行為得逞，嗣因A女之手機鈴聲作響，康昭仁方始罷手。\n"
     ]
    }
   ],
   "source": [
    "print(queries_ori[20])"
   ],
   "metadata": {
    "collapsed": false,
    "pycharm": {
     "name": "#%%\n"
    }
   }
  },
  {
   "cell_type": "code",
   "execution_count": null,
   "outputs": [],
   "source": [],
   "metadata": {
    "collapsed": false,
    "pycharm": {
     "name": "#%%\n"
    }
   }
  },
  {
   "cell_type": "code",
   "execution_count": null,
   "outputs": [],
   "source": [],
   "metadata": {
    "collapsed": false,
    "pycharm": {
     "name": "#%%\n"
    }
   }
  },
  {
   "cell_type": "code",
   "execution_count": null,
   "outputs": [],
   "source": [
    "from sentence_transformers import SentenceTransformer, util\n",
    "embedder=SentenceTransformer(berttype)\n",
    "#embedder=SentenceTransformer('model_bert_4000X')\n",
    "\n",
    "corpus_embeddings = embedder.encode(corpus, convert_to_tensor=True)"
   ],
   "metadata": {
    "collapsed": false,
    "pycharm": {
     "name": "#%%\n"
    }
   }
  },
  {
   "cell_type": "code",
   "execution_count": null,
   "metadata": {
    "pycharm": {
     "name": "#%%\n"
    }
   },
   "outputs": [],
   "source": [
    "# Find the closest 5 sentences of the corpus for each query sentence based on cosine similarity\n",
    "i = -1\n",
    "tmpSpecial = ''\n",
    "show = 0\n",
    "\n",
    "simtype = 'MD'\n",
    "\n",
    "for query in queries:\n",
    "    i += 1\n",
    "    if (query == 'nan' or queries_ori[i] == 'nan'):\n",
    "        print('break1')\n",
    "        continue\n",
    "    if (len(query) < 10 or len(queries_ori[i]) < 10):\n",
    "        print('break2')\n",
    "        continue\n",
    "\n",
    "\n",
    "    tStart2 = time.time()\n",
    "    query_embedding = embedder.encode(query, convert_to_tensor=True)\n",
    "    if (simtype == 'COS'):\n",
    "        cos_scores = util.pytorch_cos_sim(query_embedding, corpus_embeddings)[0]\n",
    "        cos_scores = cos_scores.cpu()\n",
    "        #We use np.argpartition, to only partially sort the top_k results\n",
    "        top_results = np.argpartition(-cos_scores, range(top_k))[0:top_k]\n",
    "    elif (simtype == 'DIS'):\n",
    "        cos_scores = util.pytorch_Dis(query_embedding, corpus_embeddings)\n",
    "        cos_scores = cos_scores.cpu()\n",
    "        #We use np.argpartition, to only partially sort the top_k results\n",
    "        top_results = np.argpartition(cos_scores, range(top_k))[0:top_k]\n",
    "    elif (simtype == 'DPS'):\n",
    "        cos_scores = util.pytorch_DPS(query_embedding, corpus_embeddings)\n",
    "        cos_scores = cos_scores.cpu()\n",
    "        #We use np.argpartition, to only partially sort the top_k results\n",
    "        top_results = np.argpartition(-cos_scores, range(top_k))[0:top_k]\n",
    "    elif (simtype == 'BS'):\n",
    "        cos_scores = util.pytorch_BS(query_embedding, corpus_embeddings)\n",
    "        cos_scores = cos_scores.cpu()\n",
    "        #We use np.argpartition, to only partially sort the top_k results\n",
    "        top_results = np.argpartition(-cos_scores, range(top_k))[0:top_k]\n",
    "    elif (simtype == 'MD'):\n",
    "        cos_scores = util.pytorch_Manhattan_Dis(query_embedding, corpus_embeddings)\n",
    "        cos_scores = cos_scores.cpu()\n",
    "        #We use np.argpartition, to only partially sort the top_k results\n",
    "        top_results = np.argpartition(-cos_scores, range(top_k))[0:top_k]\n",
    "    elif (simtype == 'JS'):\n",
    "        cos_scores = util.pytorch_Jaccard_Sim(query_embedding, corpus_embeddings)\n",
    "        cos_scores = cos_scores.cpu()\n",
    "        #We use np.argpartition, to only partially sort the top_k results\n",
    "        top_results = np.argpartition(-cos_scores, range(top_k))[0:top_k]\n",
    "    else:\n",
    "        break\n",
    "\n",
    "    print(\"\\n\\n\\n\\n\")\n",
    "    for qlen in range(0, len(queries_ori[i]), 50):\n",
    "        print(show + 1 if qlen==0 else '', \"Query:\" if qlen==0 else '\\t', queries_ori[i][qlen : qlen + 50])\n",
    "    #print(\"\\nTop 5 most similar sentences in corpus:\")\n",
    "    print('')\n",
    "    no = 1\n",
    "    for idx in top_results[0:top_k]:\n",
    "        if (corpus[idx] == specialtest):\n",
    "            continue\n",
    "        if (queries_ori[i] == corpusList[idx].Situation):\n",
    "            continue\n",
    "        if (isinstance(corpusList[idx].Situation, float)):\n",
    "            continue\n",
    "        if (corpusList[idx].Situation.strip() == 'nan'):\n",
    "            continue\n",
    "\n",
    "        print(no, \"  \"\n",
    "              , corpusList[idx].no,\"\\t\"\n",
    "              ,  corpusList[idx].reason\n",
    "              , \"\\t(Score: %.4f)\" % (cos_scores[idx]))\n",
    "        for qlen in range(0, len(corpusList[idx].Situation.strip()), 50):\n",
    "            print(corpusList[idx].Situation.strip()[qlen : qlen + 50])\n",
    "        #print (corpusList[idx].Situation.strip())\n",
    "        #    #if (len(corpus[idx].strip()[0:100]) > 100):\n",
    "        #    print (corpus[idx].strip()[0:100])\n",
    "        #else:\n",
    "        #    print (corpus[idx].strip()[0:100])\n",
    "        #if (tmpSpecial == ''):\n",
    "        #    tmpSpecial = corpus[idx].strip()\n",
    "        #    print(tmpSpecial)\n",
    "        print('\\n')\n",
    "        no = no + 1\n",
    "        if (no > 5):\n",
    "            break\n",
    "\n",
    "    show += 1\n",
    "    tEnd2 = time.time()#計時結束\n",
    "    print(\"COS相似計算時間\", \"%f sec\" % (tEnd2 - tStart2))\n",
    "\n",
    "    if (show >= max):break"
   ]
  },
  {
   "cell_type": "code",
   "execution_count": null,
   "outputs": [],
   "source": [
    "# Find the closest 5 sentences of the corpus for each query sentence based on cosine similarity\n",
    "i = -1\n",
    "tmpSpecial = ''\n",
    "show = 0\n",
    "\n",
    "simtype = 'JS'\n",
    "\n",
    "for query in queries:\n",
    "    i += 1\n",
    "    if (query == 'nan' or queries_ori[i] == 'nan'):\n",
    "        print('break1')\n",
    "        continue\n",
    "    if (len(query) < 10 or len(queries_ori[i]) < 10):\n",
    "        print('break2')\n",
    "        continue\n",
    "\n",
    "\n",
    "    tStart2 = time.time()\n",
    "    query_embedding = embedder.encode(query, convert_to_tensor=True)\n",
    "    if (simtype == 'COS'):\n",
    "        cos_scores = util.pytorch_cos_sim(query_embedding, corpus_embeddings)[0]\n",
    "        cos_scores = cos_scores.cpu()\n",
    "        #We use np.argpartition, to only partially sort the top_k results\n",
    "        top_results = np.argpartition(-cos_scores, range(top_k))[0:top_k]\n",
    "    elif (simtype == 'DIS'):\n",
    "        cos_scores = util.pytorch_Dis(query_embedding, corpus_embeddings)\n",
    "        cos_scores = cos_scores.cpu()\n",
    "        #We use np.argpartition, to only partially sort the top_k results\n",
    "        top_results = np.argpartition(cos_scores, range(top_k))[0:top_k]\n",
    "    elif (simtype == 'DPS'):\n",
    "        cos_scores = util.pytorch_DPS(query_embedding, corpus_embeddings)\n",
    "        cos_scores = cos_scores.cpu()\n",
    "        #We use np.argpartition, to only partially sort the top_k results\n",
    "        top_results = np.argpartition(-cos_scores, range(top_k))[0:top_k]\n",
    "    elif (simtype == 'BS'):\n",
    "        cos_scores = util.pytorch_BS(query_embedding, corpus_embeddings)\n",
    "        cos_scores = cos_scores.cpu()\n",
    "        #We use np.argpartition, to only partially sort the top_k results\n",
    "        top_results = np.argpartition(-cos_scores, range(top_k))[0:top_k]\n",
    "    elif (simtype == 'MD'):\n",
    "        cos_scores = util.pytorch_Manhattan_Dis(query_embedding, corpus_embeddings)\n",
    "        cos_scores = cos_scores.cpu()\n",
    "        #We use np.argpartition, to only partially sort the top_k results\n",
    "        top_results = np.argpartition(-cos_scores, range(top_k))[0:top_k]\n",
    "    elif (simtype == 'JS'):\n",
    "        cos_scores = util.pytorch_Jaccard_Sim(query_embedding, corpus_embeddings)\n",
    "        #cos_scores = cos_scores.cpu()\n",
    "        #We use np.argpartition, to only partially sort the top_k results\n",
    "        top_results = np.argpartition(-cos_scores, range(top_k))[0:top_k]\n",
    "    else:\n",
    "        break\n",
    "\n",
    "    print(\"\\n\\n\\n\\n\")\n",
    "    for qlen in range(0, len(queries_ori[i]), 50):\n",
    "        print(show + 1 if qlen==0 else '', \"Query:\" if qlen==0 else '\\t', queries_ori[i][qlen : qlen + 50])\n",
    "    #print(\"\\nTop 5 most similar sentences in corpus:\")\n",
    "    print('')\n",
    "    no = 1\n",
    "    for idx in top_results[0:top_k]:\n",
    "        if (corpus[idx] == specialtest):\n",
    "            continue\n",
    "        if (queries_ori[i] == corpusList[idx].Situation):\n",
    "            continue\n",
    "        if (isinstance(corpusList[idx].Situation, float)):\n",
    "            continue\n",
    "        if (corpusList[idx].Situation.strip() == 'nan'):\n",
    "            continue\n",
    "\n",
    "        print(no, \"  \"\n",
    "              , corpusList[idx].no,\"\\t\"\n",
    "              ,  corpusList[idx].reason\n",
    "              , \"\\t(Score: %.4f)\" % (cos_scores[idx]))\n",
    "        for qlen in range(0, len(corpusList[idx].Situation.strip()), 50):\n",
    "            print(corpusList[idx].Situation.strip()[qlen : qlen + 50])\n",
    "        #print (corpusList[idx].Situation.strip())\n",
    "        #    #if (len(corpus[idx].strip()[0:100]) > 100):\n",
    "        #    print (corpus[idx].strip()[0:100])\n",
    "        #else:\n",
    "        #    print (corpus[idx].strip()[0:100])\n",
    "        #if (tmpSpecial == ''):\n",
    "        #    tmpSpecial = corpus[idx].strip()\n",
    "        #    print(tmpSpecial)\n",
    "        print('\\n')\n",
    "        no = no + 1\n",
    "        if (no > 5):\n",
    "            break\n",
    "\n",
    "    show += 1\n",
    "    tEnd2 = time.time()#計時結束\n",
    "    print(\"COS相似計算時間\", \"%f sec\" % (tEnd2 - tStart2))\n",
    "\n",
    "    if (show >= max):break"
   ],
   "metadata": {
    "collapsed": false,
    "pycharm": {
     "name": "#%%\n"
    }
   }
  },
  {
   "cell_type": "code",
   "execution_count": null,
   "outputs": [],
   "source": [
    "# Find the closest 5 sentences of the corpus for each query sentence based on cosine similarity\n",
    "i = -1\n",
    "tmpSpecial = ''\n",
    "show = 0\n",
    "\n",
    "simtype = 'DPS'\n",
    "\n",
    "for query in queries:\n",
    "    i += 1\n",
    "    if (query == 'nan' or queries_ori[i] == 'nan'):\n",
    "        print('break1')\n",
    "        continue\n",
    "    if (len(query) < 10 or len(queries_ori[i]) < 10):\n",
    "        print('break2')\n",
    "        continue\n",
    "\n",
    "\n",
    "    tStart2 = time.time()\n",
    "    query_embedding = embedder.encode(query, convert_to_tensor=True)\n",
    "    if (simtype == 'COS'):\n",
    "        cos_scores = util.pytorch_cos_sim(query_embedding, corpus_embeddings)[0]\n",
    "        cos_scores = cos_scores.cpu()\n",
    "        #We use np.argpartition, to only partially sort the top_k results\n",
    "        top_results = np.argpartition(-cos_scores, range(top_k))[0:top_k]\n",
    "    elif (simtype == 'DIS'):\n",
    "        cos_scores = util.pytorch_Dis(query_embedding, corpus_embeddings)\n",
    "        cos_scores = cos_scores.cpu()\n",
    "        #We use np.argpartition, to only partially sort the top_k results\n",
    "        top_results = np.argpartition(cos_scores, range(top_k))[0:top_k]\n",
    "    elif (simtype == 'DPS'):\n",
    "        cos_scores = util.pytorch_DPS(query_embedding, corpus_embeddings)\n",
    "        cos_scores = cos_scores.cpu()\n",
    "        #We use np.argpartition, to only partially sort the top_k results\n",
    "        top_results = np.argpartition(-cos_scores, range(top_k))[0:top_k]\n",
    "    elif (simtype == 'BS'):\n",
    "        cos_scores = util.pytorch_BS(query_embedding, corpus_embeddings)\n",
    "        cos_scores = cos_scores.cpu()\n",
    "        #We use np.argpartition, to only partially sort the top_k results\n",
    "        top_results = np.argpartition(-cos_scores, range(top_k))[0:top_k]\n",
    "    elif (simtype == 'MD'):\n",
    "        cos_scores = util.pytorch_Manhattan_Dis(query_embedding, corpus_embeddings)\n",
    "        cos_scores = cos_scores.cpu()\n",
    "        #We use np.argpartition, to only partially sort the top_k results\n",
    "        top_results = np.argpartition(-cos_scores, range(top_k))[0:top_k]\n",
    "    elif (simtype == 'JS'):\n",
    "        cos_scores = util.pytorch_Jaccard_Sim(query_embedding, corpus_embeddings)\n",
    "        cos_scores = cos_scores.cpu()\n",
    "        #We use np.argpartition, to only partially sort the top_k results\n",
    "        top_results = np.argpartition(-cos_scores, range(top_k))[0:top_k]\n",
    "    else:\n",
    "        break\n",
    "\n",
    "    print(\"\\n\\n\\n\\n\")\n",
    "    for qlen in range(0, len(queries_ori[i]), 50):\n",
    "        print(show + 1 if qlen==0 else '', \"Query:\" if qlen==0 else '\\t', queries_ori[i][qlen : qlen + 50])\n",
    "    #print(\"\\nTop 5 most similar sentences in corpus:\")\n",
    "    print('')\n",
    "    no = 1\n",
    "    for idx in top_results[0:top_k]:\n",
    "        if (corpus[idx] == specialtest):\n",
    "            continue\n",
    "        if (queries_ori[i] == corpusList[idx].Situation):\n",
    "            continue\n",
    "        if (isinstance(corpusList[idx].Situation, float)):\n",
    "            continue\n",
    "        if (corpusList[idx].Situation.strip() == 'nan'):\n",
    "            continue\n",
    "\n",
    "        print(no, \"  \"\n",
    "              , corpusList[idx].no,\"\\t\"\n",
    "              ,  corpusList[idx].reason\n",
    "              , \"\\t(Score: %.4f)\" % (cos_scores[idx]))\n",
    "        for qlen in range(0, len(corpusList[idx].Situation.strip()), 50):\n",
    "            print(corpusList[idx].Situation.strip()[qlen : qlen + 50])\n",
    "        #print (corpusList[idx].Situation.strip())\n",
    "        #    #if (len(corpus[idx].strip()[0:100]) > 100):\n",
    "        #    print (corpus[idx].strip()[0:100])\n",
    "        #else:\n",
    "        #    print (corpus[idx].strip()[0:100])\n",
    "        #if (tmpSpecial == ''):\n",
    "        #    tmpSpecial = corpus[idx].strip()\n",
    "        #    print(tmpSpecial)\n",
    "        print('\\n')\n",
    "        no = no + 1\n",
    "        if (no > 5):\n",
    "            break\n",
    "\n",
    "    show += 1\n",
    "    tEnd2 = time.time()#計時結束\n",
    "    print(\"COS相似計算時間\", \"%f sec\" % (tEnd2 - tStart2))\n",
    "\n",
    "    if (show >= max):break"
   ],
   "metadata": {
    "collapsed": false,
    "pycharm": {
     "name": "#%%\n"
    }
   }
  },
  {
   "cell_type": "code",
   "execution_count": null,
   "outputs": [],
   "source": [],
   "metadata": {
    "collapsed": false,
    "pycharm": {
     "name": "#%%\n"
    }
   }
  },
  {
   "cell_type": "code",
   "execution_count": null,
   "outputs": [],
   "source": [],
   "metadata": {
    "collapsed": false,
    "pycharm": {
     "name": "#%%\n"
    }
   }
  },
  {
   "cell_type": "code",
   "execution_count": null,
   "outputs": [],
   "source": [],
   "metadata": {
    "collapsed": false,
    "pycharm": {
     "name": "#%%\n"
    }
   }
  },
  {
   "cell_type": "code",
   "execution_count": null,
   "outputs": [],
   "source": [
    "\n",
    "testtype = 2\n",
    "simtype = 'MD'\n"
   ],
   "metadata": {
    "collapsed": false,
    "pycharm": {
     "name": "#%%\n"
    }
   }
  },
  {
   "cell_type": "code",
   "execution_count": 52,
   "outputs": [
    {
     "name": "stderr",
     "output_type": "stream",
     "text": [
      "Exception when trying to download https://sbert.net/models/bert-base-chinese.zip. Response 404\n",
      "WARNING:root:SentenceTransformer-Model https://sbert.net/models/bert-base-chinese.zip not found. Try to create it from scratch\n",
      "WARNING:root:Try to create Transformer Model bert-base-chinese with mean pooling\n"
     ]
    }
   ],
   "source": [
    "from sentence_transformers import SentenceTransformer, util\n",
    "from sklearn.cluster import KMeans\n",
    "embedder = SentenceTransformer(berttype)\n",
    "#embedder = SentenceTransformer('LSCBS')"
   ],
   "metadata": {
    "collapsed": false,
    "pycharm": {
     "name": "#%%\n"
    }
   }
  },
  {
   "cell_type": "code",
   "execution_count": 53,
   "outputs": [],
   "source": [
    "if (testtype != 0):\n",
    "    corpus_embeddings = embedder.encode(corpus, convert_to_tensor=True)\n",
    "else:\n",
    "    corpus_embeddings = embedder.encode(corpus)"
   ],
   "metadata": {
    "collapsed": false,
    "pycharm": {
     "name": "#%%\n"
    }
   }
  },
  {
   "cell_type": "code",
   "execution_count": 54,
   "outputs": [],
   "source": [
    "if (testtype == 1):\n",
    "\n",
    "    tmparray = []\n",
    "    for embedding in corpus_embeddings:\n",
    "        tmparray.extend([[embedding[0], embedding[0]]])\n",
    "    corpus_embeddings = np.array(tmparray)\n",
    "elif(testtype == 2):\n",
    "    queries = []\n",
    "    queries_ori = []\n",
    "    specialtest  ='。'\n",
    "    queries_ori.append(specialtest)\n",
    "    queries.append(specialtest)\n",
    "    query_embedding = embedder.encode(queries[0], convert_to_tensor=True)\n",
    "    if (simtype == 'COS'):\n",
    "        cos_scores = util.pytorch_cos_sim(query_embedding, corpus_embeddings)[0]\n",
    "        cos_scores = cos_scores.cpu()\n",
    "    elif (simtype == 'DIS'):\n",
    "        cos_scores = util.pytorch_Dis(query_embedding, corpus_embeddings)\n",
    "        cos_scores = cos_scores.cpu()\n",
    "    elif (simtype == 'DPS'):\n",
    "        cos_scores = util.pytorch_DPS(query_embedding, corpus_embeddings)\n",
    "        cos_scores = cos_scores.cpu()\n",
    "    elif (simtype == 'MD'):\n",
    "        cos_scores = util.pytorch_Manhattan_Dis(query_embedding, corpus_embeddings)\n",
    "        cos_scores = cos_scores.cpu()\n",
    "    tmparray = []\n",
    "    i = 0\n",
    "    for a in corpus_embeddings:\n",
    "        a = a.tolist()\n",
    "        c = cos_scores[i].tolist()\n",
    "\n",
    "        tmp = []\n",
    "        for _a in a:\n",
    "            tmp.append(_a)\n",
    "        tmp.append(c)\n",
    "        tmparray.extend([tmp])\n",
    "        i+=1\n",
    "    corpus_embeddings = np.array(tmparray)\n",
    "      #tmparray.extend([[embedding, embedding[0]]])"
   ],
   "metadata": {
    "collapsed": false,
    "pycharm": {
     "name": "#%%\n"
    }
   }
  },
  {
   "cell_type": "code",
   "execution_count": 55,
   "outputs": [],
   "source": [
    "from scipy import stats\n",
    "import pandas as pd\n",
    "\n",
    "def Entropy(labels):\n",
    "    # 计算概率分布\n",
    "    probs = pd.Series(labels).value_counts() / len(labels)\n",
    "    # 计算底数为base的熵\n",
    "    en = stats.entropy(probs)\n",
    "    return en\n",
    "\n",
    "class Cls(object):\n",
    "    def __init__(self):\n",
    "        self.reason = \"\"\n",
    "        self.num = 0"
   ],
   "metadata": {
    "collapsed": false,
    "pycharm": {
     "name": "#%%\n"
    }
   }
  },
  {
   "cell_type": "code",
   "execution_count": 56,
   "outputs": [
    {
     "name": "stdout",
     "output_type": "stream",
     "text": [
      "Avg Entropy:\t 1.577436794790112 \n",
      "\n",
      "Avg Entropy:\t 1.5184302774164113 \n",
      "\n",
      "Avg Entropy:\t 1.526319171575302 \n",
      "\n",
      "Avg Entropy:\t 1.5696710218330603 \n",
      "\n",
      "Avg Entropy:\t 1.6114457027828082 \n",
      "\n",
      "Avg Entropy:\t 1.5322231120985292 \n",
      "\n",
      "Avg Entropy:\t 1.541670935610681 \n",
      "\n",
      "Avg Entropy:\t 1.5874168273421883 \n",
      "\n",
      "Avg Entropy:\t 1.5283090804345498 \n",
      "\n",
      "Avg Entropy:\t 1.5385401474404203 \n",
      "\n",
      "Avg Entropy:\t 1.5610628673604658 \n",
      "\n",
      "Avg Entropy:\t 1.5974062911958844 \n",
      "\n",
      "Avg Entropy:\t 1.5237749176537703 \n",
      "\n",
      "Avg Entropy:\t 1.4618511588827805 \n",
      "\n",
      "Avg Entropy:\t 1.4976027072527776 \n",
      "\n"
     ]
    }
   ],
   "source": [
    "specialcls = -1\n",
    "\n",
    "num_clusters = 20\n",
    "for ixxx in range(15):\n",
    "    clustering_model = KMeans(n_clusters=num_clusters)\n",
    "    clustering_model.fit(corpus_embeddings)\n",
    "    cluster_assignment = clustering_model.labels_\n",
    "\n",
    "\n",
    "    #%%\n",
    "\n",
    "    clustered_sentences = [[] for i in range(num_clusters)]\n",
    "    for sentence_id, cluster_id in enumerate(cluster_assignment):\n",
    "        clustered_sentences[cluster_id].append(corpus[sentence_id])\n",
    "        if (tmpSpecial == corpus[sentence_id]):\n",
    "            specialcls = cluster_id\n",
    "\n",
    "    no = 1\n",
    "    clusterList = {}\n",
    "    show = 0\n",
    "    for sentence_id, cluster_id in enumerate(cluster_assignment):\n",
    "        if cluster_id in clusterList:\n",
    "            if corpusList[sentence_id].reason in clusterList[cluster_id]:\n",
    "                clusterList[cluster_id][corpusList[sentence_id].reason] += 1\n",
    "            else:\n",
    "                clusterList[cluster_id][corpusList[sentence_id].reason] = 1\n",
    "        else:\n",
    "            clslist = {}\n",
    "            clslist[corpusList[sentence_id].reason] = 1\n",
    "            clusterList[cluster_id] = clslist\n",
    "\n",
    "    idcnt = 0\n",
    "\n",
    "    for key, value in sorted(clusterList.items()):\n",
    "        clutotal = sum(value.values())\n",
    "        for _key, _value in sorted(value.items(), key=lambda x: -x[1]):\n",
    "            idcnt += _value\n",
    "            clusterList[key][_key] = value[_key] / clutotal\n",
    "\n",
    "\n",
    "    score = 0\n",
    "    clucnt = 0\n",
    "    clusterEntropy = {}\n",
    "    for key, value in sorted(clusterList.items()):\n",
    "        clusterEntropy[key] = Entropy(value)\n",
    "        score += clusterEntropy[key]\n",
    "        clucnt += 1\n",
    "\n",
    "    print(\"Avg Entropy:\\t\", score/clucnt, \"\\n\")\n",
    "\n",
    "\n"
   ],
   "metadata": {
    "collapsed": false,
    "pycharm": {
     "name": "#%%\n"
    }
   }
  },
  {
   "cell_type": "code",
   "execution_count": 24,
   "outputs": [],
   "source": [],
   "metadata": {
    "collapsed": false,
    "pycharm": {
     "name": "#%%\n"
    }
   }
  },
  {
   "cell_type": "code",
   "execution_count": 24,
   "outputs": [],
   "source": [],
   "metadata": {
    "collapsed": false,
    "pycharm": {
     "name": "#%%\n"
    }
   }
  },
  {
   "cell_type": "code",
   "execution_count": 25,
   "outputs": [],
   "source": [
    "specialcls = -1\n",
    "\n",
    "num_clusters = 20\n",
    "clustering_model = KMeans(n_clusters=num_clusters)\n",
    "clustering_model.fit(corpus_embeddings)\n",
    "cluster_assignment = clustering_model.labels_\n"
   ],
   "metadata": {
    "collapsed": false,
    "pycharm": {
     "name": "#%%\n"
    }
   }
  },
  {
   "cell_type": "code",
   "execution_count": 26,
   "outputs": [
    {
     "name": "stdout",
     "output_type": "stream",
     "text": [
      "Cluster  1\n",
      "王炎權於民國100年4月8日晚間9時30分許起至翌日凌晨3時許止，在彰化縣芬園鄉路○段291巷15號之住處內飲酒後，已達不能安全駕駛動力交通工具之程度，竟仍駕駛車牌號碼為號自小客車上路，欲往南投縣日月\n",
      "\n",
      "Cluster  2\n",
      "丁係年滿十八歲之未成年人，明知潘志軒、真實姓名年籍不詳綽號「鴻哥」之成年男子及渠等所屬之詐欺集團，係利用電話假藉司法人員、警調機關偵辦案件名義，向不特定民眾詐欺取財，竟參與該詐欺集團，擔任取款之車手，\n",
      "\n",
      "Cluster  3\n",
      "被告丁為菲律賓籍看護工即告訴人甲雇主丙之胞兄，而告訴人係受僱在新北市區路0段00巷00號照顧被告之母乙。被告於民國101年11月9日17時許，在本件住處內因與告訴人發生爭執，且雙方語言不通，其明知人體\n",
      "\n",
      "Cluster  4\n",
      "林國銘可得而知FOXY檔案傳輸軟體，係一種以點對點技術下載或傳輸檔案之程式，當使用者執行FOXY軟體下載單一檔案時，於下載完成前、後，分別會儲存於該軟體預設之暫存資料夾及下載資料夾，且此2資料夾均經該\n",
      "\n",
      "Cluster  5\n",
      "邱建豪於民國106年5月1日下午5時15分許，在桃園市區路000號桃園市政府警察局桃園分局埔子派出所內之值班臺，明知員警徐芳振係依法執行職務之公務員，因不滿員警告以所詢事項應向其他單位辦理，竟基於妨害\n",
      "\n",
      "Cluster  6\n",
      "被告張芳碩明知改造槍枝為槍砲彈藥刀械管制條例所列管之違禁物，未經中央主管機關之許可，不得加以販賣，竟基於持有販賣改造槍枝之犯意，於民國104年3月中旬之某日，在其所經營位於臺中市區路0段000號1樓之\n",
      "\n",
      "Cluster  7\n",
      "黎桓銘承租並居住在臺中縣太平市自民國98年9月某日起至99年3月9日前之某日止之日間，先後3次，持其所有、租書使用之錦城漫畫影音會員卡1張，開啟陳廣致上開租屋處大門，自大門侵入該房屋，分別竊取陳廣致所\n",
      "\n",
      "Cluster  8\n",
      "康昭仁於「世旻設計有限公司」擔任業務經理一職，於民國99年8月間某日起，於網路YES123求職網站上張貼招募人才之訊息。適有代號0女子，於同一網站上張貼求職之訊息，康昭仁遂撥打電話予A女，約定於99年\n",
      "\n",
      "Cluster  9\n",
      "林秉鈞明知如附表一所示之商標，係該附表所示之商標權人向我國經濟部智慧財產局申請註冊並取得商標專用權之圖樣，且現仍在商標專用期限內，任何人未經商標權人之同意或授權，不得於同一或類似商品，使用相同或近似之\n",
      "\n",
      "Cluster  10\n",
      "許其昌係址設臺中市○區路374號「左岸國際美容生活館」之負責人，而李耀忠自民國99年3月中旬某日受僱於許其昌、擔任與該美容館之經理，許其昌、李耀忠共同意圖使女子與他人為性交、猥褻行為，而媒介、容留以營\n",
      "\n",
      "Cluster  11\n",
      "謝昀臻於民國100年4月9日中午12時45分許前之某時，搭乘其夫謝新發所駕駛改懸掛謝昀臻所有車牌號碼號之自用小客車前往臺中市○里區路。於同日中午12時45分許，途經臺中市○里區路23號前，謝昀臻於下車\n",
      "\n",
      "Cluster  12\n",
      "被告鍾偉強明知MDMA係毒品危害防制條例所列之第二級毒品，不得非法持有，竟仍基於持有第二級毒品MDMA之犯意，於民國103年10月31日晚間8時許，在新北市三重區三和路，以新臺幣5,000元之代價，向\n",
      "\n",
      "Cluster  13\n",
      "石月玲因常前往林素英、黃議寬祖孫所經營之位於臺中市○區街110號之「慶昌資源回收場」買賣二手貨物，而與林素英熟識。石月玲於民國100年5月30日上午8時39分許，在「慶昌資源回收場」辦公室內與林素英聊\n",
      "\n",
      "Cluster  14\n",
      "被告陳守仁為高職畢業擔任保全之男子，竟不思以正常手段獲取財物，因一時貪念，以徒手竊取該超商內商品供己食用之犯罪動機、目的、手段、生活狀況、智識程度、所竊得物品價值新臺幣總共約821元\n",
      "\n",
      "Cluster  15\n",
      "王得明明知附表一所示之視聽光碟片係由得利影視股份有限公司所享有著作財產權之著作物，另附表二所示之視聽光碟片，亦係享有著作財產權之視聽著作，任何人非經各該享有著作財產權人之同意或授權，不得意圖銷售而擅自\n",
      "\n",
      "Cluster  16\n",
      "王寬宏於民國100年2月16日上午9時55分許，駕駛車牌號碼號自用小客車，沿臺南市區路由東往西方向行駛，行至復興路390號前時，本應注意汽車行駛時，駕駛人應注意車前狀況及兩車併行之間隔，並隨時採取必要\n",
      "\n",
      "Cluster  17\n",
      "詎其不知悔改，復基於賭博及意圖營利供給賭博場所、聚眾賭博之犯意，自民國100年1月25日起，提供其位在臺中市區路230號之公眾得出入之場所，聚集不特定多數人簽選號碼與之賭博財物。其賭法係賭客以電話向張\n",
      "\n",
      "Cluster  18\n",
      "黃東豐前於民國96年間，因妨害風化案件，經本院以96年度訴字第4516號判決判處有期徒刑2月，緩刑2年確定。詎其猶不知悔改，復基於意圖使女子與他人為性交行為，而媒介以營利之犯意，於100年10月3日某\n",
      "\n",
      "Cluster  19\n",
      "余暐勝於民國107年3月間透過網路交友軟體「BEETALK」結識代號000之14歲以上未滿16歲少女，進而交往。詎余暐勝明知A女與其胞妹年紀相同，為就讀國中、未滿16歲之少女，竟仍基於對14歲以上未滿\n",
      "\n",
      "Cluster  20\n",
      "於九十九年十月六日某時許，在其位於臺南市○區街二段七九巷一四號之一之住處房間內，以將第一級毒品海洛因置入針筒內注射之方式，施用海洛因一次。另基於施用第二級毒品甲基安非他命之犯意，於同日某時許，在上揭住\n",
      "\n"
     ]
    }
   ],
   "source": [
    "clustered_sentences = [[] for i in range(num_clusters)]\n",
    "for sentence_id, cluster_id in enumerate(cluster_assignment):\n",
    "    clustered_sentences[cluster_id].append(corpus[sentence_id])\n",
    "    if (tmpSpecial == corpus[sentence_id]):\n",
    "        specialcls = cluster_id\n",
    "        print (cluster_id)\n",
    "for i, cluster in enumerate(clustered_sentences):\n",
    "    print(\"Cluster \", i+1)\n",
    "    print(cluster[0].strip()[0:100])\n",
    "    print(\"\")"
   ],
   "metadata": {
    "collapsed": false,
    "pycharm": {
     "name": "#%%\n"
    }
   }
  },
  {
   "cell_type": "code",
   "execution_count": 27,
   "outputs": [],
   "source": [
    "class Cls(object):\n",
    "    def __init__(self):\n",
    "        self.reason = \"\"\n",
    "        self.num = 0"
   ],
   "metadata": {
    "collapsed": false,
    "pycharm": {
     "name": "#%%\n"
    }
   }
  },
  {
   "cell_type": "code",
   "execution_count": 28,
   "outputs": [
    {
     "name": "stdout",
     "output_type": "stream",
     "text": [
      "1    106,易,1093 \t 妨害公務 \n",
      "\n",
      "邱建豪於民國106年5月1日下午5時15分許，在桃園市區路000號桃園市政府警察局桃園分局埔子派出所內之值班臺，明知員警徐芳振係依法執行職務之公務員，因不滿員警告以所詢事項應向其他單位辦理，竟基於妨害\n",
      "\n",
      "2    107,侵簡,3 \t 妨害性自主 \n",
      "\n",
      "余暐勝於民國107年3月間透過網路交友軟體「BEETALK」結識代號000之14歲以上未滿16歲少女，進而交往。詎余暐勝明知A女與其胞妹年紀相同，為就讀國中、未滿16歲之少女，竟仍基於對14歲以上未滿\n",
      "\n",
      "3    100,中交簡,1002 \t 公共危險 \n",
      "\n",
      "王炎權於民國100年4月8日晚間9時30分許起至翌日凌晨3時許止，在彰化縣芬園鄉路○段291巷15號之住處內飲酒後，已達不能安全駕駛動力交通工具之程度，竟仍駕駛車牌號碼為號自小客車上路，欲往南投縣日月\n",
      "\n",
      "4    100,中交簡,100 \t 公共危險 \n",
      "\n",
      "林耀明於民國99年10月22日下午4時許起至5時許止，在臺中市區路與豐樂路交岔路口附近之某工地內，與友人飲用酒類後，已達不能安全駕駛動力交通工具之程度，猶於同日下午6時許，駕駛車牌號碼號自用小客車上路\n",
      "\n",
      "5    100,中交簡,1016 \t 公共危險 \n",
      "\n",
      "朱建鴻於民國100年4月19日晚間9時許起，在臺中市大雅區清泉崗友人住處內飲用啤酒，至同日晚間10時許已達不能安全駕駛動力交通工具之程度，猶於飲畢後騎乘車牌號碼號重型機車上路欲返回住處，嗣於同日晚間1\n",
      "\n"
     ]
    }
   ],
   "source": [
    "no = 1\n",
    "clusterList = {}\n",
    "show = 0\n",
    "for sentence_id, cluster_id in enumerate(cluster_assignment):\n",
    "    if (show < 5):\n",
    "        print(no, \"  \"\n",
    "                  , corpusList[sentence_id].no,\"\\t\"\n",
    "                  ,  corpusList[sentence_id].reason, \"\\n\")\n",
    "        if (len(corpusList[sentence_id].Situation.strip()) > 100):\n",
    "            print(corpusList[sentence_id].Situation.strip()[0:100])\n",
    "        else:\n",
    "            print(corpusList[sentence_id].Situation.strip())\n",
    "        no += 1\n",
    "        print(\"\")\n",
    "\n",
    "        show +=1\n",
    "    if cluster_id in clusterList:\n",
    "        if corpusList[sentence_id].reason in clusterList[cluster_id]:\n",
    "            clusterList[cluster_id][corpusList[sentence_id].reason] += 1\n",
    "        else:\n",
    "            clusterList[cluster_id][corpusList[sentence_id].reason] = 1\n",
    "    else:\n",
    "        clslist = {}\n",
    "        clslist[corpusList[sentence_id].reason] = 1\n",
    "        clusterList[cluster_id] = clslist"
   ],
   "metadata": {
    "collapsed": false,
    "pycharm": {
     "name": "#%%\n"
    }
   }
  },
  {
   "cell_type": "code",
   "execution_count": 29,
   "outputs": [
    {
     "name": "stdout",
     "output_type": "stream",
     "text": [
      "0  \n",
      "264\n",
      "公共危險   250\n",
      "過失傷害   6\n",
      "偽造文書   5\n",
      "妨害性自主   1\n",
      "妨害公務   1\n",
      "貪污   1\n",
      " \n",
      "1  \n",
      "126\n",
      "詐欺   97\n",
      "妨害風化   9\n",
      "恐嚇取財   4\n",
      "賭博   3\n",
      "竊盜   3\n",
      "殺人未遂   3\n",
      "恐嚇   2\n",
      "妨害自由   2\n",
      "妨害名譽   1\n",
      "強盜   1\n",
      "公共危險   1\n",
      " \n",
      "2  \n",
      "411\n",
      "傷害   158\n",
      "殺人未遂   76\n",
      "毀損   51\n",
      "妨害名譽   50\n",
      "妨害自由   31\n",
      "毀棄損壞   10\n",
      "殺人   9\n",
      "妨害公務   9\n",
      "妨害性自主   8\n",
      "恐嚇   4\n",
      "強盜   2\n",
      "搶奪   1\n",
      "竊盜   1\n",
      "詐欺   1\n",
      " \n",
      "3  \n",
      "194\n",
      "妨害名譽   130\n",
      "著作權法   26\n",
      "妨害自由   15\n",
      "妨害風化   4\n",
      "詐欺   3\n",
      "恐嚇取財   3\n",
      "妨害性自主   2\n",
      "殺人   2\n",
      "毒品危害   2\n",
      "毀損   2\n",
      "殺人未遂   1\n",
      "偽造文書   1\n",
      "強盜   1\n",
      "公共危險   1\n",
      "恐嚇   1\n",
      " \n",
      "4  \n",
      "306\n",
      "妨害公務   253\n",
      "偽造文書   12\n",
      "妨害自由   12\n",
      "妨害名譽   7\n",
      "傷害   6\n",
      "公共危險   4\n",
      "毀損   3\n",
      "殺人未遂   2\n",
      "恐嚇   2\n",
      "過失傷害   1\n",
      "竊盜   1\n",
      "侵占   1\n",
      "妨害性自主   1\n",
      "毒品危害   1\n",
      " \n",
      "5  \n",
      "219\n",
      "槍砲彈藥刀械   213\n",
      "強盜   3\n",
      "殺人未遂   2\n",
      "貪污   1\n",
      " \n",
      "6  \n",
      "392\n",
      "偽造文書   106\n",
      "侵占   92\n",
      "詐欺   50\n",
      "妨害自由   36\n",
      "毀損   29\n",
      "竊盜   16\n",
      "妨害名譽   14\n",
      "妨害公務   9\n",
      "著作權法   5\n",
      "槍砲彈藥刀械   5\n",
      "妨害風化   5\n",
      "賭博   4\n",
      "毀棄損壞   3\n",
      "貪污   3\n",
      "強盜   2\n",
      "恐嚇   2\n",
      "恐嚇取財   2\n",
      "商標法   2\n",
      "醫師法   2\n",
      "殺人未遂   1\n",
      "傷害   1\n",
      "搶奪   1\n",
      "毒品危害   1\n",
      "公共危險   1\n",
      " \n",
      "7  \n",
      "300\n",
      "侵占   85\n",
      "偽造文書   69\n",
      "著作權法   30\n",
      "妨害名譽   28\n",
      "妨害自由   23\n",
      "詐欺   14\n",
      "毀損   12\n",
      "妨害風化   8\n",
      "商標法   6\n",
      "妨害公務   4\n",
      "妨害性自主   3\n",
      "毀棄損壞   3\n",
      "過失致死   3\n",
      "貪污   2\n",
      "竊盜   2\n",
      "傷害   2\n",
      "賭博   2\n",
      "公共危險   1\n",
      "恐嚇取財   1\n",
      "醫師法   1\n",
      "殺人   1\n",
      " \n",
      "8  \n",
      "158\n",
      "商標法   158\n",
      " \n",
      "9  \n",
      "254\n",
      "妨害風化   252\n",
      "妨害性自主   1\n",
      "著作權法   1\n",
      " \n",
      "10  \n",
      "269\n",
      "毀損   181\n",
      "妨害自由   17\n",
      "毀棄損壞   14\n",
      "傷害   12\n",
      "妨害名譽   10\n",
      "殺人未遂   9\n",
      "過失傷害   4\n",
      "偽造文書   4\n",
      "侵占   4\n",
      "妨害公務   3\n",
      "公共危險   2\n",
      "妨害性自主   2\n",
      "恐嚇   2\n",
      "竊盜   1\n",
      "殺人   1\n",
      "搶奪   1\n",
      "強盜   1\n",
      "槍砲彈藥刀械   1\n",
      " \n",
      "11  \n",
      "182\n",
      "毒品危害   176\n",
      "強盜   2\n",
      "竊盜   1\n",
      "搶奪   1\n",
      "藥事法   1\n",
      "妨害名譽   1\n",
      " \n",
      "12  \n",
      "490\n",
      "殺人未遂   100\n",
      "妨害自由   87\n",
      "妨害名譽   61\n",
      "傷害   50\n",
      "妨害性自主   41\n",
      "殺人   26\n",
      "毀損   25\n",
      "強盜   20\n",
      "搶奪   15\n",
      "侵占   11\n",
      "恐嚇   11\n",
      "妨害公務   10\n",
      "竊盜   9\n",
      "妨害風化   7\n",
      "詐欺   5\n",
      "偽造文書   4\n",
      "公共危險   3\n",
      "毀棄損壞   2\n",
      "槍砲彈藥刀械   2\n",
      "恐嚇取財   1\n",
      " \n",
      "13  \n",
      "679\n",
      "竊盜   261\n",
      "搶奪   181\n",
      "強盜   105\n",
      "侵占   38\n",
      "妨害自由   21\n",
      "偽造文書   16\n",
      "妨害性自主   9\n",
      "槍砲彈藥刀械   8\n",
      "毀損   8\n",
      "恐嚇   7\n",
      "殺人未遂   6\n",
      "恐嚇取財   6\n",
      "妨害風化   4\n",
      "公共危險   4\n",
      "詐欺   2\n",
      "妨害公務   1\n",
      "毀棄損壞   1\n",
      "毒品危害   1\n",
      " \n",
      "14  \n",
      "270\n",
      "著作權法   265\n",
      "商標法   5\n",
      " \n",
      "15  \n",
      "284\n",
      "過失傷害   199\n",
      "公共危險   56\n",
      "妨害自由   9\n",
      "妨害公務   6\n",
      "毀損   5\n",
      "搶奪   3\n",
      "殺人未遂   2\n",
      "過失致死   2\n",
      "偽造文書   1\n",
      "傷害   1\n",
      " \n",
      "16  \n",
      "225\n",
      "賭博   223\n",
      "妨害公務   1\n",
      "妨害自由   1\n",
      " \n",
      "17  \n",
      "183\n",
      "竊盜   20\n",
      "妨害公務   19\n",
      "毒品危害   18\n",
      "妨害風化   13\n",
      "搶奪   13\n",
      "公共危險   12\n",
      "強盜   11\n",
      "毀損   9\n",
      "槍砲彈藥刀械   9\n",
      "詐欺   8\n",
      "妨害名譽   8\n",
      "妨害性自主   6\n",
      "傷害   6\n",
      "偽造文書   6\n",
      "賭博   5\n",
      "妨害自由   5\n",
      "侵占   5\n",
      "殺人未遂   2\n",
      "著作權法   2\n",
      "毀棄損壞   2\n",
      "殺人   1\n",
      "過失傷害   1\n",
      "替代役實施   1\n",
      "恐嚇取財   1\n",
      " \n",
      "18  \n",
      "230\n",
      "妨害性自主   209\n",
      "妨害自由   9\n",
      "殺人未遂   4\n",
      "偽造文書   3\n",
      "強盜   2\n",
      "殺人   1\n",
      "恐嚇取財   1\n",
      "妨害名譽   1\n",
      " \n",
      "19  \n",
      "119\n",
      "毒品危害   116\n",
      "妨害公務   1\n",
      "藥事法   1\n",
      "賭博   1\n",
      " \n"
     ]
    }
   ],
   "source": [
    "idcnt = 0\n",
    "\n",
    "for key, value in sorted(clusterList.items()):\n",
    "    print(key, \" \")\n",
    "    clutotal = sum(value.values())\n",
    "    print(clutotal)\n",
    "    for _key, _value in sorted(value.items(), key=lambda x: -x[1]):\n",
    "        idcnt += _value\n",
    "        clusterList[key][_key] = value[_key] / clutotal\n",
    "        print(_key, \" \", _value)\n",
    "        #print(_key, \" \", _value, \"\\nP= \",clusterList[key][_key])\n",
    "    print(\" \")"
   ],
   "metadata": {
    "collapsed": false,
    "pycharm": {
     "name": "#%%\n"
    }
   }
  },
  {
   "cell_type": "code",
   "execution_count": 30,
   "outputs": [],
   "source": [
    "from scipy import stats\n",
    "import pandas as pd\n",
    "\n",
    "def Entropy(labels):\n",
    "    # 计算概率分布\n",
    "    probs = pd.Series(labels).value_counts() / len(labels)\n",
    "    # 计算底数为base的熵\n",
    "    en = stats.entropy(probs)\n",
    "    return en"
   ],
   "metadata": {
    "collapsed": false,
    "pycharm": {
     "name": "#%%\n"
    }
   }
  },
  {
   "cell_type": "code",
   "execution_count": 31,
   "outputs": [
    {
     "name": "stdout",
     "output_type": "stream",
     "text": [
      "Avg Entropy:\t 1.585726918841268 \n",
      "\n",
      "Clu 0 Entropy:\t 1.2424533248940002\n",
      "Clu 1 Entropy:\t 1.6726254461503207\n",
      "Clu 2 Entropy:\t 2.3046193848206715\n",
      "Clu 3 Entropy:\t 1.7094727765842133\n",
      "Clu 4 Entropy:\t 1.8662160235859526\n",
      "Clu 5 Entropy:\t 1.3862943611198906\n",
      "Clu 6 Entropy:\t 2.312365899036895\n",
      "Clu 7 Entropy:\t 2.3594656874870674\n",
      "Clu 8 Entropy:\t 0.0\n",
      "Clu 9 Entropy:\t 0.6365141682948128\n",
      "Clu 10 Entropy:\t 2.0771015748862114\n",
      "Clu 11 Entropy:\t 0.8675632284814613\n",
      "Clu 12 Entropy:\t 2.857102837442002\n",
      "Clu 13 Entropy:\t 2.476220649598165\n",
      "Clu 14 Entropy:\t 0.6931471805599453\n",
      "Clu 15 Entropy:\t 2.0253262207700677\n",
      "Clu 16 Entropy:\t 0.6365141682948128\n",
      "Clu 17 Entropy:\t 2.36173836677077\n",
      "Clu 18 Entropy:\t 1.6674619334292948\n",
      "Clu 19 Entropy:\t 0.5623351446188083\n"
     ]
    }
   ],
   "source": [
    "score = 0\n",
    "clucnt = 0\n",
    "clusterEntropy = {}\n",
    "for key, value in sorted(clusterList.items()):\n",
    "    clusterEntropy[key] = Entropy(value)\n",
    "    score += clusterEntropy[key]\n",
    "    clucnt += 1\n",
    "\n",
    "print(\"Avg Entropy:\\t\", score/clucnt, \"\\n\")\n",
    "\n",
    "for key, value in sorted(clusterEntropy.items()):\n",
    "    print(\"Clu\", key, \"Entropy:\\t\", value)"
   ],
   "metadata": {
    "collapsed": false,
    "pycharm": {
     "name": "#%%\n"
    }
   }
  }
 ],
 "metadata": {
  "kernelspec": {
   "display_name": "Python 3",
   "language": "python",
   "name": "python3"
  },
  "language_info": {
   "codemirror_mode": {
    "name": "ipython",
    "version": 3
   },
   "file_extension": ".py",
   "mimetype": "text/x-python",
   "name": "python",
   "nbconvert_exporter": "python",
   "pygments_lexer": "ipython3",
   "version": "3.6.8"
  }
 },
 "nbformat": 4,
 "nbformat_minor": 1
}