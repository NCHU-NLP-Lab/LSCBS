{
 "cells": [
  {
   "cell_type": "code",
   "execution_count": 1,
   "metadata": {
    "pycharm": {
     "name": "#%%\n"
    }
   },
   "outputs": [],
   "source": [
    "import numpy as np\n",
    "import pandas as pd\n",
    "import re\n",
    "#my_regex = \"\\（.*?\\）|\\(.*?\\)+\\(\\^一二三四五六七八九零十1234567890\\)\\]\"\n",
    "#my_regex = r\"[\\(\\（]([^一二三四五六七八九零十1234567890]{1}[^\\)\\）]+|[一二三四五六七八九零十1234567890]{1}[^\\)\\）]{1,})[\\)\\）]\""
   ]
  },
  {
   "cell_type": "code",
   "execution_count": 2,
   "outputs": [
    {
     "data": {
      "text/plain": "       court                       date          no sys  reason type  \\\nid                                                                     \n0   臺灣桃園地方法院  2018-04-18T00:00:00+08:00  106,易,1093  刑事    妨害公務   判決   \n1   臺灣臺北地方法院  2018-12-26T00:00:00+08:00    107,侵簡,3  刑事  妨害性自主罪   判決   \n\n                                             mainText  \\\nid                                                      \n0             邱建豪犯妨害公務執行罪，累犯，處拘役拾日，如易科罰金，以新臺幣壹仟元折算壹日。   \n1   余暐勝對於十四歲以上未滿十六歲之女子為性交，共肆罪，各處有期徒刑參月。應執行有期徒刑捌月。緩...   \n\n                                            judgement  \\\nid                                                      \n0   臺灣桃園地方法院刑事判決106年度易字第1093號公訴人臺灣桃園地方法院檢察署檢察官被告邱建...   \n1   臺灣臺北地方法院刑事簡易判決107年度侵簡字第3號公訴人臺灣臺北地方檢察署檢察官被告余暐勝選...   \n\n                                            Situation  \nid                                                     \n0   邱建豪於民國106年5月1日下午5時15分許，在桃園市○○區○○路000號桃園市政府警察局桃...  \n1   余暐勝於民國107年3月間透過網路交友軟體「BEETALK」結識代號0000-000000之...  ",
      "text/html": "<div>\n<style scoped>\n    .dataframe tbody tr th:only-of-type {\n        vertical-align: middle;\n    }\n\n    .dataframe tbody tr th {\n        vertical-align: top;\n    }\n\n    .dataframe thead th {\n        text-align: right;\n    }\n</style>\n<table border=\"1\" class=\"dataframe\">\n  <thead>\n    <tr style=\"text-align: right;\">\n      <th></th>\n      <th>court</th>\n      <th>date</th>\n      <th>no</th>\n      <th>sys</th>\n      <th>reason</th>\n      <th>type</th>\n      <th>mainText</th>\n      <th>judgement</th>\n      <th>Situation</th>\n    </tr>\n    <tr>\n      <th>id</th>\n      <th></th>\n      <th></th>\n      <th></th>\n      <th></th>\n      <th></th>\n      <th></th>\n      <th></th>\n      <th></th>\n      <th></th>\n    </tr>\n  </thead>\n  <tbody>\n    <tr>\n      <th>0</th>\n      <td>臺灣桃園地方法院</td>\n      <td>2018-04-18T00:00:00+08:00</td>\n      <td>106,易,1093</td>\n      <td>刑事</td>\n      <td>妨害公務</td>\n      <td>判決</td>\n      <td>邱建豪犯妨害公務執行罪，累犯，處拘役拾日，如易科罰金，以新臺幣壹仟元折算壹日。</td>\n      <td>臺灣桃園地方法院刑事判決106年度易字第1093號公訴人臺灣桃園地方法院檢察署檢察官被告邱建...</td>\n      <td>邱建豪於民國106年5月1日下午5時15分許，在桃園市○○區○○路000號桃園市政府警察局桃...</td>\n    </tr>\n    <tr>\n      <th>1</th>\n      <td>臺灣臺北地方法院</td>\n      <td>2018-12-26T00:00:00+08:00</td>\n      <td>107,侵簡,3</td>\n      <td>刑事</td>\n      <td>妨害性自主罪</td>\n      <td>判決</td>\n      <td>余暐勝對於十四歲以上未滿十六歲之女子為性交，共肆罪，各處有期徒刑參月。應執行有期徒刑捌月。緩...</td>\n      <td>臺灣臺北地方法院刑事簡易判決107年度侵簡字第3號公訴人臺灣臺北地方檢察署檢察官被告余暐勝選...</td>\n      <td>余暐勝於民國107年3月間透過網路交友軟體「BEETALK」結識代號0000-000000之...</td>\n    </tr>\n  </tbody>\n</table>\n</div>"
     },
     "execution_count": 2,
     "metadata": {},
     "output_type": "execute_result"
    }
   ],
   "source": [
    "df=pd.read_csv('..//TFIDF//data_tfidf3/Result_SBert_5K.csv', index_col=0)\n",
    "#df=pd.read_csv('.//data//Result_R5.csv', index_col=0)\n",
    "df.head(2)"
   ],
   "metadata": {
    "collapsed": false,
    "pycharm": {
     "name": "#%%\n"
    }
   }
  },
  {
   "cell_type": "code",
   "execution_count": 3,
   "metadata": {
    "pycharm": {
     "name": "#%%\n"
    }
   },
   "outputs": [
    {
     "data": {
      "text/plain": "   Unnamed: 0    id     court                       date          no sys  \\\n0        4089  4485  臺灣臺北地方法院  2017-06-28T00:00:00+08:00   106,易,223  刑事   \n1         947  1072  臺灣桃園地方法院  2016-06-27T00:00:00+08:00  105,交易,137  刑事   \n\n  reason type                                  mainText  \\\n0   偽造文書   判決  羅文興犯使公務員登載不實罪，處有期徒刑貳月，如易科罰金，以新臺幣壹仟元折算壹日。   \n1   過失傷害   判決                                  本件公訴不受理。   \n\n                                           judgement  \\\n0  臺灣臺北地方法院刑事判決106年度易字第223號公訴人臺灣臺北地方法院檢察署檢察官被告羅文興...   \n1  臺灣桃園地方法院刑事判決105年度交易字第137號公訴人臺灣桃園地方法院檢察署檢察官被告張洛...   \n\n                                           Situation  \n0  羅文興明知其名下坐落新北市○○區○○段000號、407之1號地號土地及其上同段416號、13...  \n1  被告張洛綾於民國104年2月10日上午8時54分許，駕駛車牌號碼0000-00號自用小客車，...  ",
      "text/html": "<div>\n<style scoped>\n    .dataframe tbody tr th:only-of-type {\n        vertical-align: middle;\n    }\n\n    .dataframe tbody tr th {\n        vertical-align: top;\n    }\n\n    .dataframe thead th {\n        text-align: right;\n    }\n</style>\n<table border=\"1\" class=\"dataframe\">\n  <thead>\n    <tr style=\"text-align: right;\">\n      <th></th>\n      <th>Unnamed: 0</th>\n      <th>id</th>\n      <th>court</th>\n      <th>date</th>\n      <th>no</th>\n      <th>sys</th>\n      <th>reason</th>\n      <th>type</th>\n      <th>mainText</th>\n      <th>judgement</th>\n      <th>Situation</th>\n    </tr>\n  </thead>\n  <tbody>\n    <tr>\n      <th>0</th>\n      <td>4089</td>\n      <td>4485</td>\n      <td>臺灣臺北地方法院</td>\n      <td>2017-06-28T00:00:00+08:00</td>\n      <td>106,易,223</td>\n      <td>刑事</td>\n      <td>偽造文書</td>\n      <td>判決</td>\n      <td>羅文興犯使公務員登載不實罪，處有期徒刑貳月，如易科罰金，以新臺幣壹仟元折算壹日。</td>\n      <td>臺灣臺北地方法院刑事判決106年度易字第223號公訴人臺灣臺北地方法院檢察署檢察官被告羅文興...</td>\n      <td>羅文興明知其名下坐落新北市○○區○○段000號、407之1號地號土地及其上同段416號、13...</td>\n    </tr>\n    <tr>\n      <th>1</th>\n      <td>947</td>\n      <td>1072</td>\n      <td>臺灣桃園地方法院</td>\n      <td>2016-06-27T00:00:00+08:00</td>\n      <td>105,交易,137</td>\n      <td>刑事</td>\n      <td>過失傷害</td>\n      <td>判決</td>\n      <td>本件公訴不受理。</td>\n      <td>臺灣桃園地方法院刑事判決105年度交易字第137號公訴人臺灣桃園地方法院檢察署檢察官被告張洛...</td>\n      <td>被告張洛綾於民國104年2月10日上午8時54分許，駕駛車牌號碼0000-00號自用小客車，...</td>\n    </tr>\n  </tbody>\n</table>\n</div>"
     },
     "execution_count": 3,
     "metadata": {},
     "output_type": "execute_result"
    }
   ],
   "source": [
    "test = pd.read_csv(\"..//TFIDF//data_tfidf3//Result_SBert_5K_Test.csv\", encoding='utf8')\n",
    "test.head(2)"
   ]
  },
  {
   "cell_type": "code",
   "execution_count": 4,
   "metadata": {
    "pycharm": {
     "name": "#%%\n"
    }
   },
   "outputs": [
    {
     "name": "stderr",
     "output_type": "stream",
     "text": [
      "c:\\users\\user\\pycharmprojects\\pytorch\\venv\\lib\\site-packages\\ipykernel_launcher.py:2: SettingWithCopyWarning: \n",
      "A value is trying to be set on a copy of a slice from a DataFrame.\n",
      "Try using .loc[row_indexer,col_indexer] = value instead\n",
      "\n",
      "See the caveats in the documentation: https://pandas.pydata.org/pandas-docs/stable/user_guide/indexing.html#returning-a-view-versus-a-copy\n",
      "  \n",
      "c:\\users\\user\\pycharmprojects\\pytorch\\venv\\lib\\site-packages\\ipykernel_launcher.py:3: SettingWithCopyWarning: \n",
      "A value is trying to be set on a copy of a slice from a DataFrame.\n",
      "Try using .loc[row_indexer,col_indexer] = value instead\n",
      "\n",
      "See the caveats in the documentation: https://pandas.pydata.org/pandas-docs/stable/user_guide/indexing.html#returning-a-view-versus-a-copy\n",
      "  This is separate from the ipykernel package so we can avoid doing imports until\n",
      "c:\\users\\user\\pycharmprojects\\pytorch\\venv\\lib\\site-packages\\ipykernel_launcher.py:4: SettingWithCopyWarning: \n",
      "A value is trying to be set on a copy of a slice from a DataFrame.\n",
      "Try using .loc[row_indexer,col_indexer] = value instead\n",
      "\n",
      "See the caveats in the documentation: https://pandas.pydata.org/pandas-docs/stable/user_guide/indexing.html#returning-a-view-versus-a-copy\n",
      "  after removing the cwd from sys.path.\n",
      "c:\\users\\user\\pycharmprojects\\pytorch\\venv\\lib\\site-packages\\ipykernel_launcher.py:5: SettingWithCopyWarning: \n",
      "A value is trying to be set on a copy of a slice from a DataFrame.\n",
      "Try using .loc[row_indexer,col_indexer] = value instead\n",
      "\n",
      "See the caveats in the documentation: https://pandas.pydata.org/pandas-docs/stable/user_guide/indexing.html#returning-a-view-versus-a-copy\n",
      "  \"\"\"\n",
      "c:\\users\\user\\pycharmprojects\\pytorch\\venv\\lib\\site-packages\\ipykernel_launcher.py:6: SettingWithCopyWarning: \n",
      "A value is trying to be set on a copy of a slice from a DataFrame.\n",
      "Try using .loc[row_indexer,col_indexer] = value instead\n",
      "\n",
      "See the caveats in the documentation: https://pandas.pydata.org/pandas-docs/stable/user_guide/indexing.html#returning-a-view-versus-a-copy\n",
      "  \n",
      "c:\\users\\user\\pycharmprojects\\pytorch\\venv\\lib\\site-packages\\ipykernel_launcher.py:7: SettingWithCopyWarning: \n",
      "A value is trying to be set on a copy of a slice from a DataFrame.\n",
      "Try using .loc[row_indexer,col_indexer] = value instead\n",
      "\n",
      "See the caveats in the documentation: https://pandas.pydata.org/pandas-docs/stable/user_guide/indexing.html#returning-a-view-versus-a-copy\n",
      "  import sys\n"
     ]
    }
   ],
   "source": [
    "df1 = df[~df['no'].isin(test['no'])]\n",
    "df1['reason'] = df1['reason'].str.replace('等','')\n",
    "df1['reason'] = df1['reason'].str.replace('罪','')\n",
    "df1['reason'] = df1['reason'].str.replace(\"條例\",\"\")\n",
    "df1['reason'] = df1['reason'].str.replace(\"防制\",\"\")\n",
    "df1['reason'] = df1['reason'].str.replace(\"管制\",\"\")\n",
    "df1['reason'] = df1['reason'].str.replace(\"違反\",\"\")"
   ]
  },
  {
   "cell_type": "code",
   "execution_count": 5,
   "outputs": [
    {
     "name": "stdout",
     "output_type": "stream",
     "text": [
      "總筆數 5545 \n",
      "\n"
     ]
    },
    {
     "data": {
      "text/plain": "公共危險      331\n竊盜        327\n妨害公務      316\n毀損        316\n著作權法      315\n毒品危害      314\n妨害風化      304\n妨害名譽      304\n妨害性自主     280\n妨害自由      273\n槍砲彈藥刀械    246\n賭博        243\n侵占        237\n傷害        232\n偽造文書      220\n搶奪        215\n殺人未遂      208\n過失傷害      206\n詐欺        182\n商標法       177\n強盜        152\n殺人         39\n毀棄損壞       37\n恐嚇         31\n恐嚇取財       19\n貪污          7\n過失致死        7\n醫師法         3\n藥事法         2\n偽證          1\n替代役實施       1\nName: reason, dtype: int64"
     },
     "execution_count": 5,
     "metadata": {},
     "output_type": "execute_result"
    }
   ],
   "source": [
    "print(\"總筆數\",df1['reason'].count(), \"\\n\")\n",
    "df1.loc[:,'reason'].value_counts()\n",
    "\n",
    "#df1['Situation'] = df1['Situation'].str.replace(my_regex, \"\")\n",
    "#ierror = 0\n",
    "#for index, row in df1.iterrows():\n",
    "#    if (row.Situation != row.Situation2):\n",
    "#        print (index, \"\\n\", row.Situation, \"\\n\", row.Situation2)\n",
    "#        ierror += 1\n",
    "#        if (ierror > 5):\n",
    "#            break"
   ],
   "metadata": {
    "collapsed": false,
    "pycharm": {
     "name": "#%%\n"
    }
   }
  },
  {
   "cell_type": "code",
   "execution_count": 6,
   "metadata": {
    "pycharm": {
     "name": "#%%\n"
    }
   },
   "outputs": [
    {
     "name": "stderr",
     "output_type": "stream",
     "text": [
      "Exception when trying to download https://sbert.net/models/bert-base-chinese.zip. Response 404\n",
      "WARNING:root:SentenceTransformer-Model https://sbert.net/models/bert-base-chinese.zip not found. Try to create it from scratch\n",
      "WARNING:root:Try to create Transformer Model bert-base-chinese with mean pooling\n"
     ]
    }
   ],
   "source": [
    "import pandas as pd\n",
    "import time\n",
    "tStart = time.time()"
   ]
  },
  {
   "cell_type": "code",
   "execution_count": 7,
   "metadata": {
    "pycharm": {
     "name": "#%%\n"
    }
   },
   "outputs": [],
   "source": [
    "class Data(object):\n",
    "    def __init__(self):\n",
    "        self.no = \"0\"\n",
    "        self.reason = \"\"\n",
    "        self.Situation = \"\""
   ]
  },
  {
   "cell_type": "code",
   "execution_count": 8,
   "metadata": {
    "pycharm": {
     "name": "#%%\n"
    }
   },
   "outputs": [
    {
     "name": "stdout",
     "output_type": "stream",
     "text": [
      "\n",
      "5543\n"
     ]
    }
   ],
   "source": [
    "#embedder  SentenceTransformer('distilbert-base-nli-stsb-mean-tokens')\n",
    "\n",
    "# Corpus with example sentences\n",
    "#corpus  ['A man is eating food.',\n",
    "#          'A man is eating a piece of bread.',\n",
    "#          'The girl is carrying a baby.',\n",
    "#          'A man is riding a horse.',\n",
    "#          'A woman is playing violin.',\n",
    "#          'Two men pushed carts through the woods.',\n",
    "#          'A man is riding a white horse on an enclosed ground.',\n",
    "#          'A monkey is playing drums.',\n",
    "#          'A cheetah is running behind its prey.'\n",
    "#          ]\n",
    "corpus = []\n",
    "corpusList = []\n",
    "for index, row in df1.iterrows():\n",
    "    if (row.Situation == None):\n",
    "        continue\n",
    "    if (isinstance(row.Situation, float)):\n",
    "        continue\n",
    "    if (len(row.Situation) == 0):\n",
    "        continue\n",
    "    if (index == 5):\n",
    "        print()\n",
    "    d = Data()\n",
    "    d.no = row.no\n",
    "    d.reason = row.reason\n",
    "    d.Situation = row.Situation\n",
    "    corpusList.append(d)\n",
    "    corpus.append(row.Situation)\n",
    "print(len(corpus))"
   ]
  },
  {
   "cell_type": "code",
   "execution_count": 9,
   "metadata": {
    "pycharm": {
     "name": "#%%\n"
    }
   },
   "outputs": [
    {
     "name": "stdout",
     "output_type": "stream",
     "text": [
      "轉向量時間 0.723688 sec\n"
     ]
    }
   ],
   "source": [
    "tEnd = time.time()#計時結束\n",
    "#列印結果\n",
    "print(\"轉向量時間\", \"%f sec\" % (tEnd - tStart))"
   ]
  },
  {
   "cell_type": "code",
   "execution_count": 10,
   "metadata": {
    "pycharm": {
     "name": "#%%\n"
    }
   },
   "outputs": [
    {
     "name": "stdout",
     "output_type": "stream",
     "text": [
      "210\n"
     ]
    }
   ],
   "source": [
    "#specialtest  ='8旬的余姓老婦，獨自坐在活動中心的椅子上休息，突然就出現了一名伊姓男子，他從側門進入後，先是到飲水機喝水，隨後拿起鋁製報夾瘋狂地朝余婦猛打，余婦一度想起身制止並離開，伊男卻不予理會並朝余婦後膝猛打，導致余婦當場腿軟跪下求饒，豈料，伊男仍不罷休持續朝余婦背部、頭部狂踹，導致現場鮮血直流，警方獲報後趕到現場，連用2次辣椒水，才將不斷反抗的伊男壓制在地，並將人帶回偵訊，訊後依殺人未遂、傷害罪嫌送辦。'\n",
    "#specialtest  ='基隆張男未依規定服役遭函送基隆地檢署偵辦，他為證明已主動向轄區區公所申請入營服役，沒有躲兵役的意圖，在民國107年11月間在住處透過網路取得「基隆市研發替代役入營通知書」電子檔，以修圖軟體變造個資內容，偽造出基隆巿政府核發給他的研發替代役入營通知書，再彩色列印出來'\n",
    "#specialtest  ='吳姓婦人與胡姓先生結婚後育有2子，吳婦的兒子從15樓租屋處，把東西丟下樓，還好沒砸到人，吳婦獲知後，一時惱怒持衣架打兒子屁股，體罰兒子打到瘀青。'\n",
    "#specialtest  ='曾姓男子昨天上午10點多，騎機車在路上尋找年輕女子，鎖定3名路過女大生後，藉由問路露出自己的生殖器，女大生嚇傻通報學校，學校報警後，警方調閱監視器畫面，掌握嫌犯所騎的機車和男子特徵，到曾男住處逮人，曾男坦承犯行，最後被依妨害風化罪函送。曾男到案說明後坦承犯案，他表示，自己打零工維生，當天剛好沒上班，出門閒晃，一時興起就做了這個舉動，他坦言自己非常後悔。'\n",
    "#specialtest  ='曾姓男子因與翁姓女子有感情糾紛而心生不滿，在去年7月19日晚間9時許，騎機車到台中市豐原區鎌村路附近，並以機車擋住翁女去路，雙方談判後，曾趁翁女不注意，搶走翁女的iPhone XS手機，並先將手機丟在案發地點附近草叢內，曾犯案後離開現場。'\n",
    "\n",
    "# Query sentences:\n",
    "#queries  ['A man is eating pasta.', 'Someone in a gorilla costume is playing a set of drums.', 'A cheetah chases prey on across a field.']\n",
    "queries = []\n",
    "queries_ori = []\n",
    "#specialtest  ='被告陳守仁為高職畢業擔任保全之男子，竟不思以正常手段獲取財物，因一時貪念，以徒手竊取該超商內商品供己食用之犯罪動機、目的、手段、生活狀況、智識程度、所竊得物品價值新臺幣（下同）總共約821元'\n",
    "specialtest  ='台南永康區陸軍砲兵訓練指揮部蔡姓志願役士兵，前年底涉利用前女友帳號，將他在營區內拍攝軍用機識別標識、軍械室監視器畫面等機密資料，傳送至陸軍司令部官方LINE帳號，留言要求砲訓部人員聯繫，恫嚇對方交付30萬元，否則將向媒體爆料其軍紀不佳，砲訓部向警方報案，查出蔡因涉酒後駕車公共危險案，遭汰除退伍而挾怨報復，檢方本月初依恐嚇取財未遂罪嫌起訴。'\n",
    "queries_ori.append(specialtest)\n",
    "queries.append(specialtest)\n",
    "specialtest  ='台南市官田區南58線今天（17日）上午7點46分發生要命的車禍，1名女機車騎士疑撞上倒車的大貨車後車斗，人車倒地，頭部重創，送醫後不治，確切車禍原因由麻豆警分局調查釐清。遇到大貨車倒車，一定要特別當心！台南就有一名年僅30歲的女騎士，趕著上班途中，未留意到一旁的產業道路有大貨車正在倒車，迎頭撞了上去，結果頭部重創，緊急送醫搶救仍宣告不治。'\n",
    "queries_ori.append(specialtest)\n",
    "queries.append(specialtest)\n",
    "specialtest  ='南投縣埔里鎮一名60歲李姓男子13日跟友人前往KTV唱歌，被女童家長懷疑猥褻5歲的女兒，李姓男子被帶到八德夜市附近毆打，重傷送醫，延到16日死亡，檢警展開偵辦，經訊問相關犯嫌後，女童父母各以3萬元交保候傳。南投地檢署表示，受理通報案件是有女童疑似遭強制猥褻，經女童家屬發現認為是李姓男子所為，於是予以毆打。而李姓男子在16日死亡，檢察官已經進行相驗，進一步調查。據了解，李姓男子是跟友人前往KTV，與女童的父母一起唱歌。但是，李姓男子跟女童父母之前並不認識，女童父母曾到外面抽菸，此時，李姓男子被拍到牽著女童從後門出去，女童回到包廂告知父母被猥褻。不過，李姓男子家屬表示，監視器只拍到牽著女童的手，懷疑李姓男子是被冤枉。由於李姓男子已經死亡，真相有待檢警釐清。'\n",
    "queries_ori.append(specialtest)\n",
    "queries.append(specialtest)\n",
    "specialtest  ='桃園一名王姓男子2018年7月覬覦死黨22歲女友小青（化名），以幫忙找工作為由，邀對方到家中，先後性侵2次得逞。期間小青一度向男友求救，不料王男竟搶走手機，偽裝玩笑傳訊「整到你了」。隔天，王男妻子要求見面談和解，恫嚇要告「通姦罪」，還硬塞3000元「強行和解」，不料此舉反成判刑鐵證。當時小青用電腦上網找工作，王男見有機可趁，忍不住將頭靠過去，伸手撫摸女方的腰，並順勢游移到大腿內側。小青驚覺有異，出聲制止「你幹嘛碰我」，怎料下秒就被推到床上性侵。小青難過地說，當時王男強脫她的衣物，聽到她頻頻哭喊「不要」，僅回了一句「一次就好」，隨後性侵得逞。完事後，王男問她要不要出去吃飯，隨後在家煮麵，繼續和她討論找工作的事，讓小青很詫異，不禁心想「剛剛發生那種事，他還可以那麼冷靜」，但又害怕遭遇不測，不敢貿然離開。事後，小青趁隙傳訊給男友「老公好恐怖啦」、「ＯＯ是變態」、「他剛剛對我做了那種事！」當時男友在上班，第一時間傳訊詢問「所以是真的嗎？」不料王男見狀，竟恐嚇小青「妳知道這件事傳出去後果有多嚴重嗎？」隨後奪去手機，偽裝成小青回覆「有又怎樣，整到你很爽，你這個白癡！」還親自打電話說「只是開玩笑」。事發至此，小青很難過、害怕，要求立即離開。怎料王男意猶未盡，竟不顧小青哭泣、反抗，又將人壓在床上二次性侵。完事後，王男開車將人送回家，小青則向男友哭訴遭性侵，討論要不要報案。不過，王男妻子搶先一步，約許男及小青隔天見面談和解。'\n",
    "queries_ori.append(specialtest)\n",
    "queries.append(specialtest)\n",
    "specialtest  ='59歲張姓男子經常到新北市新莊區中港路的友人住處打麻將，16日晚間8時許，張男再度赴約打牌喝酒，過程中牌友55歲許姓男子不斷輸錢，火氣上來怒譙「X你老母」，張男也出言反嗆，雙方邊打牌邊互罵，場面幾乎失控，最後翻臉乾脆不打了。晚間11時，牌局不歡而散後，許男下樓打電話找來57歲吳姓男子，2人動手圍毆剛走出門的張男；張男雙手不敵四拳，跑回牌友家中廚房，隨手拿一把水果刀跑下樓，見許、吳2人要騎機車離開，立刻衝上前刺殺吳男右大腿，再捅許男右胸，逞兇後棄刀準備逃逸時，遭趕到的警員逮捕。警方逮捕張男後，立刻將受傷的2人協助到院治療，經緊急救治都沒有生命危險，張男也在衝突過程中，被毆傷鼻樑，造成5公分撕裂傷。由於兇殺現場剛好是麥當勞速食店門口，警方也找了目擊民眾詢問了解事發經過，並待3人治療包紮後帶回派出所，訊後將張男依殺人未遂罪移送偵辦。'\n",
    "queries_ori.append(specialtest)\n",
    "queries.append(specialtest)\n",
    "specialtest  ='屏東一名70多歲婦人，懷疑老公出軌，去年拿木頭砧板毆打丈夫致死，她沒叫救護車就離開案發現場，幾小時才向警方自首，婦人被依殺人罪送辦。木質圓形砧板，寬31，厚度4公分，隔熱用的木塊，卻成了殺人兇器，屏東一名70多歲婦人，跟71歲丈夫分居，懷疑老公出軌，去年十月，她跑到男子租屋處想抓姦，雙方爭吵，男子隨手拿木塊追進廚房，砧板掉落被婦人撿起，攻擊對方頭胸跟腹部，眼睜睜看著丈夫，頭破血流倒地，她沒叫救護車就離開，再通知女兒到場，但老翁已經傷重不治。'\n",
    "queries_ori.append(specialtest)\n",
    "queries.append(specialtest)\n",
    "specialtest  ='新北市中和一名男子遺失皮夾，調閱監視器發現被路過婦人撿走，警方十天後找到人，依侵占遺失物法辦。但男子的妻子不滿，這段時間每天抱著十月大的小孩，挨家挨戶調閱監視器，夫妻間也因此鬧不愉快，打算向嫌犯提告精神求償。紅衣婦人騎單車突然停下來，低頭一看有個黑色皮夾，她撿起來騎車離開，沒往派出所方向疑似直奔回家，皮夾主人心急如焚，因為裡面裝著一萬多元都是小孩的奶粉錢。丈夫的皮夾不見，施小姐每天抱著十月大的嬰兒，挨家挨戶調閱監視器，尋找婦人身影和警方分頭進行希望加快偵辦進度，名牌皮夾和裡頭的錢損失約三萬，十天後警方終於找到，撿走皮夾的徐姓婦人她辯稱忘了拿去派出所，被依侵占遺失物法辦，皮夾雖然物歸原主，但這段時間施小姐一家人四處奔走生活被打亂，這些看不見的損失，打算向對方求償精神撫慰金。'\n",
    "queries_ori.append(specialtest)\n",
    "queries.append(specialtest)\n",
    "specialtest  ='陳姓男子透露，死者曾在5天內輕生3次，都是他帶著就醫。4年多前，旅館發生槍擊案，警消到場，發現劉姓死者當場沒命，拉封鎖線，仔細採證，事後，認定死者的老闆陳姓男子涉嫌重大，檢警認為，犯案後去藏毒品，到另一家汽車旅館梳洗的陳姓男子，替死者餵食大量毒品，最後開槍殺人，動機跟感情因素有關，不過，被告從頭到尾都否認，強調槍、毒，都是死者的，只是一二審法官不認同這樣的說法，判刑十五年，案件上訴更一更二審，刑度少了一年，更三審法官認為，死者有服用毒品情況，現場沒綑綁打鬥痕跡，救護車還是被告叫的，傳喚證人後不排除，死者吸毒後還有意識，再加上案發前，死者與人微信語音聯絡，背景音聽得到被告睡覺在打呼。'\n",
    "queries_ori.append(specialtest)\n",
    "queries.append(specialtest)\n",
    "specialtest  ='今年4月7日晚間近7時許，陳姓遊覽車司機在台中市一間廟宇旁，見到6歲的女童身邊無大人帶著，於是尾隨至暗巷，強行抱走幼女，伸出狼爪指侵；事後孩子驚慌向家長哭訴，警方獲報，調閱路口監視器，鎖定陳嫌，70分鐘後順利將他逮捕到案。陳嫌落網後，坦承犯行，供稱：「非常後悔當時的衝動。」檢察官依「加重強制性交罪」將他起訴，且因陳男所涉是本刑5年以上重罪，有逃亡之虞，向法官聲請羈押獲准。明知女童年幼，竟為逞性欲，強抱、指侵，使被害人心裡產生負面影響，犯罪情節嚴重，危害治安甚鉅，加上他未與被害人達成民事和解，取得被害人家屬諒解。'\n",
    "queries_ori.append(specialtest)\n",
    "queries.append(specialtest)\n",
    "specialtest  ='男等3人受盧姓男子（另案苗栗地檢署偵辦中）、綽號「老闆」之人指示，以5萬元報酬，由温負責與盧協調報關事宜，再由温提供行動電話聯絡、楊提供寄送地址，劉則到場把風，今年7月2日到倉儲收取泰國寄來的毒品包裹，警方當場查獲，夾藏7包重1937.11公克、純度89.11%海洛因。3人主觀認為郵包最糟應該是愷他命，且今年都沒有出境紀錄，兼衡與綽號「老闆」通話紀錄，足見3人從未參與包裝包裹，無從認定主觀上有認識郵包內是海洛因，且3 人預期可獲得報酬僅為5萬元。'\n",
    "queries_ori.append(specialtest)\n",
    "queries.append(specialtest)\n",
    "\n",
    "for index, row in test.iterrows():\n",
    "    queries.append(str(row.Situation))\n",
    "    queries_ori.append(str(row.Situation))\n",
    "print(len(queries))\n",
    "\n",
    "specialtest = ''"
   ]
  },
  {
   "cell_type": "code",
   "execution_count": null,
   "outputs": [],
   "source": [],
   "metadata": {
    "collapsed": false,
    "pycharm": {
     "name": "#%%\n"
    }
   }
  },
  {
   "cell_type": "code",
   "execution_count": null,
   "outputs": [],
   "source": [
    "from sentence_transformers import SentenceTransformer, util\n",
    "embedder=SentenceTransformer('bert-base-chinese')\n",
    "corpus_embeddings = embedder.encode(corpus, convert_to_tensor=True)"
   ],
   "metadata": {
    "collapsed": false,
    "pycharm": {
     "name": "#%%\n"
    }
   }
  },
  {
   "cell_type": "code",
   "execution_count": 11,
   "metadata": {
    "pycharm": {
     "name": "#%%\n"
    }
   },
   "outputs": [
    {
     "name": "stdout",
     "output_type": "stream",
     "text": [
      "\n",
      "\n",
      "\n",
      "\n",
      "\n",
      "Query: 台南永康區陸軍砲兵訓練指揮部蔡姓志願役士兵，前年底涉利用前女友帳號，將他在營區內拍攝軍用機識別標識、軍械室監視器畫面等機密資料，傳送至陸軍司令部官方LINE帳號，留言要求砲訓部人員聯繫，恫嚇對方交付30萬元，否則將向媒體爆料其軍紀不佳，砲訓部向警方報案，查出蔡因涉酒後駕車公共危險案，遭汰除退伍而挾怨報復，檢方本月初依恐嚇取財未遂罪嫌起訴。\n",
      "\n",
      "Top 5 most similar sentences in corpus:\n",
      "1    105,審易,3334 \t 傷害 \t(Score: 0.9375)\n",
      "陳聰德（民國105年4月28日入伍服役，105年8月18日退伍，行為時為現役軍人）曾與謝承修之女友交往，謝承修認陳聰德於入伍前打電話騷擾其女友致生嫌隙，而在陳聰德臉書留言「你現在皮在癢是不是？是不是欠\n",
      "\n",
      "\n",
      "2    105,軍訴,4 \t 妨害性自主 \t(Score: 0.9368)\n",
      "丁○○前為空軍防空砲兵第302營第1連上士砲長，於服役期間之民國104年3月9日23時許飲酒後，在屏東縣枋山鄉加祿192號國軍防空砲兵部隊訓練中心之基訓大樓G211寢室內，基於強制性交之犯意，先躺在正\n",
      "\n",
      "\n",
      "3    105,侵訴,29 \t 妨害性自主 \t(Score: 0.9341)\n",
      "林家維與代號0000000000女子（真實姓名、年籍詳卷，民國86年生，以下簡稱A女）曾為男女朋友關係，兩人於104年10月分手。詎林家維於104年11月5日，基於強制性交之犯意，以通訊軟體Line傳\n",
      "\n",
      "\n",
      "4    105,審易,2301 \t 妨害公務 \t(Score: 0.9320)\n",
      "緣李宗明於民國95年任職「陸軍步兵訓練指揮部勤教營第4連」中士班長期間，自認遭受同連上士副排長凌虐而提出告訴，並認勤教營營長涉及包庇、縱容或不為舉發所屬對之凌虐，另向「陸軍步兵訓練指揮部」提出陳情，嗣\n",
      "\n",
      "\n",
      "5    106,簡上,110 \t 妨害公務 \t(Score: 0.9316)\n",
      "緣沈偉芳之夫王永祥因另涉侵占「文創租車行」機車嫌疑，於民國105年9月21日下午3時許，在臺南市○區○○路00號前，為租車行員工梁圍迪發現報警，擔任巡邏勤務之臺南市政府警察局第一分局東寧派出所警員邱燈\n",
      "\n",
      "\n",
      "COS相似計算時間 0.042885 sec\n",
      "\n",
      "\n",
      "\n",
      "\n",
      "\n",
      "Query: 台南市官田區南58線今天（17日）上午7點46分發生要命的車禍，1名女機車騎士疑撞上倒車的大貨車後車斗，人車倒地，頭部重創，送醫後不治，確切車禍原因由麻豆警分局調查釐清。遇到大貨車倒車，一定要特別當心！台南就有一名年僅30歲的女騎士，趕著上班途中，未留意到一旁的產業道路有大貨車正在倒車，迎頭撞了上去，結果頭部重創，緊急送醫搶救仍宣告不治。\n",
      "\n",
      "Top 5 most similar sentences in corpus:\n",
      "1    105,易,1174 \t 妨害公務 \t(Score: 0.9497)\n",
      "楊雍琪於民國105年6月29日17時22分許，騎乘車牌號碼000-000號普通重型機車行經臺中市清水區中山路與董公街之交岔路口時，違規闖紅燈左轉行駛為巡邏員警發現，員警隨即駕駛巡邏車開啟警示燈及鳴響警\n",
      "\n",
      "\n",
      "2    106,交易,54 \t 公共危險 \t(Score: 0.9452)\n",
      "被告蔡啟文明知飲酒會導致欠缺通常注意力，而無安全駕駛車輛之能力，猶於民國101年2月15日23時5分許，酒後騎乘車牌號碼000-000號重型機車，行經臺北市大安區和平東路3段與富陽街口時，追撞前方由王\n",
      "\n",
      "\n",
      "3    103,訴,474 \t 妨害公務 \t(Score: 0.9435)\n",
      "黃建文於民國103年3月14日2時30分許，駕駛友人母親所有之車牌號碼0000-00號自小客車，逆向停車在臺南市中西區健康路與大同路之路口，適有臺南市政府警察局第二分局員警王姿嵐、陳佑育駕駛巡邏車行經\n",
      "\n",
      "\n",
      "4    106,簡上,119 \t 妨害公務 \t(Score: 0.9424)\n",
      "林桂熟於民國105年8月2日上午9時15分許，騎乘車牌號碼000-0000號普通重型機車，自新北市板橋區中山路1段左轉進入新北市板橋區重慶路，因於新北市板橋區重慶路逆向行駛，經新北市政府警察局海山分局\n",
      "\n",
      "\n",
      "5    105,易,399 \t 妨害公務 \t(Score: 0.9423)\n",
      "王義傑前於民國104年10月13日下午6、7時許，因在新北市新店區安康路處違規停車，經民眾檢舉後，新北市政府警察局新店分局安康派出所（下稱系爭派出所）員警陳奕瑋、曾美賢前往了解，發現王義傑所駕駛之汽車\n",
      "\n",
      "\n"
     ]
    }
   ],
   "source": [
    "# Find the closest 5 sentences of the corpus for each query sentence based on cosine similarity\n",
    "top_k = 5\n",
    "i = 0\n",
    "show = 0\n",
    "\n",
    "for query in queries:\n",
    "    tStart2 = time.time()\n",
    "    query_embedding = embedder.encode(query, convert_to_tensor=True)\n",
    "    cos_scores = util.pytorch_cos_sim(query_embedding, corpus_embeddings)[0]\n",
    "    cos_scores = cos_scores.cpu()\n",
    "\n",
    "\n",
    "    #We use np.argpartition, to only partially sort the top_k results\n",
    "    top_results = np.argpartition(-cos_scores, range(top_k))[0:top_k]\n",
    "    print(\"\\n\\n\\n\\n\")\n",
    "    print(\"Query:\", query)\n",
    "    print(\"\\nTop 5 most similar sentences in corpus:\")\n",
    "\n",
    "    no = 1\n",
    "    for idx in top_results[0:top_k]:\n",
    "        if (corpus[idx] == specialtest):\n",
    "            continue\n",
    "        print(no, \"  \"\n",
    "              , corpusList[idx].no,\"\\t\"\n",
    "              ,  corpusList[idx].reason\n",
    "              , \"\\t(Score: %.4f)\" % (cos_scores[idx]))\n",
    "        if (len(corpus[idx].strip()[0:100]) > 100):\n",
    "            print (corpus[idx].strip()[0:100])\n",
    "        else:\n",
    "            print (corpus[idx].strip()[0:100])\n",
    "        print('\\n')\n",
    "        no = no + 1\n",
    "        show += 1\n",
    "    if (show > 5):break\n",
    "\n",
    "    tEnd2 = time.time()#計時結束\n",
    "    print(\"COS相似計算時間\", \"%f sec\" % (tEnd2 - tStart2))"
   ]
  },
  {
   "cell_type": "code",
   "execution_count": 12,
   "metadata": {
    "pycharm": {
     "name": "#%%\n"
    }
   },
   "outputs": [
    {
     "name": "stderr",
     "output_type": "stream",
     "text": [
      "Exception when trying to download https://sbert.net/models/bert-base-chinese.zip. Response 404\n",
      "WARNING:root:SentenceTransformer-Model https://sbert.net/models/bert-base-chinese.zip not found. Try to create it from scratch\n",
      "WARNING:root:Try to create Transformer Model bert-base-chinese with mean pooling\n"
     ]
    }
   ],
   "source": [
    "from sentence_transformers import SentenceTransformer\n",
    "from sklearn.cluster import KMeans\n",
    "embedder = SentenceTransformer('bert-base-chinese')\n",
    "corpus_embeddings = embedder.encode(corpus)\n",
    "# Then, we perform k-means clustering using sklearn:"
   ]
  },
  {
   "cell_type": "code",
   "execution_count": 77,
   "outputs": [],
   "source": [
    "from sklearn.cluster import KMeans\n",
    "\n",
    "specialcls = -1\n",
    "\n",
    "num_clusters = 20\n",
    "clustering_model = KMeans(n_clusters=num_clusters)\n",
    "clustering_model.fit(corpus_embeddings)\n",
    "cluster_assignment = clustering_model.labels_"
   ],
   "metadata": {
    "collapsed": false,
    "pycharm": {
     "name": "#%%\n"
    }
   }
  },
  {
   "cell_type": "code",
   "execution_count": 78,
   "metadata": {},
   "outputs": [
    {
     "name": "stdout",
     "output_type": "stream",
     "text": [
      "Cluster  1\n",
      "林品成係址設臺中市○○區○○路2巷5號睿成鋼鐵有限公司（下稱睿成公司）之員工，於該公司係擔任裁切工職務。因急需金錢，竟基於意圖為自己不法所有之竊盜犯意，先後為下列行為：(一)林品成於民國100年2月7\n",
      "\n",
      "Cluster  2\n",
      "黎桓銘承租並居住在臺中縣太平市（現改制為臺中市太平區○○○路2段477巷10弄17號1樓之1房屋，見承租並居住在同號2樓房屋之陳廣致於日間均外出上課，認有機可乘，竟基於意圖為自己不法所有之竊盜犯意，先\n",
      "\n",
      "Cluster  3\n",
      "余暐勝於民國107年3月間透過網路交友軟體「BEETALK」結識代號0000-000000之14歲以上未滿16歲少女（姓名年籍均詳卷，下稱A女），進而交往。詎余暐勝明知A女與其胞妹年紀相同，為就讀國中\n",
      "\n",
      "Cluster  4\n",
      "於九十九年十月六日某時許，在其位於臺南市○區○○街二段七九巷一四號之一之住處房間內，以將第一級毒品海洛因置入針筒內注射之方式，施用海洛因一次。另基於施用第二級毒品甲基安非他命之犯意，於同日某時許，在上\n",
      "\n",
      "Cluster  5\n",
      "被告鍾偉強明知MDMA係毒品危害防制條例所列之第二級毒品，不得非法持有，竟仍基於持有第二級毒品MDMA之犯意，於民國103年10月31日晚間8時許，在新北市三重區三和路，以新臺幣（下同）5,000元之\n",
      "\n",
      "Cluster  6\n",
      "林秉鈞明知如附表一所示之商標，係該附表所示之商標權人向我國經濟部智慧財產局（或改制前之商標主管機關即中央標準局）申請註冊並取得商標專用權之圖樣，且現仍在商標專用期限內（商標名稱、註冊審定號、註冊公告日\n",
      "\n",
      "Cluster  7\n",
      "王寬宏於民國100年2月16日上午9時55分許，駕駛車牌號碼TP-7158號自用小客車，沿臺南市○○區○○路由東往西方向行駛，行至復興路390號前時，本應注意汽車行駛時，駕駛人應注意車前狀況及兩車併行\n",
      "\n",
      "Cluster  8\n",
      "詎其不知悔改，復基於賭博及意圖營利供給賭博場所、聚眾賭博之犯意，自民國100年1月25日起，提供其位在臺中市○○區○○路230號之公眾得出入之場所，聚集不特定多數人簽選號碼與之賭博財物。其賭法係賭客以\n",
      "\n",
      "Cluster  9\n",
      "被告陳守仁為高職畢業擔任保全之男子，竟不思以正常手段獲取財物，因一時貪念，以徒手竊取該超商內商品供己食用之犯罪動機、目的、手段、生活狀況、智識程度、所竊得物品價值新臺幣（下同）總共約821元\n",
      "\n",
      "Cluster  10\n",
      "詎其仍不知悛悔，於一百年三月七日上午十時五十分許，在臺中市○區○○路與興進路口處，見鑰匙一支插在林孟良所有之車牌號碼ＫＣＴ－二七三號重型機車（上開機車前於一百年二月二十二日二十二時四十分許，在臺中市○\n",
      "\n",
      "Cluster  11\n",
      "石月玲因常前往林素英、黃議寬祖孫所經營之位於臺中市○區○○街110號之「慶昌資源回收場」買賣二手貨物，而與林素英熟識。石月玲於民國100年5月30日上午8時39分許，在「慶昌資源回收場」辦公室內與林素\n",
      "\n",
      "Cluster  12\n",
      "吳柄鋒前於民國99年間，因詐欺案件，經本院判處有期徒刑4月確定，於100年7月7日執行完畢。詎仍不知悔改，其可預見以自己之行動電話門號任意提供不詳人士使用，依一般社會生活經驗，該行動電話門號可能遭犯罪\n",
      "\n",
      "Cluster  13\n",
      "詎其猶不知悔改，明知具有殺傷力之子彈，非經中央主管機關許可，不得寄藏，竟未經許可，而基於寄藏具有殺傷力之子彈之犯意，於104年9月中旬某日，在其位於新北市○○區○○街00○0號住處內，收受真實姓名、年\n",
      "\n",
      "Cluster  14\n",
      "陳信華、康維村為隆大事業股份有限公司（下稱隆大公司）「國道4號生活圈」下游營建包商之工人，因缺錢花用，竟共同基於意圖為自己不法所有之犯意聯絡，於民國100年1月30日14時許，駕駛車牌號碼NR－029\n",
      "\n",
      "Cluster  15\n",
      "王炎權於民國100年4月8日晚間9時30分許起至翌日凌晨3時許止，在彰化縣芬園鄉○○路○段291巷15號之住處內飲酒後，已達不能安全駕駛動力交通工具之程度，竟仍駕駛車牌號碼為UJ-4775號自小客車上\n",
      "\n",
      "Cluster  16\n",
      "詎不知悔改，另行與真實姓名年籍不詳綽號「大姐」之成年女子，共同基於意圖使他人為性交行為而媒介以營利之犯意聯絡，自100年3月31日起，以每小時新臺幣（下同）200元之代價，受僱於「大姐」之成年女子所經\n",
      "\n",
      "Cluster  17\n",
      "黃東豐前於民國96年間，因妨害風化案件，經本院以96年度訴字第4516號判決判處有期徒刑2月，緩刑2年確定（本件不構成累犯）。詎其猶不知悔改，復基於意圖使女子與他人為性交行為，而媒介以營利之犯意，於1\n",
      "\n",
      "Cluster  18\n",
      "邱建豪於民國106年5月1日下午5時15分許，在桃園市○○區○○路000號桃園市政府警察局桃園分局埔子派出所內（下稱埔子派出所）之值班臺，明知員警徐芳振係依法執行職務之公務員，因不滿員警告以所詢事項應\n",
      "\n",
      "Cluster  19\n",
      "涂煌輝係原址設嘉義市○區○○路○○○號七樓（現變更為嘉義市○區○○路○段○○○號）之「振揚影音科技有限公司」（下稱振揚公司）之代表人，以提供伴唱歌曲之出租為業。涂煌輝明知非經音樂著作財產權人之授權，不\n",
      "\n",
      "Cluster  20\n",
      "陳文豪於民國98年6月28日8時55分許，在臺南市○○區○里里○里街0號「武承恩公園」前，與柯永濬發生口角爭執，因不滿柯永濬用腳將其踢倒在地，竟基於殺人之犯意，先對柯永濬口出：「好膽不要走」等語後，旋\n",
      "\n"
     ]
    }
   ],
   "source": [
    "clustered_sentences = [[] for i in range(num_clusters)]\n",
    "for sentence_id, cluster_id in enumerate(cluster_assignment):\n",
    "    clustered_sentences[cluster_id].append(corpus[sentence_id])\n",
    "    if (specialtest == corpus[sentence_id]):\n",
    "        specialcls = cluster_id\n",
    "        print (cluster_id)\n",
    "for i, cluster in enumerate(clustered_sentences):\n",
    "    print(\"Cluster \", i+1)\n",
    "    print(cluster[0].strip()[0:100])\n",
    "    print(\"\")"
   ]
  },
  {
   "cell_type": "code",
   "execution_count": 79,
   "outputs": [],
   "source": [
    "class Cls(object):\n",
    "    def __init__(self):\n",
    "        self.reason = \"\"\n",
    "        self.num = 0\n",
    "\n",
    "class Cluster_Main(object):\n",
    "    def __init__(self):\n",
    "        self.cluster_id = 0\n",
    "        self.clslist = {}"
   ],
   "metadata": {
    "collapsed": false,
    "pycharm": {
     "name": "#%%\n"
    }
   }
  },
  {
   "cell_type": "code",
   "execution_count": 80,
   "outputs": [
    {
     "name": "stdout",
     "output_type": "stream",
     "text": [
      "1    106,易,1093 \t 妨害公務 \n",
      "\n",
      "邱建豪於民國106年5月1日下午5時15分許，在桃園市○○區○○路000號桃園市政府警察局桃園分局埔子派出所內（下稱埔子派出所）之值班臺，明知員警徐芳振係依法執行職務之公務員，因不滿員警告以所詢事項應\n",
      "\n",
      "2    107,侵簡,3 \t 妨害性自主 \n",
      "\n",
      "余暐勝於民國107年3月間透過網路交友軟體「BEETALK」結識代號0000-000000之14歲以上未滿16歲少女（姓名年籍均詳卷，下稱A女），進而交往。詎余暐勝明知A女與其胞妹年紀相同，為就讀國中\n",
      "\n",
      "3    100,中交簡,1002 \t 公共危險 \n",
      "\n",
      "王炎權於民國100年4月8日晚間9時30分許起至翌日凌晨3時許止，在彰化縣芬園鄉○○路○段291巷15號之住處內飲酒後，已達不能安全駕駛動力交通工具之程度，竟仍駕駛車牌號碼為UJ-4775號自小客車上\n",
      "\n",
      "4    100,中交簡,100 \t 公共危險 \n",
      "\n",
      "林耀明於民國99年10月22日下午4時許起至5時許止，在臺中市○○區○○路與豐樂路交岔路口附近之某工地內，與友人飲用酒類後，已達不能安全駕駛動力交通工具之程度，猶於同日下午6時許，駕駛車牌號碼CX-6\n",
      "\n",
      "5    100,中交簡,1016 \t 公共危險 \n",
      "\n",
      "朱建鴻於民國100年4月19日晚間9時許起，在臺中市大雅區清泉崗友人住處內飲用啤酒，至同日晚間10時許已達不能安全駕駛動力交通工具之程度，猶於飲畢後騎乘車牌號碼187-BCV號重型機車上路欲返回住處，\n",
      "\n"
     ]
    }
   ],
   "source": [
    "no = 1\n",
    "clusterList = {}\n",
    "show = 0\n",
    "for sentence_id, cluster_id in enumerate(cluster_assignment):\n",
    "    if (show < 5):\n",
    "        print(no, \"  \"\n",
    "                  , corpusList[sentence_id].no,\"\\t\"\n",
    "                  ,  corpusList[sentence_id].reason, \"\\n\")\n",
    "        if (len(corpusList[sentence_id].Situation.strip()) > 100):\n",
    "            print(corpusList[sentence_id].Situation.strip()[0:100])\n",
    "        else:\n",
    "            print(corpusList[sentence_id].Situation.strip())\n",
    "        no += 1\n",
    "        print(\"\")\n",
    "\n",
    "        show +=1\n",
    "    if cluster_id in clusterList:\n",
    "        if corpusList[sentence_id].reason in clusterList[cluster_id]:\n",
    "            clusterList[cluster_id][corpusList[sentence_id].reason] += 1\n",
    "        else:\n",
    "            clusterList[cluster_id][corpusList[sentence_id].reason] = 1\n",
    "    else:\n",
    "        clslist = {}\n",
    "        clslist[corpusList[sentence_id].reason] = 1\n",
    "        clusterList[cluster_id] = clslist"
   ],
   "metadata": {
    "collapsed": false,
    "pycharm": {
     "name": "#%%\n"
    }
   }
  },
  {
   "cell_type": "code",
   "execution_count": 81,
   "outputs": [
    {
     "name": "stdout",
     "output_type": "stream",
     "text": [
      "0  \n",
      "306\n",
      "偽造文書   67\n",
      "詐欺   60\n",
      "侵占   55\n",
      "竊盜   32\n",
      "妨害名譽   18\n",
      "妨害自由   15\n",
      "強盜   7\n",
      "妨害性自主   6\n",
      "槍砲彈藥刀械   6\n",
      "殺人未遂   5\n",
      "毀損   5\n",
      "妨害風化   5\n",
      "妨害公務   4\n",
      "搶奪   3\n",
      "恐嚇取財   3\n",
      "傷害   2\n",
      "賭博   2\n",
      "恐嚇   2\n",
      "醫師法   2\n",
      "貪污   2\n",
      "著作權法   1\n",
      "公共危險   1\n",
      "商標法   1\n",
      "毒品危害   1\n",
      "殺人   1\n",
      " \n",
      "1  \n",
      "373\n",
      "妨害自由   82\n",
      "毀損   74\n",
      "妨害名譽   50\n",
      "侵占   34\n",
      "偽造文書   27\n",
      "殺人未遂   14\n",
      "竊盜   13\n",
      "妨害風化   12\n",
      "毀棄損壞   12\n",
      "妨害公務   9\n",
      "傷害   8\n",
      "妨害性自主   7\n",
      "詐欺   7\n",
      "公共危險   6\n",
      "賭博   5\n",
      "強盜   4\n",
      "著作權法   3\n",
      "搶奪   2\n",
      "毒品危害   2\n",
      "過失致死   1\n",
      "貪污   1\n",
      " \n",
      "2  \n",
      "273\n",
      "妨害性自主   224\n",
      "妨害自由   17\n",
      "殺人未遂   9\n",
      "傷害   4\n",
      "妨害名譽   3\n",
      "偽造文書   3\n",
      "恐嚇   2\n",
      "恐嚇取財   2\n",
      "強盜   2\n",
      "毀損   2\n",
      "妨害風化   1\n",
      "殺人   1\n",
      "妨害公務   1\n",
      "侵占   1\n",
      "搶奪   1\n",
      " \n",
      "3  \n",
      "112\n",
      "毒品危害   109\n",
      "偽證   1\n",
      "妨害性自主   1\n",
      "賭博   1\n",
      " \n",
      "4  \n",
      "185\n",
      "毒品危害   180\n",
      "強盜   2\n",
      "搶奪   1\n",
      "藥事法   1\n",
      "妨害名譽   1\n",
      " \n",
      "5  \n",
      "161\n",
      "商標法   161\n",
      " \n",
      "6  \n",
      "279\n",
      "過失傷害   191\n",
      "公共危險   51\n",
      "妨害自由   13\n",
      "妨害公務   8\n",
      "毀損   4\n",
      "搶奪   4\n",
      "偽造文書   3\n",
      "過失致死   2\n",
      "殺人未遂   1\n",
      "妨害名譽   1\n",
      "傷害   1\n",
      " \n",
      "7  \n",
      "225\n",
      "賭博   224\n",
      "妨害公務   1\n",
      " \n",
      "8  \n",
      "588\n",
      "竊盜   240\n",
      "搶奪   157\n",
      "強盜   94\n",
      "侵占   29\n",
      "槍砲彈藥刀械   12\n",
      "殺人未遂   9\n",
      "妨害性自主   9\n",
      "妨害自由   7\n",
      "恐嚇   7\n",
      "恐嚇取財   6\n",
      "詐欺   5\n",
      "偽造文書   5\n",
      "毀損   2\n",
      "妨害風化   2\n",
      "毀棄損壞   1\n",
      "公共危險   1\n",
      "藥事法   1\n",
      "毒品危害   1\n",
      " \n",
      "9  \n",
      "315\n",
      "毀損   149\n",
      "搶奪   25\n",
      "妨害自由   18\n",
      "傷害   16\n",
      "殺人未遂   12\n",
      "妨害公務   11\n",
      "毀棄損壞   11\n",
      "侵占   11\n",
      "竊盜   10\n",
      "妨害名譽   10\n",
      "公共危險   7\n",
      "妨害性自主   6\n",
      "強盜   6\n",
      "過失傷害   6\n",
      "偽造文書   6\n",
      "恐嚇   5\n",
      "詐欺   2\n",
      "妨害風化   2\n",
      "殺人   1\n",
      "槍砲彈藥刀械   1\n",
      " \n",
      "10  \n",
      "457\n",
      "妨害名譽   131\n",
      "妨害自由   69\n",
      "殺人未遂   67\n",
      "傷害   34\n",
      "殺人   24\n",
      "侵占   20\n",
      "強盜   16\n",
      "偽造文書   15\n",
      "妨害性自主   14\n",
      "毀損   14\n",
      "搶奪   9\n",
      "著作權法   8\n",
      "恐嚇   7\n",
      "妨害風化   6\n",
      "詐欺   5\n",
      "妨害公務   5\n",
      "竊盜   3\n",
      "公共危險   3\n",
      "恐嚇取財   3\n",
      "毀棄損壞   1\n",
      "槍砲彈藥刀械   1\n",
      "賭博   1\n",
      "毒品危害   1\n",
      " \n",
      "11  \n",
      "100\n",
      "詐欺   80\n",
      "妨害風化   9\n",
      "賭博   3\n",
      "恐嚇取財   3\n",
      "著作權法   2\n",
      "恐嚇   2\n",
      "妨害自由   1\n",
      " \n",
      "12  \n",
      "223\n",
      "槍砲彈藥刀械   215\n",
      "強盜   4\n",
      "殺人未遂   3\n",
      "貪污   1\n",
      " \n",
      "13  \n",
      "352\n",
      "著作權法   84\n",
      "侵占   78\n",
      "偽造文書   61\n",
      "妨害名譽   32\n",
      "妨害自由   15\n",
      "詐欺   13\n",
      "商標法   13\n",
      "妨害風化   9\n",
      "毀損   9\n",
      "妨害公務   8\n",
      "竊盜   6\n",
      "傷害   5\n",
      "過失致死   4\n",
      "殺人未遂   3\n",
      "妨害性自主   2\n",
      "貪污   2\n",
      "毀棄損壞   2\n",
      "過失傷害   1\n",
      "恐嚇   1\n",
      "殺人   1\n",
      "恐嚇取財   1\n",
      "公共危險   1\n",
      "醫師法   1\n",
      " \n",
      "14  \n",
      "264\n",
      "公共危險   247\n",
      "偽造文書   5\n",
      "過失傷害   5\n",
      "妨害公務   2\n",
      "妨害風化   1\n",
      "妨害性自主   1\n",
      "殺人未遂   1\n",
      "毒品危害   1\n",
      "貪污   1\n",
      " \n",
      "15  \n",
      "246\n",
      "妨害風化   240\n",
      "妨害性自主   4\n",
      "詐欺   1\n",
      "侵占   1\n",
      " \n",
      "16  \n",
      "215\n",
      "竊盜   20\n",
      "妨害公務   20\n",
      "毒品危害   18\n",
      "妨害風化   16\n",
      "偽造文書   15\n",
      "強盜   13\n",
      "妨害名譽   12\n",
      "搶奪   11\n",
      "公共危險   11\n",
      "槍砲彈藥刀械   11\n",
      "詐欺   9\n",
      "傷害   8\n",
      "妨害自由   8\n",
      "侵占   8\n",
      "賭博   7\n",
      "毀損   7\n",
      "妨害性自主   6\n",
      "殺人未遂   4\n",
      "著作權法   3\n",
      "殺人   2\n",
      "過失傷害   2\n",
      "毀棄損壞   2\n",
      "替代役實施   1\n",
      "恐嚇取財   1\n",
      " \n",
      "17  \n",
      "279\n",
      "妨害公務   240\n",
      "偽造文書   12\n",
      "妨害自由   6\n",
      "妨害名譽   5\n",
      "竊盜   3\n",
      "公共危險   3\n",
      "殺人未遂   2\n",
      "毀損   2\n",
      "妨害風化   1\n",
      "傷害   1\n",
      "恐嚇   1\n",
      "強盜   1\n",
      "毒品危害   1\n",
      "搶奪   1\n",
      " \n",
      "18  \n",
      "216\n",
      "著作權法   214\n",
      "商標法   2\n",
      " \n",
      "19  \n",
      "374\n",
      "傷害   153\n",
      "殺人未遂   78\n",
      "毀損   48\n",
      "妨害名譽   41\n",
      "妨害自由   22\n",
      "殺人   9\n",
      "毀棄損壞   8\n",
      "妨害公務   7\n",
      "恐嚇   4\n",
      "強盜   3\n",
      "搶奪   1\n",
      " \n"
     ]
    }
   ],
   "source": [
    "idcnt = 0\n",
    "\n",
    "for key, value in sorted(clusterList.items()):\n",
    "    print(key, \" \")\n",
    "    clutotal = sum(value.values())\n",
    "    print(clutotal)\n",
    "    for _key, _value in sorted(value.items(), key=lambda x: -x[1]):\n",
    "        idcnt += _value\n",
    "        clusterList[key][_key] = value[_key] / clutotal\n",
    "        print(_key, \" \", _value)\n",
    "        #print(_key, \" \", _value, \"\\nP= \",clusterList[key][_key])\n",
    "    print(\" \")"
   ],
   "metadata": {
    "collapsed": false,
    "pycharm": {
     "name": "#%%\n"
    }
   }
  },
  {
   "cell_type": "code",
   "execution_count": 82,
   "outputs": [],
   "source": [
    "from scipy import stats\n",
    "import pandas as pd\n",
    "\n",
    "def Entropy(labels):\n",
    "    # 计算概率分布\n",
    "    probs = pd.Series(labels).value_counts() / len(labels)\n",
    "    # 计算底数为base的熵\n",
    "    en = stats.entropy(probs)\n",
    "    return en"
   ],
   "metadata": {
    "collapsed": false,
    "pycharm": {
     "name": "#%%\n"
    }
   }
  },
  {
   "cell_type": "code",
   "execution_count": 83,
   "outputs": [
    {
     "data": {
      "text/plain": "dict"
     },
     "execution_count": 83,
     "metadata": {},
     "output_type": "execute_result"
    }
   ],
   "source": [
    "type(clusterList)"
   ],
   "metadata": {
    "collapsed": false,
    "pycharm": {
     "name": "#%%\n"
    }
   }
  },
  {
   "cell_type": "code",
   "execution_count": 84,
   "outputs": [
    {
     "name": "stdout",
     "output_type": "stream",
     "text": [
      "Avg Entropy:\t 1.6568459571572696 \n",
      "\n",
      "Clu 0 Entropy:\t 2.3323636363647955\n",
      "Clu 1 Entropy:\t 2.780466368938682\n",
      "Clu 2 Entropy:\t 1.7094727765842133\n",
      "Clu 3 Entropy:\t 0.5623351446188083\n",
      "Clu 4 Entropy:\t 0.9502705392332347\n",
      "Clu 5 Entropy:\t 0.0\n",
      "Clu 6 Entropy:\t 1.9722469794234416\n",
      "Clu 7 Entropy:\t 0.6931471805599453\n",
      "Clu 8 Entropy:\t 2.274240930731769\n",
      "Clu 9 Entropy:\t 2.345737403861812\n",
      "Clu 10 Entropy:\t 2.630554953636816\n",
      "Clu 11 Entropy:\t 1.549826045878202\n",
      "Clu 12 Entropy:\t 1.3862943611198906\n",
      "Clu 13 Entropy:\t 2.4042341114242607\n",
      "Clu 14 Entropy:\t 1.1490596969706204\n",
      "Clu 15 Entropy:\t 1.0397207708399179\n",
      "Clu 16 Entropy:\t 2.592787426957419\n",
      "Clu 17 Entropy:\t 1.6731183626432509\n",
      "Clu 18 Entropy:\t 0.6931471805599453\n",
      "Clu 19 Entropy:\t 2.3978952727983707\n"
     ]
    }
   ],
   "source": [
    "## AEOC\n",
    "score = 0\n",
    "clucnt = 0\n",
    "clusterEntropy = {}\n",
    "for key, value in sorted(clusterList.items()):\n",
    "    clusterEntropy[key] = Entropy(value)\n",
    "    score += clusterEntropy[key]\n",
    "    clucnt += 1\n",
    "\n",
    "print(\"Avg Entropy:\\t\", score/clucnt, \"\\n\")\n",
    "\n",
    "for key, value in sorted(clusterEntropy.items()):\n",
    "    print(\"Clu\", key, \"Entropy:\\t\", value)"
   ],
   "metadata": {
    "collapsed": false,
    "pycharm": {
     "name": "#%%\n"
    }
   }
  }
 ],
 "metadata": {
  "kernelspec": {
   "display_name": "Python 3",
   "language": "python",
   "name": "python3"
  },
  "language_info": {
   "codemirror_mode": {
    "name": "ipython",
    "version": 3
   },
   "file_extension": ".py",
   "mimetype": "text/x-python",
   "name": "python",
   "nbconvert_exporter": "python",
   "pygments_lexer": "ipython3",
   "version": "3.6.8"
  }
 },
 "nbformat": 4,
 "nbformat_minor": 1
}