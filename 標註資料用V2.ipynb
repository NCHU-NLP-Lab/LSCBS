{
 "cells": [
  {
   "cell_type": "code",
   "execution_count": 1,
   "outputs": [],
   "source": [
    "from transformers import BertTokenizer\n",
    "tokenizer = BertTokenizer.from_pretrained('bert-base-chinese')"
   ],
   "metadata": {
    "collapsed": false,
    "pycharm": {
     "name": "#%%\n"
    }
   }
  },
  {
   "cell_type": "code",
   "execution_count": 2,
   "metadata": {},
   "outputs": [],
   "source": [
    "import os, json \n",
    "import pandas as pd \n",
    "import re\n",
    "\n",
    "train_onum = 600\n",
    "train_num = 100\n",
    "str_train_num = str(train_num)\n",
    "str_train_onum = str(train_onum)\n",
    "dir = 'dataR11'\n",
    "\n",
    "path_to_json = 'J:\\Legal_Judgment\\臺灣新北地方法院_改_V2'\n",
    "json_files = [pos_json for pos_json in os.listdir(path_to_json) if pos_json.endswith('.json')]\n",
    "print(json_files[0])\n",
    "#\n",
    "##%%\n",
    "#\n",
    "#with open('J://Legal_Judgment//臺灣新北地方法院_改_V2//'+json_files[0],\"r\",encoding=\"utf-8\") as f:\n",
    "#    dt = json.load(f)\n",
    "\n",
    "##%%\n",
    "#\n",
    "#dic = {\n",
    "#    \"id\": 0,\n",
    "#    \"court\": [dt[\"court\"]],\n",
    "#    \"date\": [dt[\"date\"]],\n",
    "#    \"no\": [dt[\"no\"]],\n",
    "#    \"sys\": [dt[\"sys\"]],\n",
    "#    \"reason\": [dt[\"reason\"]],\n",
    "#    \"type\": [dt[\"type\"]],\n",
    "#    \"mainText\": [dt[\"mainText\"]],\n",
    "#    \"judgement\": [dt[\"judgement\"]],\n",
    "#    #\"judgement_SIT\": [dt[\"judgement_SIT\"]],\n",
    "#    \"Situation\": [dt[\"Situation\"]]\n",
    "#}\n",
    "#df = pd.DataFrame(dic)"
   ]
  },
  {
   "cell_type": "code",
   "execution_count": 3,
   "outputs": [],
   "source": [
    "if (train_onum == train_num):\n",
    "    my_regex = r\"[\\(\\（]([^一二三四五六七八九零十1234567890]{1}[^\\)\\）]+|[一二三四五六七八九零十1234567890]{1}[^\\)\\）]{1,})[\\)\\）]\"\n",
    "\n",
    "    #spe = '丙○○意圖為自己不法之所有，基於搶奪之犯意，先後為下列搶奪行為：(一)於民國105年10月8日晚間7時20分許，騎乘登記於不知情之王介平名下之車牌號碼000-000號普通重型機車，行經高雄市○○區○○○路000號前時，將口罩脫下遮掩車牌，自後靠近步行在人行道上之甲○○，趁甲○○不及防備之際，以左手徒手掠取甲○○右手持有之背包1只（內有現金新臺幣【下同】9500元、索尼牌ZR綠色及Xperformance金色行動電話共2具【IMEI：000000000000000、000000000000000號】、長夾1個、信用卡及金融卡共5張、國民身分證2張、國民健康保險卡1張、普通重型機車駕照1張、識別證2張等物）得手後逃逸。嗣因丙○○將背包內之現金取走後，將背包棄置在高雄市鳳山區武營路某處，再經民眾在高雄市鳳山區衛武營附近拾獲上開背包（內有長夾1個、國民身分證2張、國民健康保險卡1張、信用卡3張、金融卡1張等物），遂送交警察機關發還甲○○領回。(二)於同年10月10日晚間11時5分許，騎乘向不知情之劉伊恩借用之車牌號碼000-0000號普通重型機車，行經高雄市○○區○○○路000號前時，使用口罩遮掩車牌，自後靠近步行在人行道上之少年乙○○（89年生，基於兒童及少年福利與權益保障法第69條第2項規定不得揭露足以識別少年身分之資訊，年籍詳卷），趁乙○○不及防備之際，以左手徒手掠取乙○○右手持有之背包1只（內有皮夾1只、現金3萬2000元、提款卡1張、國民身分證1張、國民健康保險卡1張等物）得手後逃逸，並將現金取出，其餘物品則丟棄。嗣為警循線於105年10月16日凌晨2時許，在高雄市○○區○○路000巷00號前查獲，並扣得現金2600元。'\n",
    "    show = 0\n",
    "    cnt = 0\n",
    "    for x in range(1,len(json_files)):\n",
    "        with open('J://Legal_Judgment//臺灣新北地方法院_改_V2//'+json_files[x],\"r\",encoding=\"utf-8\") as f:\n",
    "            dt = json.load(f)\n",
    "\n",
    "        try:\n",
    "            if (str(dt[\"judgement\"]).index(str(dt[\"Situation\"])) < 0):\n",
    "                print(\"error1:\" + dt[\"no\"])\n",
    "                continue\n",
    "\n",
    "\n",
    "            new = pd.DataFrame({\n",
    "            \"id\" : x,\n",
    "            \"court\": [dt[\"court\"]],\n",
    "            \"date\": [dt[\"date\"]],\n",
    "            \"no\": [dt[\"no\"]],\n",
    "            \"sys\": [dt[\"sys\"]],\n",
    "            \"reason\": [dt[\"reason\"]],\n",
    "            \"type\": [dt[\"type\"]],\n",
    "            \"mainText\": [dt[\"mainText\"]],\n",
    "            \"judgement\": [dt[\"judgement\"]],\n",
    "            #\"judgement_SIT\": [dt[\"judgement_SIT\"]],\n",
    "            \"Situation\": [dt[\"Situation\"]]\n",
    "            })\n",
    "\n",
    "            bol = 0\n",
    "            show = 0\n",
    "            for index, row in new.iterrows():\n",
    "                row.Situation = re.sub(my_regex, \"\", str(row.Situation).replace(my_regex, \"\"))\n",
    "                #if (len(row.Situation) > 508):\n",
    "                if (len(tokenizer.tokenize(row.Situation)) > 512):\n",
    "                    bol = 1\n",
    "\n",
    "            if (bol == 1):\n",
    "                continue\n",
    "\n",
    "            df = df.append(new)\n",
    "            cnt += 1\n",
    "            if (cnt % 1000 == 0):\n",
    "                print(cnt)\n",
    "\n",
    "        except:\n",
    "            print(dt[\"no\"])"
   ],
   "metadata": {
    "collapsed": false,
    "pycharm": {
     "name": "#%%\n"
    }
   }
  },
  {
   "cell_type": "code",
   "execution_count": 3,
   "outputs": [],
   "source": [],
   "metadata": {
    "collapsed": false,
    "pycharm": {
     "name": "#%%\n"
    }
   }
  },
  {
   "cell_type": "code",
   "execution_count": 4,
   "metadata": {},
   "outputs": [
    {
     "data": {
      "text/plain": "court        6299\ndate         6299\nno           6299\nsys          6299\nreason       6299\ntype         6299\nmainText     6286\njudgement    6299\nSituation    6297\ndtype: int64"
     },
     "execution_count": 4,
     "metadata": {},
     "output_type": "execute_result"
    }
   ],
   "source": [
    "#df.to_csv('J://Legal_Judgment//Result.csv', index=0)\n",
    "df = pd.read_csv('.//QA_Test1//HBert//'+ dir + '//Result_2.csv', index_col=0)\n",
    "df.count()"
   ]
  },
  {
   "cell_type": "code",
   "execution_count": 5,
   "outputs": [
    {
     "data": {
      "text/plain": "     id     court                       date         no sys reason type  \\\n0  1835  臺灣臺北地方法院  2016-12-13T00:00:00+08:00  105,侵訴,63  刑事  妨害性自主   判決   \n1  4243  臺灣臺中地方法院  2017-03-16T00:00:00+08:00  105,訴,468  刑事     搶奪   判決   \n\n                                            mainText  \\\n0                                             廖家詮無罪。   \n1  陳建榮犯搶奪罪，累犯，處有期徒刑陸月，如易科罰金，以新臺幣壹仟元折算壹日，並應於刑之執行前，...   \n\n                                           judgement  \\\n0  臺灣臺北地方法院刑事判決105年度侵訴字第63號公訴人臺灣臺北地方法院檢察署檢察官被告廖家詮...   \n1  臺灣臺中地方法院刑事判決105年度訴字第468號公訴人臺灣臺中地方法院檢察署檢察官被告陳建榮...   \n\n                                           Situation  \n0  被告廖家詮於民國104年12月9日上午11時許，在臺北市中正區誠品地下街K6樓梯口處（下稱K...  \n1  陳建榮因罹患妄想性思覺失調症，致其辨識行為違法或依其辨識而行為之能力顯著降低，竟意圖為自己不...  ",
      "text/html": "<div>\n<style scoped>\n    .dataframe tbody tr th:only-of-type {\n        vertical-align: middle;\n    }\n\n    .dataframe tbody tr th {\n        vertical-align: top;\n    }\n\n    .dataframe thead th {\n        text-align: right;\n    }\n</style>\n<table border=\"1\" class=\"dataframe\">\n  <thead>\n    <tr style=\"text-align: right;\">\n      <th></th>\n      <th>id</th>\n      <th>court</th>\n      <th>date</th>\n      <th>no</th>\n      <th>sys</th>\n      <th>reason</th>\n      <th>type</th>\n      <th>mainText</th>\n      <th>judgement</th>\n      <th>Situation</th>\n    </tr>\n  </thead>\n  <tbody>\n    <tr>\n      <th>0</th>\n      <td>1835</td>\n      <td>臺灣臺北地方法院</td>\n      <td>2016-12-13T00:00:00+08:00</td>\n      <td>105,侵訴,63</td>\n      <td>刑事</td>\n      <td>妨害性自主</td>\n      <td>判決</td>\n      <td>廖家詮無罪。</td>\n      <td>臺灣臺北地方法院刑事判決105年度侵訴字第63號公訴人臺灣臺北地方法院檢察署檢察官被告廖家詮...</td>\n      <td>被告廖家詮於民國104年12月9日上午11時許，在臺北市中正區誠品地下街K6樓梯口處（下稱K...</td>\n    </tr>\n    <tr>\n      <th>1</th>\n      <td>4243</td>\n      <td>臺灣臺中地方法院</td>\n      <td>2017-03-16T00:00:00+08:00</td>\n      <td>105,訴,468</td>\n      <td>刑事</td>\n      <td>搶奪</td>\n      <td>判決</td>\n      <td>陳建榮犯搶奪罪，累犯，處有期徒刑陸月，如易科罰金，以新臺幣壹仟元折算壹日，並應於刑之執行前，...</td>\n      <td>臺灣臺中地方法院刑事判決105年度訴字第468號公訴人臺灣臺中地方法院檢察署檢察官被告陳建榮...</td>\n      <td>陳建榮因罹患妄想性思覺失調症，致其辨識行為違法或依其辨識而行為之能力顯著降低，竟意圖為自己不...</td>\n    </tr>\n  </tbody>\n</table>\n</div>"
     },
     "execution_count": 5,
     "metadata": {},
     "output_type": "execute_result"
    }
   ],
   "source": [
    "#df = pd.read_csv('J://Legal_Judgment//Result.csv', index_col=0)\n",
    "test = pd.read_csv('.//QA_Test1//HBert//'+ dir + '//Test500.csv')\n",
    "test.head(2)"
   ],
   "metadata": {
    "collapsed": false,
    "pycharm": {
     "name": "#%%\n"
    }
   }
  },
  {
   "cell_type": "code",
   "execution_count": 6,
   "outputs": [
    {
     "data": {
      "text/plain": "         court                       date           no sys    reason type  \\\nid                                                                          \n25    臺灣臺中地方法院  2011-05-20T00:00:00+08:00  100,中簡,1135  刑事      妨害風化   判決   \n60    臺灣臺中地方法院  2011-07-27T00:00:00+08:00  100,中簡,1635  刑事      妨害風化   判決   \n99    臺灣臺中地方法院  2011-10-31T00:00:00+08:00  100,中簡,2179  刑事      妨害風化   判決   \n119   臺灣臺中地方法院  2012-02-29T00:00:00+08:00  100,中簡,2495  刑事      妨害風化   判決   \n129   臺灣臺中地方法院  2011-12-28T00:00:00+08:00  100,中簡,2600  刑事        竊盜   判決   \n...        ...                        ...          ...  ..       ...  ...   \n6961  臺灣臺北地方法院  2018-12-11T00:00:00+08:00    107,訴,438  刑事  毒品危害防制條例   判決   \n6983  臺灣新北地方法院  2018-11-23T00:00:00+08:00    107,訴,558  刑事        強盜   判決   \n7016  臺灣臺北地方法院  2018-05-17T00:00:00+08:00     107,訴,77  刑事  毒品危害防制條例   判決   \n7039  臺灣桃園地方法院  2018-04-27T00:00:00+08:00    107,訴緝,10  刑事        強盜   判決   \n7101  臺灣新北地方法院  2017-05-25T00:00:00+08:00    105,原訴,43  刑事     恐嚇取財等   裁定   \n\n                                               mainText  \\\nid                                                        \n25    李正鴻意圖使女子與他人為性交之行為，而容留以營利，處有期徒刑伍月，如易科罰金，以新臺幣壹仟元...   \n60    黃嘉銘共同意圖使女子與他人為性交之行為，而媒介以營利，累犯，處有期徒刑肆月，如易科罰金，以新...   \n99    楊東進共同意圖使女子與他人為性交之行為，而媒介以營利，處有期徒刑參月，如易科罰金，以新臺幣壹...   \n119   賴梁麗珍意圖使女子與他人為性交之行為，而容留以營利，累犯，處有期徒刑肆月，如易科罰金，以新臺...   \n129   陳重元犯竊盜罪，處拘役貳拾日，以新臺幣壹仟元折算壹日。又犯竊盜罪，處拘役貳拾日，如易科罰金，...   \n...                                                 ...   \n6961  趙子君販賣第三級毒品，未遂，處有期徒刑壹年拾月。扣案含4─甲基甲基卡西酮及硝甲西泮成分之第三...   \n6983  鄧糧緯犯攜帶兇器強盜罪，累犯，處有期徒刑參年捌月。扣案之口罩壹個沒收、未扣案刀械壹把沒收，於...   \n7016  林慶緯販賣第三級毒品，未遂，處有期徒刑壹年。扣案如附表編號1所示之物均沒收銷毀；扣案如附表編...   \n7039  黃文龍犯攜帶兇器強盜罪，處有期徒刑玖年。扣案之仿GL OC K廠27型半自動手槍改造之無傷力...   \n7101                          雲惠玉自民國一百零六年五月二十八日起延長羈押貳月。   \n\n                                              judgement  \\\nid                                                        \n25    臺灣臺中地方法院刑事簡易判決100年度中簡字第1135號聲請人臺灣臺中地方法院檢察署檢察官被...   \n60    臺灣臺中地方法院刑事簡易判決100年度中簡字第1635號聲請人臺灣臺中地方法院檢察署檢察官被...   \n99    臺灣臺中地方法院刑事簡易判決100年度中簡字第2179號聲請人臺灣臺中地方法院檢察署檢察官被...   \n119   臺灣臺中地方法院刑事簡易判決100年度中簡字第2495號聲請人臺灣臺中地方法院檢察署檢察官被...   \n129   臺灣臺中地方法院刑事簡易判決100年度中簡字第2600號聲請人臺灣臺中地方法院檢察署檢察官被...   \n...                                                 ...   \n6961  臺灣臺北地方法院刑事判決107年度訴字第438號公訴人臺灣臺北地方檢察署檢察官被告趙子君選任...   \n6983  臺灣新北地方法院刑事判決107年度訴字第558號公訴人臺灣新北地方檢察署檢察官被告鄧糧緯選任...   \n7016  臺灣臺北地方法院刑事判決107年度訴字第77號公訴人臺灣臺北地方法院檢察署檢察官被告林慶緯指...   \n7039  臺灣桃園地方法院刑事判決107年度訴緝字第10號公訴人臺灣桃園地方法院檢察署檢察官被告黃文龍...   \n7101  臺灣新北地方法院刑事裁定105年度原訴字第43號公訴人臺灣新北地方法院檢察署檢察官被告雲惠玉...   \n\n                                              Situation  \nid                                                       \n25    李正鴻基於意圖使女子與他人為猥褻、性交行為而媒介、容留以營利之犯意，自民國100年1月中旬某...  \n60    詎猶不知警惕，竟與真實姓名年籍不詳綽號「大哥」之成年男子及其成員，共同基於意圖使女子與他人為...  \n99    楊東進與真實姓名年籍不詳、綽號「小彤」之成年女子（下稱「小彤」）共同基於意圖使女子與他人為性...  \n119   詎猶不知悔改，復基於意圖使女子與他人為性交及猥褻行為而媒介、容留以營利之犯意，利用其在臺中市...  \n129   陳重元為輕度智能不足者，有精神恍忽、注意力不集中之情況，對於較複雜事物的判斷力較不足，致其辨...  \n...                                                 ...  \n6961  趙子君明知4-甲基甲基卡西酮（4-methylmethcathinone、Mephedron...  \n6983  鄧糧緯前因施用毒品案件，經本院以105年度簡字第7275號判決判處有期徒刑3月確定，於民國1...  \n7016  林慶緯明知愷他命、4-甲基甲基卡西酮、5-甲氧基-N-甲基-N-異丙基色胺皆係毒品危害防制條...  \n7039  黃文龍意圖為自己不法之所有，基於強盜之犯意，於105年10月15日中午12時8分許，在桃園市...  \n7101  被告雲惠玉因恐嚇取財等案件，前經本院於民國106年2月28日訊問，並參酌證人謝明憲、劉福財、...  \n\n[351 rows x 9 columns]",
      "text/html": "<div>\n<style scoped>\n    .dataframe tbody tr th:only-of-type {\n        vertical-align: middle;\n    }\n\n    .dataframe tbody tr th {\n        vertical-align: top;\n    }\n\n    .dataframe thead th {\n        text-align: right;\n    }\n</style>\n<table border=\"1\" class=\"dataframe\">\n  <thead>\n    <tr style=\"text-align: right;\">\n      <th></th>\n      <th>court</th>\n      <th>date</th>\n      <th>no</th>\n      <th>sys</th>\n      <th>reason</th>\n      <th>type</th>\n      <th>mainText</th>\n      <th>judgement</th>\n      <th>Situation</th>\n    </tr>\n    <tr>\n      <th>id</th>\n      <th></th>\n      <th></th>\n      <th></th>\n      <th></th>\n      <th></th>\n      <th></th>\n      <th></th>\n      <th></th>\n      <th></th>\n    </tr>\n  </thead>\n  <tbody>\n    <tr>\n      <th>25</th>\n      <td>臺灣臺中地方法院</td>\n      <td>2011-05-20T00:00:00+08:00</td>\n      <td>100,中簡,1135</td>\n      <td>刑事</td>\n      <td>妨害風化</td>\n      <td>判決</td>\n      <td>李正鴻意圖使女子與他人為性交之行為，而容留以營利，處有期徒刑伍月，如易科罰金，以新臺幣壹仟元...</td>\n      <td>臺灣臺中地方法院刑事簡易判決100年度中簡字第1135號聲請人臺灣臺中地方法院檢察署檢察官被...</td>\n      <td>李正鴻基於意圖使女子與他人為猥褻、性交行為而媒介、容留以營利之犯意，自民國100年1月中旬某...</td>\n    </tr>\n    <tr>\n      <th>60</th>\n      <td>臺灣臺中地方法院</td>\n      <td>2011-07-27T00:00:00+08:00</td>\n      <td>100,中簡,1635</td>\n      <td>刑事</td>\n      <td>妨害風化</td>\n      <td>判決</td>\n      <td>黃嘉銘共同意圖使女子與他人為性交之行為，而媒介以營利，累犯，處有期徒刑肆月，如易科罰金，以新...</td>\n      <td>臺灣臺中地方法院刑事簡易判決100年度中簡字第1635號聲請人臺灣臺中地方法院檢察署檢察官被...</td>\n      <td>詎猶不知警惕，竟與真實姓名年籍不詳綽號「大哥」之成年男子及其成員，共同基於意圖使女子與他人為...</td>\n    </tr>\n    <tr>\n      <th>99</th>\n      <td>臺灣臺中地方法院</td>\n      <td>2011-10-31T00:00:00+08:00</td>\n      <td>100,中簡,2179</td>\n      <td>刑事</td>\n      <td>妨害風化</td>\n      <td>判決</td>\n      <td>楊東進共同意圖使女子與他人為性交之行為，而媒介以營利，處有期徒刑參月，如易科罰金，以新臺幣壹...</td>\n      <td>臺灣臺中地方法院刑事簡易判決100年度中簡字第2179號聲請人臺灣臺中地方法院檢察署檢察官被...</td>\n      <td>楊東進與真實姓名年籍不詳、綽號「小彤」之成年女子（下稱「小彤」）共同基於意圖使女子與他人為性...</td>\n    </tr>\n    <tr>\n      <th>119</th>\n      <td>臺灣臺中地方法院</td>\n      <td>2012-02-29T00:00:00+08:00</td>\n      <td>100,中簡,2495</td>\n      <td>刑事</td>\n      <td>妨害風化</td>\n      <td>判決</td>\n      <td>賴梁麗珍意圖使女子與他人為性交之行為，而容留以營利，累犯，處有期徒刑肆月，如易科罰金，以新臺...</td>\n      <td>臺灣臺中地方法院刑事簡易判決100年度中簡字第2495號聲請人臺灣臺中地方法院檢察署檢察官被...</td>\n      <td>詎猶不知悔改，復基於意圖使女子與他人為性交及猥褻行為而媒介、容留以營利之犯意，利用其在臺中市...</td>\n    </tr>\n    <tr>\n      <th>129</th>\n      <td>臺灣臺中地方法院</td>\n      <td>2011-12-28T00:00:00+08:00</td>\n      <td>100,中簡,2600</td>\n      <td>刑事</td>\n      <td>竊盜</td>\n      <td>判決</td>\n      <td>陳重元犯竊盜罪，處拘役貳拾日，以新臺幣壹仟元折算壹日。又犯竊盜罪，處拘役貳拾日，如易科罰金，...</td>\n      <td>臺灣臺中地方法院刑事簡易判決100年度中簡字第2600號聲請人臺灣臺中地方法院檢察署檢察官被...</td>\n      <td>陳重元為輕度智能不足者，有精神恍忽、注意力不集中之情況，對於較複雜事物的判斷力較不足，致其辨...</td>\n    </tr>\n    <tr>\n      <th>...</th>\n      <td>...</td>\n      <td>...</td>\n      <td>...</td>\n      <td>...</td>\n      <td>...</td>\n      <td>...</td>\n      <td>...</td>\n      <td>...</td>\n      <td>...</td>\n    </tr>\n    <tr>\n      <th>6961</th>\n      <td>臺灣臺北地方法院</td>\n      <td>2018-12-11T00:00:00+08:00</td>\n      <td>107,訴,438</td>\n      <td>刑事</td>\n      <td>毒品危害防制條例</td>\n      <td>判決</td>\n      <td>趙子君販賣第三級毒品，未遂，處有期徒刑壹年拾月。扣案含4─甲基甲基卡西酮及硝甲西泮成分之第三...</td>\n      <td>臺灣臺北地方法院刑事判決107年度訴字第438號公訴人臺灣臺北地方檢察署檢察官被告趙子君選任...</td>\n      <td>趙子君明知4-甲基甲基卡西酮（4-methylmethcathinone、Mephedron...</td>\n    </tr>\n    <tr>\n      <th>6983</th>\n      <td>臺灣新北地方法院</td>\n      <td>2018-11-23T00:00:00+08:00</td>\n      <td>107,訴,558</td>\n      <td>刑事</td>\n      <td>強盜</td>\n      <td>判決</td>\n      <td>鄧糧緯犯攜帶兇器強盜罪，累犯，處有期徒刑參年捌月。扣案之口罩壹個沒收、未扣案刀械壹把沒收，於...</td>\n      <td>臺灣新北地方法院刑事判決107年度訴字第558號公訴人臺灣新北地方檢察署檢察官被告鄧糧緯選任...</td>\n      <td>鄧糧緯前因施用毒品案件，經本院以105年度簡字第7275號判決判處有期徒刑3月確定，於民國1...</td>\n    </tr>\n    <tr>\n      <th>7016</th>\n      <td>臺灣臺北地方法院</td>\n      <td>2018-05-17T00:00:00+08:00</td>\n      <td>107,訴,77</td>\n      <td>刑事</td>\n      <td>毒品危害防制條例</td>\n      <td>判決</td>\n      <td>林慶緯販賣第三級毒品，未遂，處有期徒刑壹年。扣案如附表編號1所示之物均沒收銷毀；扣案如附表編...</td>\n      <td>臺灣臺北地方法院刑事判決107年度訴字第77號公訴人臺灣臺北地方法院檢察署檢察官被告林慶緯指...</td>\n      <td>林慶緯明知愷他命、4-甲基甲基卡西酮、5-甲氧基-N-甲基-N-異丙基色胺皆係毒品危害防制條...</td>\n    </tr>\n    <tr>\n      <th>7039</th>\n      <td>臺灣桃園地方法院</td>\n      <td>2018-04-27T00:00:00+08:00</td>\n      <td>107,訴緝,10</td>\n      <td>刑事</td>\n      <td>強盜</td>\n      <td>判決</td>\n      <td>黃文龍犯攜帶兇器強盜罪，處有期徒刑玖年。扣案之仿GL OC K廠27型半自動手槍改造之無傷力...</td>\n      <td>臺灣桃園地方法院刑事判決107年度訴緝字第10號公訴人臺灣桃園地方法院檢察署檢察官被告黃文龍...</td>\n      <td>黃文龍意圖為自己不法之所有，基於強盜之犯意，於105年10月15日中午12時8分許，在桃園市...</td>\n    </tr>\n    <tr>\n      <th>7101</th>\n      <td>臺灣新北地方法院</td>\n      <td>2017-05-25T00:00:00+08:00</td>\n      <td>105,原訴,43</td>\n      <td>刑事</td>\n      <td>恐嚇取財等</td>\n      <td>裁定</td>\n      <td>雲惠玉自民國一百零六年五月二十八日起延長羈押貳月。</td>\n      <td>臺灣新北地方法院刑事裁定105年度原訴字第43號公訴人臺灣新北地方法院檢察署檢察官被告雲惠玉...</td>\n      <td>被告雲惠玉因恐嚇取財等案件，前經本院於民國106年2月28日訊問，並參酌證人謝明憲、劉福財、...</td>\n    </tr>\n  </tbody>\n</table>\n<p>351 rows × 9 columns</p>\n</div>"
     },
     "execution_count": 6,
     "metadata": {},
     "output_type": "execute_result"
    }
   ],
   "source": [
    "df[df['Situation'].str.len() > 512]"
   ],
   "metadata": {
    "collapsed": false,
    "pycharm": {
     "name": "#%%\n"
    }
   }
  },
  {
   "cell_type": "code",
   "execution_count": 7,
   "outputs": [],
   "source": [
    "df['reason'] = df['reason'].str.replace('等','')\n",
    "df['reason'] = df['reason'].str.replace('罪','')\n",
    "df['reason'] = df['reason'].str.replace(\"條例\",\"\")\n",
    "df['reason'] = df['reason'].str.replace(\"防制\",\"\")\n",
    "df['reason'] = df['reason'].str.replace(\"管制\",\"\")\n",
    "df['reason'] = df['reason'].str.replace(\"違反\",\"\")\n",
    "df['reason'] = df['reason'].str.replace(\"違法著作權\",\"著作權法\")\n",
    "\n",
    "#test['judgement'] = test['judgement'].str.replace(my_regex, \"\")\n",
    "#test['Situation'] = test['Situation'].str.replace(my_regex, \"\")"
   ],
   "metadata": {
    "collapsed": false,
    "pycharm": {
     "name": "#%%\n"
    }
   }
  },
  {
   "cell_type": "code",
   "execution_count": 8,
   "outputs": [
    {
     "data": {
      "text/plain": "         court                       date           no sys reason type  \\\nid                                                                       \n25    臺灣臺中地方法院  2011-05-20T00:00:00+08:00  100,中簡,1135  刑事   妨害風化   判決   \n60    臺灣臺中地方法院  2011-07-27T00:00:00+08:00  100,中簡,1635  刑事   妨害風化   判決   \n99    臺灣臺中地方法院  2011-10-31T00:00:00+08:00  100,中簡,2179  刑事   妨害風化   判決   \n119   臺灣臺中地方法院  2012-02-29T00:00:00+08:00  100,中簡,2495  刑事   妨害風化   判決   \n129   臺灣臺中地方法院  2011-12-28T00:00:00+08:00  100,中簡,2600  刑事     竊盜   判決   \n...        ...                        ...          ...  ..    ...  ...   \n6961  臺灣臺北地方法院  2018-12-11T00:00:00+08:00    107,訴,438  刑事   毒品危害   判決   \n6983  臺灣新北地方法院  2018-11-23T00:00:00+08:00    107,訴,558  刑事     強盜   判決   \n7016  臺灣臺北地方法院  2018-05-17T00:00:00+08:00     107,訴,77  刑事   毒品危害   判決   \n7039  臺灣桃園地方法院  2018-04-27T00:00:00+08:00    107,訴緝,10  刑事     強盜   判決   \n7101  臺灣新北地方法院  2017-05-25T00:00:00+08:00    105,原訴,43  刑事   恐嚇取財   裁定   \n\n                                               mainText  \\\nid                                                        \n25    李正鴻意圖使女子與他人為性交之行為，而容留以營利，處有期徒刑伍月，如易科罰金，以新臺幣壹仟元...   \n60    黃嘉銘共同意圖使女子與他人為性交之行為，而媒介以營利，累犯，處有期徒刑肆月，如易科罰金，以新...   \n99    楊東進共同意圖使女子與他人為性交之行為，而媒介以營利，處有期徒刑參月，如易科罰金，以新臺幣壹...   \n119   賴梁麗珍意圖使女子與他人為性交之行為，而容留以營利，累犯，處有期徒刑肆月，如易科罰金，以新臺...   \n129   陳重元犯竊盜罪，處拘役貳拾日，以新臺幣壹仟元折算壹日。又犯竊盜罪，處拘役貳拾日，如易科罰金，...   \n...                                                 ...   \n6961  趙子君販賣第三級毒品，未遂，處有期徒刑壹年拾月。扣案含4─甲基甲基卡西酮及硝甲西泮成分之第三...   \n6983  鄧糧緯犯攜帶兇器強盜罪，累犯，處有期徒刑參年捌月。扣案之口罩壹個沒收、未扣案刀械壹把沒收，於...   \n7016  林慶緯販賣第三級毒品，未遂，處有期徒刑壹年。扣案如附表編號1所示之物均沒收銷毀；扣案如附表編...   \n7039  黃文龍犯攜帶兇器強盜罪，處有期徒刑玖年。扣案之仿GL OC K廠27型半自動手槍改造之無傷力...   \n7101                          雲惠玉自民國一百零六年五月二十八日起延長羈押貳月。   \n\n                                              judgement  \\\nid                                                        \n25    臺灣臺中地方法院刑事簡易判決100年度中簡字第1135號聲請人臺灣臺中地方法院檢察署檢察官被...   \n60    臺灣臺中地方法院刑事簡易判決100年度中簡字第1635號聲請人臺灣臺中地方法院檢察署檢察官被...   \n99    臺灣臺中地方法院刑事簡易判決100年度中簡字第2179號聲請人臺灣臺中地方法院檢察署檢察官被...   \n119   臺灣臺中地方法院刑事簡易判決100年度中簡字第2495號聲請人臺灣臺中地方法院檢察署檢察官被...   \n129   臺灣臺中地方法院刑事簡易判決100年度中簡字第2600號聲請人臺灣臺中地方法院檢察署檢察官被...   \n...                                                 ...   \n6961  臺灣臺北地方法院刑事判決107年度訴字第438號公訴人臺灣臺北地方檢察署檢察官被告趙子君選任...   \n6983  臺灣新北地方法院刑事判決107年度訴字第558號公訴人臺灣新北地方檢察署檢察官被告鄧糧緯選任...   \n7016  臺灣臺北地方法院刑事判決107年度訴字第77號公訴人臺灣臺北地方法院檢察署檢察官被告林慶緯指...   \n7039  臺灣桃園地方法院刑事判決107年度訴緝字第10號公訴人臺灣桃園地方法院檢察署檢察官被告黃文龍...   \n7101  臺灣新北地方法院刑事裁定105年度原訴字第43號公訴人臺灣新北地方法院檢察署檢察官被告雲惠玉...   \n\n                                              Situation  \nid                                                       \n25    李正鴻基於意圖使女子與他人為猥褻、性交行為而媒介、容留以營利之犯意，自民國100年1月中旬某...  \n60    詎猶不知警惕，竟與真實姓名年籍不詳綽號「大哥」之成年男子及其成員，共同基於意圖使女子與他人為...  \n99    楊東進與真實姓名年籍不詳、綽號「小彤」之成年女子（下稱「小彤」）共同基於意圖使女子與他人為性...  \n119   詎猶不知悔改，復基於意圖使女子與他人為性交及猥褻行為而媒介、容留以營利之犯意，利用其在臺中市...  \n129   陳重元為輕度智能不足者，有精神恍忽、注意力不集中之情況，對於較複雜事物的判斷力較不足，致其辨...  \n...                                                 ...  \n6961  趙子君明知4-甲基甲基卡西酮（4-methylmethcathinone、Mephedron...  \n6983  鄧糧緯前因施用毒品案件，經本院以105年度簡字第7275號判決判處有期徒刑3月確定，於民國1...  \n7016  林慶緯明知愷他命、4-甲基甲基卡西酮、5-甲氧基-N-甲基-N-異丙基色胺皆係毒品危害防制條...  \n7039  黃文龍意圖為自己不法之所有，基於強盜之犯意，於105年10月15日中午12時8分許，在桃園市...  \n7101  被告雲惠玉因恐嚇取財等案件，前經本院於民國106年2月28日訊問，並參酌證人謝明憲、劉福財、...  \n\n[351 rows x 9 columns]",
      "text/html": "<div>\n<style scoped>\n    .dataframe tbody tr th:only-of-type {\n        vertical-align: middle;\n    }\n\n    .dataframe tbody tr th {\n        vertical-align: top;\n    }\n\n    .dataframe thead th {\n        text-align: right;\n    }\n</style>\n<table border=\"1\" class=\"dataframe\">\n  <thead>\n    <tr style=\"text-align: right;\">\n      <th></th>\n      <th>court</th>\n      <th>date</th>\n      <th>no</th>\n      <th>sys</th>\n      <th>reason</th>\n      <th>type</th>\n      <th>mainText</th>\n      <th>judgement</th>\n      <th>Situation</th>\n    </tr>\n    <tr>\n      <th>id</th>\n      <th></th>\n      <th></th>\n      <th></th>\n      <th></th>\n      <th></th>\n      <th></th>\n      <th></th>\n      <th></th>\n      <th></th>\n    </tr>\n  </thead>\n  <tbody>\n    <tr>\n      <th>25</th>\n      <td>臺灣臺中地方法院</td>\n      <td>2011-05-20T00:00:00+08:00</td>\n      <td>100,中簡,1135</td>\n      <td>刑事</td>\n      <td>妨害風化</td>\n      <td>判決</td>\n      <td>李正鴻意圖使女子與他人為性交之行為，而容留以營利，處有期徒刑伍月，如易科罰金，以新臺幣壹仟元...</td>\n      <td>臺灣臺中地方法院刑事簡易判決100年度中簡字第1135號聲請人臺灣臺中地方法院檢察署檢察官被...</td>\n      <td>李正鴻基於意圖使女子與他人為猥褻、性交行為而媒介、容留以營利之犯意，自民國100年1月中旬某...</td>\n    </tr>\n    <tr>\n      <th>60</th>\n      <td>臺灣臺中地方法院</td>\n      <td>2011-07-27T00:00:00+08:00</td>\n      <td>100,中簡,1635</td>\n      <td>刑事</td>\n      <td>妨害風化</td>\n      <td>判決</td>\n      <td>黃嘉銘共同意圖使女子與他人為性交之行為，而媒介以營利，累犯，處有期徒刑肆月，如易科罰金，以新...</td>\n      <td>臺灣臺中地方法院刑事簡易判決100年度中簡字第1635號聲請人臺灣臺中地方法院檢察署檢察官被...</td>\n      <td>詎猶不知警惕，竟與真實姓名年籍不詳綽號「大哥」之成年男子及其成員，共同基於意圖使女子與他人為...</td>\n    </tr>\n    <tr>\n      <th>99</th>\n      <td>臺灣臺中地方法院</td>\n      <td>2011-10-31T00:00:00+08:00</td>\n      <td>100,中簡,2179</td>\n      <td>刑事</td>\n      <td>妨害風化</td>\n      <td>判決</td>\n      <td>楊東進共同意圖使女子與他人為性交之行為，而媒介以營利，處有期徒刑參月，如易科罰金，以新臺幣壹...</td>\n      <td>臺灣臺中地方法院刑事簡易判決100年度中簡字第2179號聲請人臺灣臺中地方法院檢察署檢察官被...</td>\n      <td>楊東進與真實姓名年籍不詳、綽號「小彤」之成年女子（下稱「小彤」）共同基於意圖使女子與他人為性...</td>\n    </tr>\n    <tr>\n      <th>119</th>\n      <td>臺灣臺中地方法院</td>\n      <td>2012-02-29T00:00:00+08:00</td>\n      <td>100,中簡,2495</td>\n      <td>刑事</td>\n      <td>妨害風化</td>\n      <td>判決</td>\n      <td>賴梁麗珍意圖使女子與他人為性交之行為，而容留以營利，累犯，處有期徒刑肆月，如易科罰金，以新臺...</td>\n      <td>臺灣臺中地方法院刑事簡易判決100年度中簡字第2495號聲請人臺灣臺中地方法院檢察署檢察官被...</td>\n      <td>詎猶不知悔改，復基於意圖使女子與他人為性交及猥褻行為而媒介、容留以營利之犯意，利用其在臺中市...</td>\n    </tr>\n    <tr>\n      <th>129</th>\n      <td>臺灣臺中地方法院</td>\n      <td>2011-12-28T00:00:00+08:00</td>\n      <td>100,中簡,2600</td>\n      <td>刑事</td>\n      <td>竊盜</td>\n      <td>判決</td>\n      <td>陳重元犯竊盜罪，處拘役貳拾日，以新臺幣壹仟元折算壹日。又犯竊盜罪，處拘役貳拾日，如易科罰金，...</td>\n      <td>臺灣臺中地方法院刑事簡易判決100年度中簡字第2600號聲請人臺灣臺中地方法院檢察署檢察官被...</td>\n      <td>陳重元為輕度智能不足者，有精神恍忽、注意力不集中之情況，對於較複雜事物的判斷力較不足，致其辨...</td>\n    </tr>\n    <tr>\n      <th>...</th>\n      <td>...</td>\n      <td>...</td>\n      <td>...</td>\n      <td>...</td>\n      <td>...</td>\n      <td>...</td>\n      <td>...</td>\n      <td>...</td>\n      <td>...</td>\n    </tr>\n    <tr>\n      <th>6961</th>\n      <td>臺灣臺北地方法院</td>\n      <td>2018-12-11T00:00:00+08:00</td>\n      <td>107,訴,438</td>\n      <td>刑事</td>\n      <td>毒品危害</td>\n      <td>判決</td>\n      <td>趙子君販賣第三級毒品，未遂，處有期徒刑壹年拾月。扣案含4─甲基甲基卡西酮及硝甲西泮成分之第三...</td>\n      <td>臺灣臺北地方法院刑事判決107年度訴字第438號公訴人臺灣臺北地方檢察署檢察官被告趙子君選任...</td>\n      <td>趙子君明知4-甲基甲基卡西酮（4-methylmethcathinone、Mephedron...</td>\n    </tr>\n    <tr>\n      <th>6983</th>\n      <td>臺灣新北地方法院</td>\n      <td>2018-11-23T00:00:00+08:00</td>\n      <td>107,訴,558</td>\n      <td>刑事</td>\n      <td>強盜</td>\n      <td>判決</td>\n      <td>鄧糧緯犯攜帶兇器強盜罪，累犯，處有期徒刑參年捌月。扣案之口罩壹個沒收、未扣案刀械壹把沒收，於...</td>\n      <td>臺灣新北地方法院刑事判決107年度訴字第558號公訴人臺灣新北地方檢察署檢察官被告鄧糧緯選任...</td>\n      <td>鄧糧緯前因施用毒品案件，經本院以105年度簡字第7275號判決判處有期徒刑3月確定，於民國1...</td>\n    </tr>\n    <tr>\n      <th>7016</th>\n      <td>臺灣臺北地方法院</td>\n      <td>2018-05-17T00:00:00+08:00</td>\n      <td>107,訴,77</td>\n      <td>刑事</td>\n      <td>毒品危害</td>\n      <td>判決</td>\n      <td>林慶緯販賣第三級毒品，未遂，處有期徒刑壹年。扣案如附表編號1所示之物均沒收銷毀；扣案如附表編...</td>\n      <td>臺灣臺北地方法院刑事判決107年度訴字第77號公訴人臺灣臺北地方法院檢察署檢察官被告林慶緯指...</td>\n      <td>林慶緯明知愷他命、4-甲基甲基卡西酮、5-甲氧基-N-甲基-N-異丙基色胺皆係毒品危害防制條...</td>\n    </tr>\n    <tr>\n      <th>7039</th>\n      <td>臺灣桃園地方法院</td>\n      <td>2018-04-27T00:00:00+08:00</td>\n      <td>107,訴緝,10</td>\n      <td>刑事</td>\n      <td>強盜</td>\n      <td>判決</td>\n      <td>黃文龍犯攜帶兇器強盜罪，處有期徒刑玖年。扣案之仿GL OC K廠27型半自動手槍改造之無傷力...</td>\n      <td>臺灣桃園地方法院刑事判決107年度訴緝字第10號公訴人臺灣桃園地方法院檢察署檢察官被告黃文龍...</td>\n      <td>黃文龍意圖為自己不法之所有，基於強盜之犯意，於105年10月15日中午12時8分許，在桃園市...</td>\n    </tr>\n    <tr>\n      <th>7101</th>\n      <td>臺灣新北地方法院</td>\n      <td>2017-05-25T00:00:00+08:00</td>\n      <td>105,原訴,43</td>\n      <td>刑事</td>\n      <td>恐嚇取財</td>\n      <td>裁定</td>\n      <td>雲惠玉自民國一百零六年五月二十八日起延長羈押貳月。</td>\n      <td>臺灣新北地方法院刑事裁定105年度原訴字第43號公訴人臺灣新北地方法院檢察署檢察官被告雲惠玉...</td>\n      <td>被告雲惠玉因恐嚇取財等案件，前經本院於民國106年2月28日訊問，並參酌證人謝明憲、劉福財、...</td>\n    </tr>\n  </tbody>\n</table>\n<p>351 rows × 9 columns</p>\n</div>"
     },
     "execution_count": 8,
     "metadata": {},
     "output_type": "execute_result"
    }
   ],
   "source": [
    "df[df['Situation'].str.len() > 512]"
   ],
   "metadata": {
    "collapsed": false,
    "pycharm": {
     "name": "#%%\n"
    }
   }
  },
  {
   "cell_type": "code",
   "execution_count": 9,
   "outputs": [
    {
     "data": {
      "text/plain": "公共危險      461\n妨害公務      395\n妨害名譽      388\n妨害風化      356\n妨害性自主     346\n妨害自由      340\n毀損        334\n恐嚇        325\n竊盜        322\n著作權法      319\n毒品危害      309\n槍砲彈藥刀械    249\n傷害        242\n侵占        236\n賭博        236\n偽造文書      219\n過失傷害      216\n搶奪        215\n殺人未遂      202\n商標法       175\n詐欺        162\n強盜        139\n殺人         39\n毀棄損壞       37\n恐嚇取財       19\n過失致死        7\n貪污          4\n醫師法         3\n藥事法         2\n替代役實施       1\n偽證          1\nName: reason, dtype: int64"
     },
     "execution_count": 9,
     "metadata": {},
     "output_type": "execute_result"
    }
   ],
   "source": [
    "df.loc[:,'reason'].value_counts()"
   ],
   "metadata": {
    "collapsed": false,
    "pycharm": {
     "name": "#%%\n"
    }
   }
  },
  {
   "cell_type": "code",
   "execution_count": 10,
   "outputs": [
    {
     "data": {
      "text/plain": "     id     court                       date         no sys reason type  \\\n0  1835  臺灣臺北地方法院  2016-12-13T00:00:00+08:00  105,侵訴,63  刑事  妨害性自主   判決   \n1  4243  臺灣臺中地方法院  2017-03-16T00:00:00+08:00  105,訴,468  刑事     搶奪   判決   \n\n                                            mainText  \\\n0                                             廖家詮無罪。   \n1  陳建榮犯搶奪罪，累犯，處有期徒刑陸月，如易科罰金，以新臺幣壹仟元折算壹日，並應於刑之執行前，...   \n\n                                           judgement  \\\n0  臺灣臺北地方法院刑事判決105年度侵訴字第63號公訴人臺灣臺北地方法院檢察署檢察官被告廖家詮...   \n1  臺灣臺中地方法院刑事判決105年度訴字第468號公訴人臺灣臺中地方法院檢察署檢察官被告陳建榮...   \n\n                                           Situation  \n0  被告廖家詮於民國104年12月9日上午11時許，在臺北市中正區誠品地下街K6樓梯口處（下稱K...  \n1  陳建榮因罹患妄想性思覺失調症，致其辨識行為違法或依其辨識而行為之能力顯著降低，竟意圖為自己不...  ",
      "text/html": "<div>\n<style scoped>\n    .dataframe tbody tr th:only-of-type {\n        vertical-align: middle;\n    }\n\n    .dataframe tbody tr th {\n        vertical-align: top;\n    }\n\n    .dataframe thead th {\n        text-align: right;\n    }\n</style>\n<table border=\"1\" class=\"dataframe\">\n  <thead>\n    <tr style=\"text-align: right;\">\n      <th></th>\n      <th>id</th>\n      <th>court</th>\n      <th>date</th>\n      <th>no</th>\n      <th>sys</th>\n      <th>reason</th>\n      <th>type</th>\n      <th>mainText</th>\n      <th>judgement</th>\n      <th>Situation</th>\n    </tr>\n  </thead>\n  <tbody>\n    <tr>\n      <th>0</th>\n      <td>1835</td>\n      <td>臺灣臺北地方法院</td>\n      <td>2016-12-13T00:00:00+08:00</td>\n      <td>105,侵訴,63</td>\n      <td>刑事</td>\n      <td>妨害性自主</td>\n      <td>判決</td>\n      <td>廖家詮無罪。</td>\n      <td>臺灣臺北地方法院刑事判決105年度侵訴字第63號公訴人臺灣臺北地方法院檢察署檢察官被告廖家詮...</td>\n      <td>被告廖家詮於民國104年12月9日上午11時許，在臺北市中正區誠品地下街K6樓梯口處（下稱K...</td>\n    </tr>\n    <tr>\n      <th>1</th>\n      <td>4243</td>\n      <td>臺灣臺中地方法院</td>\n      <td>2017-03-16T00:00:00+08:00</td>\n      <td>105,訴,468</td>\n      <td>刑事</td>\n      <td>搶奪</td>\n      <td>判決</td>\n      <td>陳建榮犯搶奪罪，累犯，處有期徒刑陸月，如易科罰金，以新臺幣壹仟元折算壹日，並應於刑之執行前，...</td>\n      <td>臺灣臺中地方法院刑事判決105年度訴字第468號公訴人臺灣臺中地方法院檢察署檢察官被告陳建榮...</td>\n      <td>陳建榮因罹患妄想性思覺失調症，致其辨識行為違法或依其辨識而行為之能力顯著降低，竟意圖為自己不...</td>\n    </tr>\n  </tbody>\n</table>\n</div>"
     },
     "execution_count": 10,
     "metadata": {},
     "output_type": "execute_result"
    }
   ],
   "source": [
    "test.head(2)"
   ],
   "metadata": {
    "collapsed": false,
    "pycharm": {
     "name": "#%%\n"
    }
   }
  },
  {
   "cell_type": "code",
   "execution_count": 11,
   "outputs": [
    {
     "data": {
      "text/plain": "     id     court                       date         no sys reason type  \\\n3   947  臺灣新北地方法院  2014-09-02T00:00:00+08:00  103,訴,716  刑事     搶奪   判決   \n7  7016  臺灣臺北地方法院  2018-05-17T00:00:00+08:00   107,訴,77  刑事   毒品危害   判決   \n\n                                            mainText  \\\n3               黃明庭共同意圖為自己不法之所有，而搶奪他人之動產，累犯，處有期徒刑玖月。   \n7  林慶緯販賣第三級毒品，未遂，處有期徒刑壹年。扣案如附表編號1所示之物均沒收銷毀；扣案如附表編...   \n\n                                           judgement  \\\n3  臺灣新北地方法院刑事判決103年度訴字第716號公訴人臺灣新北地方法院檢察署檢察官被告黃明庭...   \n7  臺灣臺北地方法院刑事判決107年度訴字第77號公訴人臺灣臺北地方法院檢察署檢察官被告林慶緯指...   \n\n                                           Situation  \n3  詎仍不知悔改，與許丙宗（另由臺灣新北地方法院檢察署通緝中）基於意圖為自己不法所有之搶奪犯意聯...  \n7  林慶緯明知愷他命、4-甲基甲基卡西酮、5-甲氧基-N-甲基-N-異丙基色胺皆係毒品危害防制條...  ",
      "text/html": "<div>\n<style scoped>\n    .dataframe tbody tr th:only-of-type {\n        vertical-align: middle;\n    }\n\n    .dataframe tbody tr th {\n        vertical-align: top;\n    }\n\n    .dataframe thead th {\n        text-align: right;\n    }\n</style>\n<table border=\"1\" class=\"dataframe\">\n  <thead>\n    <tr style=\"text-align: right;\">\n      <th></th>\n      <th>id</th>\n      <th>court</th>\n      <th>date</th>\n      <th>no</th>\n      <th>sys</th>\n      <th>reason</th>\n      <th>type</th>\n      <th>mainText</th>\n      <th>judgement</th>\n      <th>Situation</th>\n    </tr>\n  </thead>\n  <tbody>\n    <tr>\n      <th>3</th>\n      <td>947</td>\n      <td>臺灣新北地方法院</td>\n      <td>2014-09-02T00:00:00+08:00</td>\n      <td>103,訴,716</td>\n      <td>刑事</td>\n      <td>搶奪</td>\n      <td>判決</td>\n      <td>黃明庭共同意圖為自己不法之所有，而搶奪他人之動產，累犯，處有期徒刑玖月。</td>\n      <td>臺灣新北地方法院刑事判決103年度訴字第716號公訴人臺灣新北地方法院檢察署檢察官被告黃明庭...</td>\n      <td>詎仍不知悔改，與許丙宗（另由臺灣新北地方法院檢察署通緝中）基於意圖為自己不法所有之搶奪犯意聯...</td>\n    </tr>\n    <tr>\n      <th>7</th>\n      <td>7016</td>\n      <td>臺灣臺北地方法院</td>\n      <td>2018-05-17T00:00:00+08:00</td>\n      <td>107,訴,77</td>\n      <td>刑事</td>\n      <td>毒品危害</td>\n      <td>判決</td>\n      <td>林慶緯販賣第三級毒品，未遂，處有期徒刑壹年。扣案如附表編號1所示之物均沒收銷毀；扣案如附表編...</td>\n      <td>臺灣臺北地方法院刑事判決107年度訴字第77號公訴人臺灣臺北地方法院檢察署檢察官被告林慶緯指...</td>\n      <td>林慶緯明知愷他命、4-甲基甲基卡西酮、5-甲氧基-N-甲基-N-異丙基色胺皆係毒品危害防制條...</td>\n    </tr>\n  </tbody>\n</table>\n</div>"
     },
     "execution_count": 11,
     "metadata": {},
     "output_type": "execute_result"
    }
   ],
   "source": [
    "test2 = test[test['Situation'].str.len() > 512]\n",
    "test2.head(2)\n",
    "#test2.to_csv('J://Legal_Judgment//test513.csv', index=0) "
   ],
   "metadata": {
    "collapsed": false,
    "pycharm": {
     "name": "#%%\n"
    }
   }
  },
  {
   "cell_type": "code",
   "execution_count": 12,
   "outputs": [],
   "source": [
    "if (train_onum == train_num):\n",
    "    tmp = df[~(( df['no']).isin((test['no'])))]\n",
    "    tmp = tmp.dropna()\n",
    "    tmp.count()"
   ],
   "metadata": {
    "collapsed": false,
    "pycharm": {
     "name": "#%%\n"
    }
   }
  },
  {
   "cell_type": "code",
   "execution_count": 13,
   "outputs": [],
   "source": [
    "if (train_onum != train_num):\n",
    "\n",
    "    tmp = pd.read_csv('.//QA_Test1//HBert//'+ dir + '//Train'+ str_train_onum + '.csv')\n",
    "    tmp = tmp.dropna()\n",
    "    tmp.head(2)\n"
   ],
   "metadata": {
    "collapsed": false,
    "pycharm": {
     "name": "#%%\n"
    }
   }
  },
  {
   "cell_type": "code",
   "execution_count": 14,
   "outputs": [
    {
     "data": {
      "text/plain": "        court                       date          no sys reason type  \\\n540  臺灣臺中地方法院  2017-11-17T00:00:00+08:00   105,易,971  刑事   妨害名譽   判決   \n280  臺灣臺南地方法院  2011-10-19T00:00:00+08:00  100,交訴,120  刑事   公共危險   判決   \n\n                              mainText  \\\n540                             李詩涵無罪。   \n280  陳鵬宇駕駛動力交通工具肇事，致人受傷而逃逸，累犯，處有期徒刑柒月。   \n\n                                             judgement  \\\n540  臺灣臺中地方法院刑事判決105年度易字第971號聲請人臺灣臺中地方法院檢察署檢察官被告李詩涵...   \n280  臺灣臺南地方法院刑事判決100年度交訴字第120號公訴人臺灣臺南地方法院檢察署檢察官被告陳鵬...   \n\n                                             Situation  \n540  被告李詩涵於民國104年9月24日，曾以「JessicaLee」帳號登入臉書社群網站，加入告...  \n280  詎陳鵬宇猶不知悔悟，於99年8月25目下午6時51分許，駕駛車牌號碼5A-4089號之自小客...  ",
      "text/html": "<div>\n<style scoped>\n    .dataframe tbody tr th:only-of-type {\n        vertical-align: middle;\n    }\n\n    .dataframe tbody tr th {\n        vertical-align: top;\n    }\n\n    .dataframe thead th {\n        text-align: right;\n    }\n</style>\n<table border=\"1\" class=\"dataframe\">\n  <thead>\n    <tr style=\"text-align: right;\">\n      <th></th>\n      <th>court</th>\n      <th>date</th>\n      <th>no</th>\n      <th>sys</th>\n      <th>reason</th>\n      <th>type</th>\n      <th>mainText</th>\n      <th>judgement</th>\n      <th>Situation</th>\n    </tr>\n  </thead>\n  <tbody>\n    <tr>\n      <th>540</th>\n      <td>臺灣臺中地方法院</td>\n      <td>2017-11-17T00:00:00+08:00</td>\n      <td>105,易,971</td>\n      <td>刑事</td>\n      <td>妨害名譽</td>\n      <td>判決</td>\n      <td>李詩涵無罪。</td>\n      <td>臺灣臺中地方法院刑事判決105年度易字第971號聲請人臺灣臺中地方法院檢察署檢察官被告李詩涵...</td>\n      <td>被告李詩涵於民國104年9月24日，曾以「JessicaLee」帳號登入臉書社群網站，加入告...</td>\n    </tr>\n    <tr>\n      <th>280</th>\n      <td>臺灣臺南地方法院</td>\n      <td>2011-10-19T00:00:00+08:00</td>\n      <td>100,交訴,120</td>\n      <td>刑事</td>\n      <td>公共危險</td>\n      <td>判決</td>\n      <td>陳鵬宇駕駛動力交通工具肇事，致人受傷而逃逸，累犯，處有期徒刑柒月。</td>\n      <td>臺灣臺南地方法院刑事判決100年度交訴字第120號公訴人臺灣臺南地方法院檢察署檢察官被告陳鵬...</td>\n      <td>詎陳鵬宇猶不知悔悟，於99年8月25目下午6時51分許，駕駛車牌號碼5A-4089號之自小客...</td>\n    </tr>\n  </tbody>\n</table>\n</div>"
     },
     "execution_count": 14,
     "metadata": {},
     "output_type": "execute_result"
    }
   ],
   "source": [
    "##拆分df\n",
    "tmpnum = train_num\n",
    "df1=tmp.sample(n=tmpnum)\n",
    "df1.head(2)"
   ],
   "metadata": {
    "collapsed": false,
    "pycharm": {
     "name": "#%%\n"
    }
   }
  },
  {
   "cell_type": "code",
   "execution_count": 15,
   "outputs": [
    {
     "data": {
      "text/plain": "court        100\ndate         100\nno           100\nsys          100\nreason       100\ntype         100\nmainText     100\njudgement    100\nSituation    100\ndtype: int64"
     },
     "execution_count": 15,
     "metadata": {},
     "output_type": "execute_result"
    }
   ],
   "source": [
    "df1.count()"
   ],
   "metadata": {
    "collapsed": false,
    "pycharm": {
     "name": "#%%\n"
    }
   }
  },
  {
   "cell_type": "code",
   "execution_count": 16,
   "outputs": [],
   "source": [
    "df1.to_csv('.//QA_Test1//HBert//'+ dir + '//Train'+ str_train_num + '.csv', index=0)"
   ],
   "metadata": {
    "collapsed": false,
    "pycharm": {
     "name": "#%%\n"
    }
   }
  },
  {
   "cell_type": "code",
   "execution_count": 17,
   "outputs": [
    {
     "data": {
      "text/plain": "court        5\ndate         5\nno           5\nsys          5\nreason       5\ntype         5\nmainText     5\njudgement    5\nSituation    5\ndtype: int64"
     },
     "execution_count": 17,
     "metadata": {},
     "output_type": "execute_result"
    }
   ],
   "source": [
    "df1[df1['Situation'].str.len() > 512].count()"
   ],
   "metadata": {
    "collapsed": false,
    "pycharm": {
     "name": "#%%\n"
    }
   }
  },
  {
   "cell_type": "code",
   "execution_count": 18,
   "outputs": [],
   "source": [
    "#df2=test\n",
    "#df2.head(2)"
   ],
   "metadata": {
    "collapsed": false,
    "pycharm": {
     "name": "#%%\n"
    }
   }
  },
  {
   "cell_type": "code",
   "execution_count": 19,
   "outputs": [],
   "source": [
    "class Data(object):\n",
    "    def __init__(self):\n",
    "        self.paragraphs = []\n",
    "        self.id = \"0\"\n",
    "        self.title = \"\"\n",
    "\n",
    "class Djson(object):\n",
    "    def __init__(self):\n",
    "        self.version = \"v1.0\"\n",
    "        self.data = []\n",
    " "
   ],
   "metadata": {
    "collapsed": false,
    "pycharm": {
     "name": "#%%\n"
    }
   }
  },
  {
   "cell_type": "code",
   "execution_count": 20,
   "outputs": [],
   "source": [
    "djson1 = ''\n",
    "djson1 = Djson()\n",
    "for index, row in df1.iterrows():\n",
    "    try:\n",
    "        if (row.judgement.index(row.Situation) < 0):\n",
    "            print(index)\n",
    "            print(row.no)\n",
    "\n",
    "        d = Data()\n",
    "        d.paragraphs = [{\"id\" : \"TRAIN_\" + str(index),\n",
    "                      #\"context\" : row.reason + \"[SEP]\" + row.judgement,\n",
    "                      \"context\" : row.judgement,\n",
    "                      \"qas\":[{\n",
    "                          \"question\" :\"?\",\n",
    "                          \"id\" : \"TRAIN_\" + str(index) + \"_QUERY_0\",\n",
    "                          \"answers\" :[{\n",
    "                              \"text\" : row.Situation,\n",
    "                              \"answer_start\" : row.judgement.index(row.Situation) #+ len(row.reason + \"[SET]\")\n",
    "                          }]\n",
    "                      }]\n",
    "                    }\n",
    "                    ]\n",
    "        d.id = \"TRAIN_\" + str(index)\n",
    "        d.title = row.no\n",
    "        djson1.data.append(d)\n",
    "    except:\n",
    "        print(index)\n",
    "        print(row.no)"
   ],
   "metadata": {
    "collapsed": false,
    "pycharm": {
     "name": "#%%\n"
    }
   }
  },
  {
   "cell_type": "code",
   "execution_count": 21,
   "outputs": [],
   "source": [
    "y = json.dumps(djson1, default=lambda o: o.__dict__, ensure_ascii=False)"
   ],
   "metadata": {
    "collapsed": false,
    "pycharm": {
     "name": "#%%\n"
    }
   }
  },
  {
   "cell_type": "code",
   "execution_count": 22,
   "outputs": [],
   "source": [
    "with open('./QA_Test1/HBert/'+ dir + '/train_'+ str(train_num) + '.json', 'w', encoding='utf8') as outfile:\n",
    "#with open('./QA_Test1/HBert/dataV3/train_'+ str(train_num) + '_Y.json', 'w', encoding='utf8') as outfile:\n",
    "    json.dump(djson1, outfile, default=lambda o: o.__dict__ , ensure_ascii=False)"
   ],
   "metadata": {
    "collapsed": false,
    "pycharm": {
     "name": "#%%\n"
    }
   }
  },
  {
   "cell_type": "code",
   "execution_count": 23,
   "outputs": [],
   "source": [
    "my_regex = r\"[\\(\\（]([^一二三四五六七八九零十1234567890]{1}[^\\)\\）]+|[一二三四五六七八九零十1234567890]{1}[^\\)\\）]{1,})[\\)\\）]\"\n",
    "\n",
    "df1['judgement'] = df1['judgement'].str.replace(my_regex, \"\")\n",
    "df1['Situation'] = df1['Situation'].str.replace(my_regex, \"\")"
   ],
   "metadata": {
    "collapsed": false,
    "pycharm": {
     "name": "#%%\n"
    }
   }
  },
  {
   "cell_type": "code",
   "execution_count": 24,
   "outputs": [],
   "source": [
    "djson1 = ''\n",
    "djson1 = Djson()\n",
    "for index, row in df1.iterrows():\n",
    "    try:\n",
    "        if (row.judgement.index(row.Situation) < 0):\n",
    "            print(index)\n",
    "            print(row.no)\n",
    "\n",
    "        d = Data()\n",
    "        d.paragraphs = [{\"id\" : \"TRAIN_\" + str(index),\n",
    "                      #\"context\" : row.reason + \"[SEP]\" + row.judgement,\n",
    "                      \"context\" : row.judgement,\n",
    "                      \"qas\":[{\n",
    "                          \"question\" :\"?\",\n",
    "                          \"id\" : \"TRAIN_\" + str(index) + \"_QUERY_0\",\n",
    "                          \"answers\" :[{\n",
    "                              \"text\" : row.Situation,\n",
    "                              \"answer_start\" : row.judgement.index(row.Situation) #+ len(row.reason + \"[SET]\")\n",
    "                          }]\n",
    "                      }]\n",
    "                    }\n",
    "                    ]\n",
    "        d.id = \"TRAIN_\" + str(index)\n",
    "        d.title = row.no\n",
    "        djson1.data.append(d)\n",
    "    except:\n",
    "        print(index)\n",
    "        print(row.no)"
   ],
   "metadata": {
    "collapsed": false,
    "pycharm": {
     "name": "#%%\n"
    }
   }
  },
  {
   "cell_type": "code",
   "execution_count": 25,
   "outputs": [],
   "source": [
    "y = json.dumps(djson1, default=lambda o: o.__dict__, ensure_ascii=False)"
   ],
   "metadata": {
    "collapsed": false,
    "pycharm": {
     "name": "#%%\n"
    }
   }
  },
  {
   "cell_type": "code",
   "execution_count": 26,
   "outputs": [],
   "source": [
    "with open('./QA_Test1/HBert/'+ dir + '/train_'+ str(train_num) + '_X.json', 'w', encoding='utf8') as outfile:\n",
    "#with open('./QA_Test1/HBert/dataV3/train_'+ str(train_num) + '_Y.json', 'w', encoding='utf8') as outfile:\n",
    "    json.dump(djson1, outfile, default=lambda o: o.__dict__ , ensure_ascii=False)"
   ],
   "metadata": {
    "collapsed": false,
    "pycharm": {
     "name": "#%%\n"
    }
   }
  },
  {
   "cell_type": "code",
   "execution_count": 27,
   "outputs": [
    {
     "name": "stdout",
     "output_type": "stream",
     "text": [
      "15\n"
     ]
    }
   ],
   "source": [
    "str = '0000000-0000000'\n",
    "print(len(str))"
   ],
   "metadata": {
    "collapsed": false,
    "pycharm": {
     "name": "#%%\n"
    }
   }
  }
 ],
 "metadata": {
  "kernelspec": {
   "display_name": "Python 3",
   "language": "python",
   "name": "python3"
  },
  "language_info": {
   "codemirror_mode": {
    "name": "ipython",
    "version": 3
   },
   "file_extension": ".py",
   "mimetype": "text/x-python",
   "name": "python",
   "nbconvert_exporter": "python",
   "pygments_lexer": "ipython3",
   "version": "3.6.4"
  }
 },
 "nbformat": 4,
 "nbformat_minor": 2
}