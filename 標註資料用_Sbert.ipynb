{
 "cells": [
  {
   "cell_type": "code",
   "execution_count": 1,
   "metadata": {},
   "outputs": [
    {
     "name": "stdout",
     "output_type": "stream",
     "text": [
      "106,易,1093_.json\n"
     ]
    }
   ],
   "source": [
    "import os, json \n",
    "import pandas as pd \n",
    "import re\n",
    "\n",
    "train_num = 3000\n",
    "\n",
    "path_to_json = 'J:\\Legal_Judgment\\臺灣新北地方法院_改_V2'\n",
    "json_files = [pos_json for pos_json in os.listdir(path_to_json) if pos_json.endswith('.json')] \n",
    "print(json_files[0])"
   ]
  },
  {
   "cell_type": "code",
   "execution_count": 2,
   "metadata": {},
   "outputs": [],
   "source": [
    "with open('J://Legal_Judgment//臺灣新北地方法院_改_V2//'+json_files[0],\"r\",encoding=\"utf-8\") as f:\n",
    "    dt = json.load(f)"
   ]
  },
  {
   "cell_type": "code",
   "execution_count": 3,
   "metadata": {},
   "outputs": [],
   "source": [
    "dic = {\n",
    "    \"id\": 0,\n",
    "    \"court\": [dt[\"court\"]], \n",
    "    \"date\": [dt[\"date\"]],\n",
    "    \"no\": [dt[\"no\"]],\n",
    "    \"sys\": [dt[\"sys\"]],\n",
    "    \"reason\": [dt[\"reason\"]],\n",
    "    \"type\": [dt[\"type\"]],\n",
    "    \"mainText\": [dt[\"mainText\"]],\n",
    "    \"judgement\": [dt[\"judgement\"]],\n",
    "    #\"judgement_SIT\": [dt[\"judgement_SIT\"]],\n",
    "    \"Situation\": [dt[\"Situation\"]]\n",
    "}\n",
    "df = pd.DataFrame(dic)"
   ]
  },
  {
   "cell_type": "code",
   "execution_count": 4,
   "outputs": [
    {
     "name": "stdout",
     "output_type": "stream",
     "text": [
      "100,中交簡,1002\n",
      "100,中交簡,1106\n",
      "100,中簡,119\n",
      "100,中簡,1552\n",
      "100,中簡,1856\n",
      "100,中簡,2698\n",
      "100,中簡,2924\n",
      "100,侵訴,22\n",
      "100,侵訴,63\n",
      "100,簡,372\n",
      "100,簡,458\n",
      "100,訴,370\n",
      "101,侵訴,1\n",
      "101,侵訴,22\n",
      "101,智訴,9\n",
      "103,智訴,4\n",
      "104,原訴,29\n",
      "105,中簡,1076\n",
      "105,中簡,1434\n",
      "105,中簡,1810\n",
      "105,侵簡,1\n",
      "1000\n",
      "105,侵訴,192\n",
      "105,侵訴,26\n",
      "105,原侵訴,7\n",
      "105,原簡,10\n",
      "105,原重訴,3\n",
      "105,審易,1143\n",
      "105,審易,3360\n",
      "105,審易,3746\n",
      "105,審易,736\n",
      "105,審簡,219\n",
      "105,審簡上緝,2\n",
      "105,易,134\n",
      "105,易,1532\n",
      "105,易,264\n",
      "105,易,308\n",
      "105,易,376\n",
      "2000\n",
      "105,易,915\n",
      "105,易,980\n",
      "105,智易,27\n",
      "105,智簡,20\n",
      "105,智訴,2\n",
      "105,智訴緝,1\n",
      "105,簡,151\n",
      "105,簡,1724\n",
      "105,簡,198\n",
      "105,簡上,36\n",
      "105,訴,519\n",
      "105,訴緝,43\n",
      "105,訴緝,4\n",
      "106,審易,2737\n",
      "106,審易緝,7\n",
      "106,審簡上,177\n",
      "106,審訴,1791\n",
      "106,審訴,952\n",
      "106,易,1367\n",
      "106,易,1659\n",
      "3000\n",
      "106,易,2241\n",
      "106,易,739\n",
      "106,智簡,31\n",
      "106,訴,1049\n",
      "106,訴,1076\n",
      "106,訴,652\n",
      "106,訴,686\n",
      "106,訴緝,72\n",
      "107,審簡上,30\n",
      "107,審簡上,48\n",
      "107,審訴緝,11\n",
      "107,審訴緝,12\n",
      "107,審訴緝,1\n",
      "107,審訴緝,48\n",
      "4000\n",
      "107,訴,394\n",
      "95,矚重訴,3\n"
     ]
    }
   ],
   "source": [
    "my_regex = \"\\（.*?\\）|\\(([^\\)0-9零一二三四五六七八九十]?|[^\\).]{2,})\\)\"\n",
    "\n",
    "#spe = '丙○○意圖為自己不法之所有，基於搶奪之犯意，先後為下列搶奪行為：(一)於民國105年10月8日晚間7時20分許，騎乘登記於不知情之王介平名下之車牌號碼000-000號普通重型機車，行經高雄市○○區○○○路000號前時，將口罩脫下遮掩車牌，自後靠近步行在人行道上之甲○○，趁甲○○不及防備之際，以左手徒手掠取甲○○右手持有之背包1只（內有現金新臺幣【下同】9500元、索尼牌ZR綠色及Xperformance金色行動電話共2具【IMEI：000000000000000、000000000000000號】、長夾1個、信用卡及金融卡共5張、國民身分證2張、國民健康保險卡1張、普通重型機車駕照1張、識別證2張等物）得手後逃逸。嗣因丙○○將背包內之現金取走後，將背包棄置在高雄市鳳山區武營路某處，再經民眾在高雄市鳳山區衛武營附近拾獲上開背包（內有長夾1個、國民身分證2張、國民健康保險卡1張、信用卡3張、金融卡1張等物），遂送交警察機關發還甲○○領回。(二)於同年10月10日晚間11時5分許，騎乘向不知情之劉伊恩借用之車牌號碼000-0000號普通重型機車，行經高雄市○○區○○○路000號前時，使用口罩遮掩車牌，自後靠近步行在人行道上之少年乙○○（89年生，基於兒童及少年福利與權益保障法第69條第2項規定不得揭露足以識別少年身分之資訊，年籍詳卷），趁乙○○不及防備之際，以左手徒手掠取乙○○右手持有之背包1只（內有皮夾1只、現金3萬2000元、提款卡1張、國民身分證1張、國民健康保險卡1張等物）得手後逃逸，並將現金取出，其餘物品則丟棄。嗣為警循線於105年10月16日凌晨2時許，在高雄市○○區○○路000巷00號前查獲，並扣得現金2600元。'\n",
    "show = 0\n",
    "cnt = 0\n",
    "for x in range(1,len(json_files)):\n",
    "    with open('J://Legal_Judgment//臺灣新北地方法院_改_V2//'+json_files[x],\"r\",encoding=\"utf-8\") as f:\n",
    "        dt = json.load(f)\n",
    "\n",
    "    try:\n",
    "        if (str(dt[\"judgement\"]).index(str(dt[\"Situation\"])) < 0):\n",
    "            print(\"error1:\" + dt[\"no\"])\n",
    "            continue\n",
    "\n",
    "\n",
    "        new = pd.DataFrame({\n",
    "        \"id\" : x,\n",
    "        \"court\": [dt[\"court\"]], \n",
    "        \"date\": [dt[\"date\"]],\n",
    "        \"no\": [dt[\"no\"]],\n",
    "        \"sys\": [dt[\"sys\"]],\n",
    "        \"reason\": [dt[\"reason\"]],\n",
    "        \"type\": [dt[\"type\"]],\n",
    "        \"mainText\": [dt[\"mainText\"]],\n",
    "        \"judgement\": [dt[\"judgement\"]],\n",
    "        #\"judgement_SIT\": [dt[\"judgement_SIT\"]],\n",
    "        \"Situation\": [dt[\"Situation\"]]\n",
    "        })\n",
    "\n",
    "        bol = 0\n",
    "        show = 0\n",
    "        for index, row in new.iterrows():\n",
    "            row.judgement = re.sub(my_regex, \"\", str(row.judgement).replace(my_regex, \"\"))\n",
    "            row.Situation = re.sub(my_regex, \"\", str(row.Situation).replace(my_regex, \"\"))\n",
    "            if (len(row.Situation) > 508):\n",
    "                bol = 1\n",
    "            elif (row.judgement.index(row.Situation) < 0):\n",
    "                bol = 1\n",
    "\n",
    "        if (bol == 1):\n",
    "            continue\n",
    "\n",
    "        df = df.append(new)\n",
    "        cnt += 1\n",
    "        if (cnt % 1000 == 0):\n",
    "            print(cnt)\n",
    "\n",
    "    except:\n",
    "        print(dt[\"no\"])"
   ],
   "metadata": {
    "collapsed": false,
    "pycharm": {
     "name": "#%%\n"
    }
   }
  },
  {
   "cell_type": "code",
   "execution_count": 5,
   "outputs": [
    {
     "data": {
      "text/plain": "id           4077\ncourt        4077\ndate         4077\nno           4077\nsys          4077\nreason       4077\ntype         4077\nmainText     4077\njudgement    4077\nSituation    4077\ndtype: int64"
     },
     "execution_count": 5,
     "metadata": {},
     "output_type": "execute_result"
    }
   ],
   "source": [
    "df.count()"
   ],
   "metadata": {
    "collapsed": false,
    "pycharm": {
     "name": "#%%\n"
    }
   }
  },
  {
   "cell_type": "code",
   "execution_count": 6,
   "metadata": {},
   "outputs": [],
   "source": [
    "df.to_csv('J://Legal_Judgment//Result_Sbert.csv', index=0)"
   ]
  },
  {
   "cell_type": "code",
   "execution_count": 7,
   "outputs": [
    {
     "data": {
      "text/plain": "       court                       date           no sys reason type  \\\nid                                                                     \n0   臺灣桃園地方法院  2018-04-18T00:00:00+08:00   106,易,1093  刑事   妨害公務   判決   \n2   臺灣臺中地方法院  2011-01-25T00:00:00+08:00  100,中交簡,100  刑事   公共危險   判決   \n\n                                             mainText  \\\nid                                                      \n0             邱建豪犯妨害公務執行罪，累犯，處拘役拾日，如易科罰金，以新臺幣壹仟元折算壹日。   \n2   林耀明服用酒類，不能安全駕駛動力交通工具而駕駛，處拘役伍拾伍日，如易科罰金，以新臺幣壹仟元折...   \n\n                                            judgement  \\\nid                                                      \n0   臺灣桃園地方法院刑事判決106年度易字第1093號公訴人臺灣桃園地方法院檢察署檢察官被告邱建...   \n2   臺灣臺中地方法院刑事簡易判決100年度中交簡字第100號聲請人臺灣臺中地方法院檢察署檢察官被...   \n\n                                            Situation  \nid                                                     \n0   邱建豪於民國106年5月1日下午5時15分許，在桃園市○○區○○路000號桃園市政府警察局桃...  \n2   林耀明於民國99年10月22日下午4時許起至5時許止，在臺中市○○區○○路與豐樂路交岔路口附...  ",
      "text/html": "<div>\n<style scoped>\n    .dataframe tbody tr th:only-of-type {\n        vertical-align: middle;\n    }\n\n    .dataframe tbody tr th {\n        vertical-align: top;\n    }\n\n    .dataframe thead th {\n        text-align: right;\n    }\n</style>\n<table border=\"1\" class=\"dataframe\">\n  <thead>\n    <tr style=\"text-align: right;\">\n      <th></th>\n      <th>court</th>\n      <th>date</th>\n      <th>no</th>\n      <th>sys</th>\n      <th>reason</th>\n      <th>type</th>\n      <th>mainText</th>\n      <th>judgement</th>\n      <th>Situation</th>\n    </tr>\n    <tr>\n      <th>id</th>\n      <th></th>\n      <th></th>\n      <th></th>\n      <th></th>\n      <th></th>\n      <th></th>\n      <th></th>\n      <th></th>\n      <th></th>\n    </tr>\n  </thead>\n  <tbody>\n    <tr>\n      <td>0</td>\n      <td>臺灣桃園地方法院</td>\n      <td>2018-04-18T00:00:00+08:00</td>\n      <td>106,易,1093</td>\n      <td>刑事</td>\n      <td>妨害公務</td>\n      <td>判決</td>\n      <td>邱建豪犯妨害公務執行罪，累犯，處拘役拾日，如易科罰金，以新臺幣壹仟元折算壹日。</td>\n      <td>臺灣桃園地方法院刑事判決106年度易字第1093號公訴人臺灣桃園地方法院檢察署檢察官被告邱建...</td>\n      <td>邱建豪於民國106年5月1日下午5時15分許，在桃園市○○區○○路000號桃園市政府警察局桃...</td>\n    </tr>\n    <tr>\n      <td>2</td>\n      <td>臺灣臺中地方法院</td>\n      <td>2011-01-25T00:00:00+08:00</td>\n      <td>100,中交簡,100</td>\n      <td>刑事</td>\n      <td>公共危險</td>\n      <td>判決</td>\n      <td>林耀明服用酒類，不能安全駕駛動力交通工具而駕駛，處拘役伍拾伍日，如易科罰金，以新臺幣壹仟元折...</td>\n      <td>臺灣臺中地方法院刑事簡易判決100年度中交簡字第100號聲請人臺灣臺中地方法院檢察署檢察官被...</td>\n      <td>林耀明於民國99年10月22日下午4時許起至5時許止，在臺中市○○區○○路與豐樂路交岔路口附...</td>\n    </tr>\n  </tbody>\n</table>\n</div>"
     },
     "execution_count": 7,
     "metadata": {},
     "output_type": "execute_result"
    }
   ],
   "source": [
    "df = pd.read_csv('J://Legal_Judgment//Result_Sbert.csv', index_col=0)\n",
    "test = pd.read_csv('.//QA_Test1//HBert//dataR5//Test500.csv')\n",
    "df.head(2)"
   ],
   "metadata": {
    "collapsed": false,
    "pycharm": {
     "name": "#%%\n"
    }
   }
  },
  {
   "cell_type": "code",
   "execution_count": 8,
   "outputs": [
    {
     "data": {
      "text/plain": "Empty DataFrame\nColumns: [court, date, no, sys, reason, type, mainText, judgement, Situation]\nIndex: []",
      "text/html": "<div>\n<style scoped>\n    .dataframe tbody tr th:only-of-type {\n        vertical-align: middle;\n    }\n\n    .dataframe tbody tr th {\n        vertical-align: top;\n    }\n\n    .dataframe thead th {\n        text-align: right;\n    }\n</style>\n<table border=\"1\" class=\"dataframe\">\n  <thead>\n    <tr style=\"text-align: right;\">\n      <th></th>\n      <th>court</th>\n      <th>date</th>\n      <th>no</th>\n      <th>sys</th>\n      <th>reason</th>\n      <th>type</th>\n      <th>mainText</th>\n      <th>judgement</th>\n      <th>Situation</th>\n    </tr>\n    <tr>\n      <th>id</th>\n      <th></th>\n      <th></th>\n      <th></th>\n      <th></th>\n      <th></th>\n      <th></th>\n      <th></th>\n      <th></th>\n      <th></th>\n    </tr>\n  </thead>\n  <tbody>\n  </tbody>\n</table>\n</div>"
     },
     "execution_count": 8,
     "metadata": {},
     "output_type": "execute_result"
    }
   ],
   "source": [
    "df[df['Situation'].str.len() > 512]"
   ],
   "metadata": {
    "collapsed": false,
    "pycharm": {
     "name": "#%%\n"
    }
   }
  },
  {
   "cell_type": "code",
   "execution_count": 9,
   "outputs": [],
   "source": [
    "df['reason'] = df['reason'].str.replace('等','')\n",
    "df['reason'] = df['reason'].str.replace('罪','')\n",
    "df['reason'] = df['reason'].str.replace(\"條例\",\"\")\n",
    "df['reason'] = df['reason'].str.replace(\"防制\",\"\")\n",
    "df['reason'] = df['reason'].str.replace(\"管制\",\"\")\n",
    "df['reason'] = df['reason'].str.replace(\"違反\",\"\")\n",
    "df['reason'] = df['reason'].str.replace(\"違法著作權\",\"著作權法\")\n",
    "\n",
    "#test['judgement'] = test['judgement'].str.replace(my_regex, \"\")\n",
    "#test['Situation'] = test['Situation'].str.replace(my_regex, \"\")"
   ],
   "metadata": {
    "collapsed": false,
    "pycharm": {
     "name": "#%%\n"
    }
   }
  },
  {
   "cell_type": "code",
   "execution_count": 10,
   "outputs": [
    {
     "data": {
      "text/plain": "Empty DataFrame\nColumns: [court, date, no, sys, reason, type, mainText, judgement, Situation]\nIndex: []",
      "text/html": "<div>\n<style scoped>\n    .dataframe tbody tr th:only-of-type {\n        vertical-align: middle;\n    }\n\n    .dataframe tbody tr th {\n        vertical-align: top;\n    }\n\n    .dataframe thead th {\n        text-align: right;\n    }\n</style>\n<table border=\"1\" class=\"dataframe\">\n  <thead>\n    <tr style=\"text-align: right;\">\n      <th></th>\n      <th>court</th>\n      <th>date</th>\n      <th>no</th>\n      <th>sys</th>\n      <th>reason</th>\n      <th>type</th>\n      <th>mainText</th>\n      <th>judgement</th>\n      <th>Situation</th>\n    </tr>\n    <tr>\n      <th>id</th>\n      <th></th>\n      <th></th>\n      <th></th>\n      <th></th>\n      <th></th>\n      <th></th>\n      <th></th>\n      <th></th>\n      <th></th>\n    </tr>\n  </thead>\n  <tbody>\n  </tbody>\n</table>\n</div>"
     },
     "execution_count": 10,
     "metadata": {},
     "output_type": "execute_result"
    }
   ],
   "source": [
    "df[df['Situation'].str.len() > 512]"
   ],
   "metadata": {
    "collapsed": false,
    "pycharm": {
     "name": "#%%\n"
    }
   }
  },
  {
   "cell_type": "code",
   "execution_count": 11,
   "outputs": [
    {
     "data": {
      "text/plain": "公共危險      343\n毀損        333\n妨害公務      319\n妨害名譽      299\n妨害自由      263\n傷害        239\n侵占        224\n過失傷害      213\n搶奪        205\n竊盜        194\n妨害風化      179\n著作權法      166\n妨害性自主     162\n偽造文書      154\n強盜        127\n詐欺        126\n毒品危害       68\n毀棄損壞       36\n過失致死        7\n賭博          5\n槍砲彈藥刀械      4\n貪污          4\n殺人未遂        3\n醫師法         3\n藥事法         2\n偽證          1\n商標法         1\n替代役實施       1\n殺人          1\n恐嚇          1\nName: reason, dtype: int64"
     },
     "execution_count": 11,
     "metadata": {},
     "output_type": "execute_result"
    }
   ],
   "source": [
    "df.loc[:,'reason'].value_counts()"
   ],
   "metadata": {
    "collapsed": false,
    "pycharm": {
     "name": "#%%\n"
    }
   }
  },
  {
   "cell_type": "code",
   "execution_count": 12,
   "outputs": [
    {
     "data": {
      "text/plain": "     id     court                       date          no sys reason type  \\\n0  2095  臺灣高雄地方法院  2016-11-30T00:00:00+08:00    105,易,50  刑事   妨害公務   判決   \n1  2872  臺灣臺南地方法院  2017-05-10T00:00:00+08:00  106,交易,262  刑事   公共危險   判決   \n\n                                           mainText  \\\n0           楊豐光犯侮辱公務員罪，累犯，處拘役陸拾日，如易科罰金，以新臺幣壹仟元折算壹日。   \n1  尤宏展駕駛動力交通工具而有吐氣所含酒精濃度達每公升零點二五毫克以上之情形，累犯，處有期徒刑捌月。   \n\n                                           judgement  \\\n0  臺灣高雄地方法院刑事判決105年度易字第50號公訴人臺灣高雄地方法院檢察署檢察官被告楊豐光選...   \n1  臺灣臺南地方法院刑事判決106年度交易字第262號公訴人臺灣臺南地方法院檢察署檢察官被告尤宏...   \n\n                                           Situation  \n0  楊豐光、林佳蓉均係「中央公園護樹護地聯盟」成員，渠等認高雄市政府在中央公園內進行之「李科永紀...  \n1  詎其仍不知悔改，明知飲酒過量將使操控動力交通工具之能力降低，易生交通事故，復於106年2月1...  ",
      "text/html": "<div>\n<style scoped>\n    .dataframe tbody tr th:only-of-type {\n        vertical-align: middle;\n    }\n\n    .dataframe tbody tr th {\n        vertical-align: top;\n    }\n\n    .dataframe thead th {\n        text-align: right;\n    }\n</style>\n<table border=\"1\" class=\"dataframe\">\n  <thead>\n    <tr style=\"text-align: right;\">\n      <th></th>\n      <th>id</th>\n      <th>court</th>\n      <th>date</th>\n      <th>no</th>\n      <th>sys</th>\n      <th>reason</th>\n      <th>type</th>\n      <th>mainText</th>\n      <th>judgement</th>\n      <th>Situation</th>\n    </tr>\n  </thead>\n  <tbody>\n    <tr>\n      <td>0</td>\n      <td>2095</td>\n      <td>臺灣高雄地方法院</td>\n      <td>2016-11-30T00:00:00+08:00</td>\n      <td>105,易,50</td>\n      <td>刑事</td>\n      <td>妨害公務</td>\n      <td>判決</td>\n      <td>楊豐光犯侮辱公務員罪，累犯，處拘役陸拾日，如易科罰金，以新臺幣壹仟元折算壹日。</td>\n      <td>臺灣高雄地方法院刑事判決105年度易字第50號公訴人臺灣高雄地方法院檢察署檢察官被告楊豐光選...</td>\n      <td>楊豐光、林佳蓉均係「中央公園護樹護地聯盟」成員，渠等認高雄市政府在中央公園內進行之「李科永紀...</td>\n    </tr>\n    <tr>\n      <td>1</td>\n      <td>2872</td>\n      <td>臺灣臺南地方法院</td>\n      <td>2017-05-10T00:00:00+08:00</td>\n      <td>106,交易,262</td>\n      <td>刑事</td>\n      <td>公共危險</td>\n      <td>判決</td>\n      <td>尤宏展駕駛動力交通工具而有吐氣所含酒精濃度達每公升零點二五毫克以上之情形，累犯，處有期徒刑捌月。</td>\n      <td>臺灣臺南地方法院刑事判決106年度交易字第262號公訴人臺灣臺南地方法院檢察署檢察官被告尤宏...</td>\n      <td>詎其仍不知悔改，明知飲酒過量將使操控動力交通工具之能力降低，易生交通事故，復於106年2月1...</td>\n    </tr>\n  </tbody>\n</table>\n</div>"
     },
     "execution_count": 12,
     "metadata": {},
     "output_type": "execute_result"
    }
   ],
   "source": [
    "test.head(2)"
   ],
   "metadata": {
    "collapsed": false,
    "pycharm": {
     "name": "#%%\n"
    }
   }
  },
  {
   "cell_type": "code",
   "execution_count": 13,
   "outputs": [
    {
     "data": {
      "text/plain": "Empty DataFrame\nColumns: [id, court, date, no, sys, reason, type, mainText, judgement, Situation]\nIndex: []",
      "text/html": "<div>\n<style scoped>\n    .dataframe tbody tr th:only-of-type {\n        vertical-align: middle;\n    }\n\n    .dataframe tbody tr th {\n        vertical-align: top;\n    }\n\n    .dataframe thead th {\n        text-align: right;\n    }\n</style>\n<table border=\"1\" class=\"dataframe\">\n  <thead>\n    <tr style=\"text-align: right;\">\n      <th></th>\n      <th>id</th>\n      <th>court</th>\n      <th>date</th>\n      <th>no</th>\n      <th>sys</th>\n      <th>reason</th>\n      <th>type</th>\n      <th>mainText</th>\n      <th>judgement</th>\n      <th>Situation</th>\n    </tr>\n  </thead>\n  <tbody>\n  </tbody>\n</table>\n</div>"
     },
     "execution_count": 13,
     "metadata": {},
     "output_type": "execute_result"
    }
   ],
   "source": [
    "test2 = test[test['Situation'].str.len() > 512]\n",
    "test2.head(2)\n",
    "#test2.to_csv('J://Legal_Judgment//test513.csv', index=0) "
   ],
   "metadata": {
    "collapsed": false,
    "pycharm": {
     "name": "#%%\n"
    }
   }
  },
  {
   "cell_type": "code",
   "execution_count": 14,
   "outputs": [
    {
     "data": {
      "text/plain": "court        3131\ndate         3131\nno           3131\nsys          3131\nreason       3131\ntype         3131\nmainText     3131\njudgement    3131\nSituation    3131\ndtype: int64"
     },
     "execution_count": 14,
     "metadata": {},
     "output_type": "execute_result"
    }
   ],
   "source": [
    "tmp = df[~df['no'].isin(test['no'])]\n",
    "tmp = tmp.dropna()\n",
    "tmp.count()"
   ],
   "metadata": {
    "collapsed": false,
    "pycharm": {
     "name": "#%%\n"
    }
   }
  },
  {
   "cell_type": "code",
   "execution_count": 14,
   "outputs": [],
   "source": [],
   "metadata": {
    "collapsed": false,
    "pycharm": {
     "name": "#%%\n"
    }
   }
  },
  {
   "cell_type": "code",
   "execution_count": 15,
   "outputs": [
    {
     "data": {
      "text/plain": "         court                       date           no sys reason type  \\\nid                                                                       \n1480  臺灣臺中地方法院  2017-02-16T00:00:00+08:00  105,審易,3285  刑事     傷害   判決   \n777   臺灣桃園地方法院  2016-09-12T00:00:00+08:00   105,交易,195  刑事   過失傷害   判決   \n\n      mainText                                          judgement  \\\nid                                                                  \n1480  本件公訴不受理。  臺灣臺中地方法院刑事判決105年度審易字第3285號公訴人臺灣臺中地方法院檢察署檢察官被告楊...   \n777   本件公訴不受理。  臺灣桃園地方法院刑事判決105年度交易字第195號聲請人臺灣桃園地方法院檢察署檢察官被告江盞...   \n\n                                              Situation  \nid                                                       \n1480  被告楊惠玲與潘宥彤均因案於法務部矯正署臺中女子監獄執行中，同住於東南舍301號房內，詎於民國...  \n777   被告即告訴人江盞於民國104年4月14日上午9時48分許，無照騎乘車牌號碼000－000號輕...  ",
      "text/html": "<div>\n<style scoped>\n    .dataframe tbody tr th:only-of-type {\n        vertical-align: middle;\n    }\n\n    .dataframe tbody tr th {\n        vertical-align: top;\n    }\n\n    .dataframe thead th {\n        text-align: right;\n    }\n</style>\n<table border=\"1\" class=\"dataframe\">\n  <thead>\n    <tr style=\"text-align: right;\">\n      <th></th>\n      <th>court</th>\n      <th>date</th>\n      <th>no</th>\n      <th>sys</th>\n      <th>reason</th>\n      <th>type</th>\n      <th>mainText</th>\n      <th>judgement</th>\n      <th>Situation</th>\n    </tr>\n    <tr>\n      <th>id</th>\n      <th></th>\n      <th></th>\n      <th></th>\n      <th></th>\n      <th></th>\n      <th></th>\n      <th></th>\n      <th></th>\n      <th></th>\n    </tr>\n  </thead>\n  <tbody>\n    <tr>\n      <td>1480</td>\n      <td>臺灣臺中地方法院</td>\n      <td>2017-02-16T00:00:00+08:00</td>\n      <td>105,審易,3285</td>\n      <td>刑事</td>\n      <td>傷害</td>\n      <td>判決</td>\n      <td>本件公訴不受理。</td>\n      <td>臺灣臺中地方法院刑事判決105年度審易字第3285號公訴人臺灣臺中地方法院檢察署檢察官被告楊...</td>\n      <td>被告楊惠玲與潘宥彤均因案於法務部矯正署臺中女子監獄執行中，同住於東南舍301號房內，詎於民國...</td>\n    </tr>\n    <tr>\n      <td>777</td>\n      <td>臺灣桃園地方法院</td>\n      <td>2016-09-12T00:00:00+08:00</td>\n      <td>105,交易,195</td>\n      <td>刑事</td>\n      <td>過失傷害</td>\n      <td>判決</td>\n      <td>本件公訴不受理。</td>\n      <td>臺灣桃園地方法院刑事判決105年度交易字第195號聲請人臺灣桃園地方法院檢察署檢察官被告江盞...</td>\n      <td>被告即告訴人江盞於民國104年4月14日上午9時48分許，無照騎乘車牌號碼000－000號輕...</td>\n    </tr>\n  </tbody>\n</table>\n</div>"
     },
     "execution_count": 15,
     "metadata": {},
     "output_type": "execute_result"
    }
   ],
   "source": [
    "##拆分df\n",
    "df1=tmp.sample(n=train_num)#按0.6比例随机采样\n",
    "df1.head(2)"
   ],
   "metadata": {
    "collapsed": false,
    "pycharm": {
     "name": "#%%\n"
    }
   }
  },
  {
   "cell_type": "code",
   "execution_count": 16,
   "outputs": [
    {
     "data": {
      "text/plain": "court        3000\ndate         3000\nno           3000\nsys          3000\nreason       3000\ntype         3000\nmainText     3000\njudgement    3000\nSituation    3000\ndtype: int64"
     },
     "execution_count": 16,
     "metadata": {},
     "output_type": "execute_result"
    }
   ],
   "source": [
    "df1.count()"
   ],
   "metadata": {
    "collapsed": false,
    "pycharm": {
     "name": "#%%\n"
    }
   }
  },
  {
   "cell_type": "code",
   "execution_count": 17,
   "outputs": [
    {
     "data": {
      "text/plain": "court        0\ndate         0\nno           0\nsys          0\nreason       0\ntype         0\nmainText     0\njudgement    0\nSituation    0\ndtype: int64"
     },
     "execution_count": 17,
     "metadata": {},
     "output_type": "execute_result"
    }
   ],
   "source": [
    "df1[df1['Situation'].str.len() > 512].count()"
   ],
   "metadata": {
    "collapsed": false,
    "pycharm": {
     "name": "#%%\n"
    }
   }
  },
  {
   "cell_type": "code",
   "execution_count": 18,
   "outputs": [
    {
     "data": {
      "text/plain": "     id     court                       date          no sys reason type  \\\n0  2095  臺灣高雄地方法院  2016-11-30T00:00:00+08:00    105,易,50  刑事   妨害公務   判決   \n1  2872  臺灣臺南地方法院  2017-05-10T00:00:00+08:00  106,交易,262  刑事   公共危險   判決   \n\n                                           mainText  \\\n0           楊豐光犯侮辱公務員罪，累犯，處拘役陸拾日，如易科罰金，以新臺幣壹仟元折算壹日。   \n1  尤宏展駕駛動力交通工具而有吐氣所含酒精濃度達每公升零點二五毫克以上之情形，累犯，處有期徒刑捌月。   \n\n                                           judgement  \\\n0  臺灣高雄地方法院刑事判決105年度易字第50號公訴人臺灣高雄地方法院檢察署檢察官被告楊豐光選...   \n1  臺灣臺南地方法院刑事判決106年度交易字第262號公訴人臺灣臺南地方法院檢察署檢察官被告尤宏...   \n\n                                           Situation  \n0  楊豐光、林佳蓉均係「中央公園護樹護地聯盟」成員，渠等認高雄市政府在中央公園內進行之「李科永紀...  \n1  詎其仍不知悔改，明知飲酒過量將使操控動力交通工具之能力降低，易生交通事故，復於106年2月1...  ",
      "text/html": "<div>\n<style scoped>\n    .dataframe tbody tr th:only-of-type {\n        vertical-align: middle;\n    }\n\n    .dataframe tbody tr th {\n        vertical-align: top;\n    }\n\n    .dataframe thead th {\n        text-align: right;\n    }\n</style>\n<table border=\"1\" class=\"dataframe\">\n  <thead>\n    <tr style=\"text-align: right;\">\n      <th></th>\n      <th>id</th>\n      <th>court</th>\n      <th>date</th>\n      <th>no</th>\n      <th>sys</th>\n      <th>reason</th>\n      <th>type</th>\n      <th>mainText</th>\n      <th>judgement</th>\n      <th>Situation</th>\n    </tr>\n  </thead>\n  <tbody>\n    <tr>\n      <td>0</td>\n      <td>2095</td>\n      <td>臺灣高雄地方法院</td>\n      <td>2016-11-30T00:00:00+08:00</td>\n      <td>105,易,50</td>\n      <td>刑事</td>\n      <td>妨害公務</td>\n      <td>判決</td>\n      <td>楊豐光犯侮辱公務員罪，累犯，處拘役陸拾日，如易科罰金，以新臺幣壹仟元折算壹日。</td>\n      <td>臺灣高雄地方法院刑事判決105年度易字第50號公訴人臺灣高雄地方法院檢察署檢察官被告楊豐光選...</td>\n      <td>楊豐光、林佳蓉均係「中央公園護樹護地聯盟」成員，渠等認高雄市政府在中央公園內進行之「李科永紀...</td>\n    </tr>\n    <tr>\n      <td>1</td>\n      <td>2872</td>\n      <td>臺灣臺南地方法院</td>\n      <td>2017-05-10T00:00:00+08:00</td>\n      <td>106,交易,262</td>\n      <td>刑事</td>\n      <td>公共危險</td>\n      <td>判決</td>\n      <td>尤宏展駕駛動力交通工具而有吐氣所含酒精濃度達每公升零點二五毫克以上之情形，累犯，處有期徒刑捌月。</td>\n      <td>臺灣臺南地方法院刑事判決106年度交易字第262號公訴人臺灣臺南地方法院檢察署檢察官被告尤宏...</td>\n      <td>詎其仍不知悔改，明知飲酒過量將使操控動力交通工具之能力降低，易生交通事故，復於106年2月1...</td>\n    </tr>\n  </tbody>\n</table>\n</div>"
     },
     "execution_count": 18,
     "metadata": {},
     "output_type": "execute_result"
    }
   ],
   "source": [
    "df2=test\n",
    "df2.head(2)"
   ],
   "metadata": {
    "collapsed": false,
    "pycharm": {
     "name": "#%%\n"
    }
   }
  },
  {
   "cell_type": "code",
   "execution_count": 19,
   "outputs": [],
   "source": [
    "class Data(object):\n",
    "    def __init__(self):\n",
    "        self.paragraphs = []\n",
    "        self.id = \"0\"\n",
    "        self.title = \"\"\n",
    "\n",
    "class Djson(object):\n",
    "    def __init__(self):\n",
    "        self.version = \"v1.0\"\n",
    "        self.data = []\n",
    " "
   ],
   "metadata": {
    "collapsed": false,
    "pycharm": {
     "name": "#%%\n"
    }
   }
  },
  {
   "cell_type": "code",
   "execution_count": 20,
   "outputs": [],
   "source": [
    "djson1 = ''\n",
    "djson1 = Djson()\n",
    "for index, row in df1.iterrows():\n",
    "    try:\n",
    "        if (row.judgement.index(row.Situation) < 0):\n",
    "            print(index)\n",
    "            print(row.no)\n",
    "\n",
    "        d = Data()\n",
    "        d.paragraphs = [{\"id\" : \"TRAIN_\" + str(index),\n",
    "                      #\"context\" : row.reason + \"[SEP]\" + row.judgement,\n",
    "                      \"context\" : row.judgement,\n",
    "                      \"qas\":[{\n",
    "                          \"question\" :\"?\",\n",
    "                          \"id\" : \"TRAIN_\" + str(index) + \"_QUERY_0\",\n",
    "                          \"answers\" :[{\n",
    "                              \"text\" : row.Situation,\n",
    "                              \"answer_start\" : row.judgement.index(row.Situation) #+ len(row.reason + \"[SET]\")\n",
    "                          }]\n",
    "                      }]\n",
    "                    }\n",
    "                    ]\n",
    "        d.id = \"TRAIN_\" + str(index)\n",
    "        d.title = row.no\n",
    "        djson1.data.append(d)\n",
    "    except:\n",
    "        print(index)\n",
    "        print(row.no)"
   ],
   "metadata": {
    "collapsed": false,
    "pycharm": {
     "name": "#%%\n"
    }
   }
  },
  {
   "cell_type": "code",
   "execution_count": 21,
   "outputs": [],
   "source": [
    "y = json.dumps(djson1, default=lambda o: o.__dict__, ensure_ascii=False)"
   ],
   "metadata": {
    "collapsed": false,
    "pycharm": {
     "name": "#%%\n"
    }
   }
  },
  {
   "cell_type": "code",
   "execution_count": 22,
   "outputs": [],
   "source": [
    "with open('./QA_Test1/HBert/dataR5/train_'+ str(train_num) + '.json', 'w', encoding='utf8') as outfile:\n",
    "#with open('./QA_Test1/HBert/dataV3/train_'+ str(train_num) + '_Y.json', 'w', encoding='utf8') as outfile:\n",
    "    json.dump(djson1, outfile, default=lambda o: o.__dict__ , ensure_ascii=False)"
   ],
   "metadata": {
    "collapsed": false,
    "pycharm": {
     "name": "#%%\n"
    }
   }
  },
  {
   "cell_type": "code",
   "execution_count": 23,
   "outputs": [],
   "source": [
    "my_regex = r\"[\\(\\（]([^一二三四五六七八九零十1234567890]{1}[^\\)\\）]+|[一二三四五六七八九零十1234567890]{1}[^\\)\\）]{1,})[\\)\\）]\"\n",
    "\n",
    "df1['judgement'] = df1['judgement'].str.replace(my_regex, \"\")\n",
    "df1['Situation'] = df1['Situation'].str.replace(my_regex, \"\")"
   ],
   "metadata": {
    "collapsed": false,
    "pycharm": {
     "name": "#%%\n"
    }
   }
  },
  {
   "cell_type": "code",
   "execution_count": 24,
   "outputs": [
    {
     "name": "stdout",
     "output_type": "stream",
     "text": [
      "2816\n",
      "105,訴緝,43\n",
      "2560\n",
      "105,簡上,36\n",
      "3451\n",
      "106,易,739\n",
      "2003\n",
      "105,易,308\n",
      "221\n",
      "100,侵訴,63\n",
      "2449\n",
      "105,簡,198\n",
      "1600\n",
      "105,審簡,219\n",
      "3858\n",
      "106,訴緝,72\n",
      "3804\n",
      "106,訴,686\n",
      "2407\n",
      "105,智訴緝,1\n",
      "2035\n",
      "105,易,376\n",
      "3288\n",
      "106,易,2241\n"
     ]
    }
   ],
   "source": [
    "djson1 = ''\n",
    "djson1 = Djson()\n",
    "for index, row in df1.iterrows():\n",
    "    try:\n",
    "        if (row.judgement.index(row.Situation) < 0):\n",
    "            print(index)\n",
    "            print(row.no)\n",
    "\n",
    "        d = Data()\n",
    "        d.paragraphs = [{\"id\" : \"TRAIN_\" + str(index),\n",
    "                      #\"context\" : row.reason + \"[SEP]\" + row.judgement,\n",
    "                      \"context\" : row.judgement,\n",
    "                      \"qas\":[{\n",
    "                          \"question\" :\"?\",\n",
    "                          \"id\" : \"TRAIN_\" + str(index) + \"_QUERY_0\",\n",
    "                          \"answers\" :[{\n",
    "                              \"text\" : row.Situation,\n",
    "                              \"answer_start\" : row.judgement.index(row.Situation) #+ len(row.reason + \"[SET]\")\n",
    "                          }]\n",
    "                      }]\n",
    "                    }\n",
    "                    ]\n",
    "        d.id = \"TRAIN_\" + str(index)\n",
    "        d.title = row.no\n",
    "        djson1.data.append(d)\n",
    "    except:\n",
    "        print(index)\n",
    "        print(row.no)"
   ],
   "metadata": {
    "collapsed": false,
    "pycharm": {
     "name": "#%%\n"
    }
   }
  },
  {
   "cell_type": "code",
   "execution_count": 25,
   "outputs": [],
   "source": [
    "y = json.dumps(djson1, default=lambda o: o.__dict__, ensure_ascii=False)"
   ],
   "metadata": {
    "collapsed": false,
    "pycharm": {
     "name": "#%%\n"
    }
   }
  },
  {
   "cell_type": "code",
   "execution_count": 26,
   "outputs": [],
   "source": [
    "with open('./QA_Test1/HBert/dataR5/train_'+ str(train_num) + '_X.json', 'w', encoding='utf8') as outfile:\n",
    "#with open('./QA_Test1/HBert/dataV3/train_'+ str(train_num) + '_Y.json', 'w', encoding='utf8') as outfile:\n",
    "    json.dump(djson1, outfile, default=lambda o: o.__dict__ , ensure_ascii=False)"
   ],
   "metadata": {
    "collapsed": false,
    "pycharm": {
     "name": "#%%\n"
    }
   }
  },
  {
   "cell_type": "code",
   "execution_count": 27,
   "outputs": [
    {
     "name": "stdout",
     "output_type": "stream",
     "text": [
      "15\n"
     ]
    }
   ],
   "source": [
    "str = '0000000-0000000'\n",
    "print(len(str))"
   ],
   "metadata": {
    "collapsed": false,
    "pycharm": {
     "name": "#%%\n"
    }
   }
  }
 ],
 "metadata": {
  "kernelspec": {
   "display_name": "Python 3",
   "language": "python",
   "name": "python3"
  },
  "language_info": {
   "codemirror_mode": {
    "name": "ipython",
    "version": 3
   },
   "file_extension": ".py",
   "mimetype": "text/x-python",
   "name": "python",
   "nbconvert_exporter": "python",
   "pygments_lexer": "ipython3",
   "version": "3.6.4"
  }
 },
 "nbformat": 4,
 "nbformat_minor": 2
}